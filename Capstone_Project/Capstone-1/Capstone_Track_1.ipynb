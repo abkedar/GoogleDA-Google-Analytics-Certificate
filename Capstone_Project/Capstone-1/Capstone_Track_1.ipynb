{
  "nbformat": 4,
  "nbformat_minor": 0,
  "metadata": {
    "colab": {
      "name": "Capstone_Track_1.ipynb",
      "provenance": []
    },
    "kernelspec": {
      "name": "python3",
      "display_name": "Python 3"
    },
    "language_info": {
      "name": "python"
    }
  },
  "cells": [
    {
      "cell_type": "markdown",
      "source": [
        "# Case Study 1: How Does a Bike-Share Navigate Speedy Success?"
      ],
      "metadata": {
        "id": "qpnKiOGVSr7X"
      }
    },
    {
      "cell_type": "markdown",
      "source": [
        "## Project Descriptions:\n",
        "As a junior data analyst working in the marketing analyst team at Cyclistic, a bike-share company in Chicago. The director of marketing believes the company’s future success depends on maximizing the number of annual memberships. Therefore, me and my team wants to understand how casual riders and annual members use Cyclistic bikes."
      ],
      "metadata": {
        "id": "kzAUPJtuS8d2"
      }
    },
    {
      "cell_type": "markdown",
      "source": [
        "| Columns name | Description |\n",
        "| --- | --- |\n",
        "| ride_id | Rider's Id |\n",
        "| rideable_type\t| Type of Vehicle the rider took|\n",
        "| started_at | The location point where the cyclist pickup cycle |\n",
        "| ended_at | The location point where the cyclist ended cycle journey |\n",
        "| station_station_id | Etart station cycle pick point unique id |\n",
        "| ended_station_id | Ended station cycle drop point unique id |\n",
        "| start_station_name | Cycle journey start station name | \n",
        "| end_station_name | Cycle journey end station name |\n",
        "| start_lat | Start station latitude |\n",
        "| start_lng | Start station longitude |\n",
        "| end_lat | End station Latitude |\n",
        "| end_lng | End station Longitude |\n",
        "| member_causual | Type of Cyclist member |"
      ],
      "metadata": {
        "id": "RPHl43S1TTiN"
      }
    },
    {
      "cell_type": "markdown",
      "source": [
        "# Data sources used\n",
        "\n",
        "Divvy Data - The data has been processed to remove trips that are taken by staff as they service and inspect the system; and any trips that were below 60 seconds in length (potentially false starts or users trying to re-dock a bike to ensure it was secure). We have choosen 12 months data from April 2020 to March 2021.\n",
        "\n",
        "To download data click in this link [Divvy Data](https://divvy-tripdata.s3.amazonaws.com/index.html)"
      ],
      "metadata": {
        "id": "biCBRbO9XiE6"
      }
    },
    {
      "cell_type": "markdown",
      "source": [
        "# Business Task\n",
        "\n",
        "- How do annual members and casual riders use Cyclistic bikes differently?\n",
        "\n",
        "- Why would casual riders buy Cyclistic annual memberships?\n",
        "\n",
        "- How can Cyclistic use digital media to influence casual riders to become members?"
      ],
      "metadata": {
        "id": "Ke72P6q3XmJN"
      }
    },
    {
      "cell_type": "markdown",
      "source": [
        "# Metrics\n"
      ],
      "metadata": {
        "id": "GY8AAfZQXv8v"
      }
    },
    {
      "cell_type": "markdown",
      "source": [
        "# Assumptions"
      ],
      "metadata": {
        "id": "niVvBWBkXxRl"
      }
    },
    {
      "cell_type": "markdown",
      "source": [
        "# Data Tasks"
      ],
      "metadata": {
        "id": "KM8XJ3fuX0Oo"
      }
    },
    {
      "cell_type": "markdown",
      "source": [
        "# Recommendation for Action"
      ],
      "metadata": {
        "id": "56B7oh0LYAsA"
      }
    },
    {
      "cell_type": "markdown",
      "source": [
        "## Import Libraries"
      ],
      "metadata": {
        "id": "3v5TkmRhYHMz"
      }
    },
    {
      "cell_type": "code",
      "source": [
        "import numpy as np\n",
        "import pandas as pd\n",
        "import matplotlib.pyplot as plt\n",
        "import seaborn as sns\n",
        "import random\n",
        "\n",
        "import statsmodels.api as sm\n",
        "from statsmodels.formula.api import ols\n",
        "\n",
        "import datetime\n",
        "from datetime import datetime, timedelta\n",
        "\n",
        "import scipy.stats\n",
        "import os"
      ],
      "metadata": {
        "id": "XNh4-cWMUTph",
        "colab": {
          "base_uri": "https://localhost:8080/"
        },
        "outputId": "153173a7-83eb-41f8-f841-cb6aa38aa4d9"
      },
      "execution_count": null,
      "outputs": [
        {
          "output_type": "stream",
          "name": "stderr",
          "text": [
            "/usr/local/lib/python3.7/dist-packages/statsmodels/tools/_testing.py:19: FutureWarning: pandas.util.testing is deprecated. Use the functions in the public API at pandas.testing instead.\n",
            "  import pandas.util.testing as tm\n"
          ]
        }
      ]
    },
    {
      "cell_type": "markdown",
      "source": [
        "- Code to combine all data company over the 12 Month in to single file of CSV format."
      ],
      "metadata": {
        "id": "v-5QtdrrZ_WR"
      }
    },
    {
      "cell_type": "code",
      "source": [
        "# def myfunction(data):\n",
        "\n",
        "#   df = pd.DataFrame()  \n",
        "#   df_1 = pd.read_csv(data)\n",
        "#   df = df + df_1\n",
        "#   print(df_1)\n",
        "#   return df\n",
        "\n",
        "\n",
        "# dir = '/content/'\n",
        "# opened = []\n",
        "\n",
        "# df_2 = []\n",
        "# for file in os.listdir(dir):\n",
        "#   if file.endswith(\".csv\"):\n",
        "#     # df_1.append(myfunction(file))\n",
        "#     df1 = pd.read_csv(file, index_col= None, header = 0)\n",
        "#     opened.append(df1)\n",
        "\n",
        "\n",
        "# frame = pd.concat(opened, axis = 0, ignore_index = True)"
      ],
      "metadata": {
        "id": "kY4-Ho_LUTkI"
      },
      "execution_count": null,
      "outputs": []
    },
    {
      "cell_type": "code",
      "source": [
        "from google.colab import drive\n",
        "drive.mount('/content/drive')"
      ],
      "metadata": {
        "id": "9SIaOvdua6nY",
        "colab": {
          "base_uri": "https://localhost:8080/"
        },
        "outputId": "f01d192f-7877-44f2-f77e-ef157f62bdd0"
      },
      "execution_count": null,
      "outputs": [
        {
          "output_type": "stream",
          "name": "stdout",
          "text": [
            "Mounted at /content/drive\n"
          ]
        }
      ]
    },
    {
      "cell_type": "code",
      "source": [
        "df = pd.read_csv(\"/content/drive/MyDrive/'blog in marathi/Capstone/divvy_tripdata.csv\")"
      ],
      "metadata": {
        "colab": {
          "base_uri": "https://localhost:8080/"
        },
        "id": "OcbkZEBDTkEd",
        "outputId": "3c6ed1a3-c8e0-4113-fce8-2d994f972290"
      },
      "execution_count": null,
      "outputs": [
        {
          "output_type": "stream",
          "name": "stderr",
          "text": [
            "/usr/local/lib/python3.7/dist-packages/IPython/core/interactiveshell.py:2882: DtypeWarning: Columns (6,8) have mixed types.Specify dtype option on import or set low_memory=False.\n",
            "  exec(code_obj, self.user_global_ns, self.user_ns)\n"
          ]
        }
      ]
    },
    {
      "cell_type": "code",
      "source": [
        "df.head()"
      ],
      "metadata": {
        "colab": {
          "base_uri": "https://localhost:8080/",
          "height": 461
        },
        "id": "AdjgCd0XeYLE",
        "outputId": "8075cc7b-accb-44cb-9062-8a3383f457bb"
      },
      "execution_count": null,
      "outputs": [
        {
          "output_type": "execute_result",
          "data": {
            "text/plain": [
              "   Unnamed: 0           ride_id  rideable_type           started_at  \\\n",
              "0           0  E19E6F1B8D4C42ED  electric_bike  2021-01-23 16:14:19   \n",
              "1           1  DC88F20C2C55F27F  electric_bike  2021-01-27 18:43:08   \n",
              "2           2  EC45C94683FE3F27  electric_bike  2021-01-21 22:35:54   \n",
              "3           3  4FA453A75AE377DB  electric_bike  2021-01-07 13:31:13   \n",
              "4           4  BE5E8EB4E7263A0B  electric_bike  2021-01-23 02:24:02   \n",
              "\n",
              "              ended_at          start_station_name start_station_id  \\\n",
              "0  2021-01-23 16:24:44  California Ave & Cortez St            17660   \n",
              "1  2021-01-27 18:47:12  California Ave & Cortez St            17660   \n",
              "2  2021-01-21 22:37:14  California Ave & Cortez St            17660   \n",
              "3  2021-01-07 13:42:55  California Ave & Cortez St            17660   \n",
              "4  2021-01-23 02:24:45  California Ave & Cortez St            17660   \n",
              "\n",
              "  end_station_name end_station_id  start_lat  start_lng  end_lat  end_lng  \\\n",
              "0              NaN            NaN  41.900341 -87.696743    41.89   -87.72   \n",
              "1              NaN            NaN  41.900333 -87.696707    41.90   -87.69   \n",
              "2              NaN            NaN  41.900313 -87.696643    41.90   -87.70   \n",
              "3              NaN            NaN  41.900399 -87.696662    41.92   -87.69   \n",
              "4              NaN            NaN  41.900326 -87.696697    41.90   -87.70   \n",
              "\n",
              "  member_casual  \n",
              "0        member  \n",
              "1        member  \n",
              "2        member  \n",
              "3        member  \n",
              "4        casual  "
            ],
            "text/html": [
              "\n",
              "  <div id=\"df-e7a7a85b-1468-4fd2-9f52-fcf58c0b0af6\">\n",
              "    <div class=\"colab-df-container\">\n",
              "      <div>\n",
              "<style scoped>\n",
              "    .dataframe tbody tr th:only-of-type {\n",
              "        vertical-align: middle;\n",
              "    }\n",
              "\n",
              "    .dataframe tbody tr th {\n",
              "        vertical-align: top;\n",
              "    }\n",
              "\n",
              "    .dataframe thead th {\n",
              "        text-align: right;\n",
              "    }\n",
              "</style>\n",
              "<table border=\"1\" class=\"dataframe\">\n",
              "  <thead>\n",
              "    <tr style=\"text-align: right;\">\n",
              "      <th></th>\n",
              "      <th>Unnamed: 0</th>\n",
              "      <th>ride_id</th>\n",
              "      <th>rideable_type</th>\n",
              "      <th>started_at</th>\n",
              "      <th>ended_at</th>\n",
              "      <th>start_station_name</th>\n",
              "      <th>start_station_id</th>\n",
              "      <th>end_station_name</th>\n",
              "      <th>end_station_id</th>\n",
              "      <th>start_lat</th>\n",
              "      <th>start_lng</th>\n",
              "      <th>end_lat</th>\n",
              "      <th>end_lng</th>\n",
              "      <th>member_casual</th>\n",
              "    </tr>\n",
              "  </thead>\n",
              "  <tbody>\n",
              "    <tr>\n",
              "      <th>0</th>\n",
              "      <td>0</td>\n",
              "      <td>E19E6F1B8D4C42ED</td>\n",
              "      <td>electric_bike</td>\n",
              "      <td>2021-01-23 16:14:19</td>\n",
              "      <td>2021-01-23 16:24:44</td>\n",
              "      <td>California Ave &amp; Cortez St</td>\n",
              "      <td>17660</td>\n",
              "      <td>NaN</td>\n",
              "      <td>NaN</td>\n",
              "      <td>41.900341</td>\n",
              "      <td>-87.696743</td>\n",
              "      <td>41.89</td>\n",
              "      <td>-87.72</td>\n",
              "      <td>member</td>\n",
              "    </tr>\n",
              "    <tr>\n",
              "      <th>1</th>\n",
              "      <td>1</td>\n",
              "      <td>DC88F20C2C55F27F</td>\n",
              "      <td>electric_bike</td>\n",
              "      <td>2021-01-27 18:43:08</td>\n",
              "      <td>2021-01-27 18:47:12</td>\n",
              "      <td>California Ave &amp; Cortez St</td>\n",
              "      <td>17660</td>\n",
              "      <td>NaN</td>\n",
              "      <td>NaN</td>\n",
              "      <td>41.900333</td>\n",
              "      <td>-87.696707</td>\n",
              "      <td>41.90</td>\n",
              "      <td>-87.69</td>\n",
              "      <td>member</td>\n",
              "    </tr>\n",
              "    <tr>\n",
              "      <th>2</th>\n",
              "      <td>2</td>\n",
              "      <td>EC45C94683FE3F27</td>\n",
              "      <td>electric_bike</td>\n",
              "      <td>2021-01-21 22:35:54</td>\n",
              "      <td>2021-01-21 22:37:14</td>\n",
              "      <td>California Ave &amp; Cortez St</td>\n",
              "      <td>17660</td>\n",
              "      <td>NaN</td>\n",
              "      <td>NaN</td>\n",
              "      <td>41.900313</td>\n",
              "      <td>-87.696643</td>\n",
              "      <td>41.90</td>\n",
              "      <td>-87.70</td>\n",
              "      <td>member</td>\n",
              "    </tr>\n",
              "    <tr>\n",
              "      <th>3</th>\n",
              "      <td>3</td>\n",
              "      <td>4FA453A75AE377DB</td>\n",
              "      <td>electric_bike</td>\n",
              "      <td>2021-01-07 13:31:13</td>\n",
              "      <td>2021-01-07 13:42:55</td>\n",
              "      <td>California Ave &amp; Cortez St</td>\n",
              "      <td>17660</td>\n",
              "      <td>NaN</td>\n",
              "      <td>NaN</td>\n",
              "      <td>41.900399</td>\n",
              "      <td>-87.696662</td>\n",
              "      <td>41.92</td>\n",
              "      <td>-87.69</td>\n",
              "      <td>member</td>\n",
              "    </tr>\n",
              "    <tr>\n",
              "      <th>4</th>\n",
              "      <td>4</td>\n",
              "      <td>BE5E8EB4E7263A0B</td>\n",
              "      <td>electric_bike</td>\n",
              "      <td>2021-01-23 02:24:02</td>\n",
              "      <td>2021-01-23 02:24:45</td>\n",
              "      <td>California Ave &amp; Cortez St</td>\n",
              "      <td>17660</td>\n",
              "      <td>NaN</td>\n",
              "      <td>NaN</td>\n",
              "      <td>41.900326</td>\n",
              "      <td>-87.696697</td>\n",
              "      <td>41.90</td>\n",
              "      <td>-87.70</td>\n",
              "      <td>casual</td>\n",
              "    </tr>\n",
              "  </tbody>\n",
              "</table>\n",
              "</div>\n",
              "      <button class=\"colab-df-convert\" onclick=\"convertToInteractive('df-e7a7a85b-1468-4fd2-9f52-fcf58c0b0af6')\"\n",
              "              title=\"Convert this dataframe to an interactive table.\"\n",
              "              style=\"display:none;\">\n",
              "        \n",
              "  <svg xmlns=\"http://www.w3.org/2000/svg\" height=\"24px\"viewBox=\"0 0 24 24\"\n",
              "       width=\"24px\">\n",
              "    <path d=\"M0 0h24v24H0V0z\" fill=\"none\"/>\n",
              "    <path d=\"M18.56 5.44l.94 2.06.94-2.06 2.06-.94-2.06-.94-.94-2.06-.94 2.06-2.06.94zm-11 1L8.5 8.5l.94-2.06 2.06-.94-2.06-.94L8.5 2.5l-.94 2.06-2.06.94zm10 10l.94 2.06.94-2.06 2.06-.94-2.06-.94-.94-2.06-.94 2.06-2.06.94z\"/><path d=\"M17.41 7.96l-1.37-1.37c-.4-.4-.92-.59-1.43-.59-.52 0-1.04.2-1.43.59L10.3 9.45l-7.72 7.72c-.78.78-.78 2.05 0 2.83L4 21.41c.39.39.9.59 1.41.59.51 0 1.02-.2 1.41-.59l7.78-7.78 2.81-2.81c.8-.78.8-2.07 0-2.86zM5.41 20L4 18.59l7.72-7.72 1.47 1.35L5.41 20z\"/>\n",
              "  </svg>\n",
              "      </button>\n",
              "      \n",
              "  <style>\n",
              "    .colab-df-container {\n",
              "      display:flex;\n",
              "      flex-wrap:wrap;\n",
              "      gap: 12px;\n",
              "    }\n",
              "\n",
              "    .colab-df-convert {\n",
              "      background-color: #E8F0FE;\n",
              "      border: none;\n",
              "      border-radius: 50%;\n",
              "      cursor: pointer;\n",
              "      display: none;\n",
              "      fill: #1967D2;\n",
              "      height: 32px;\n",
              "      padding: 0 0 0 0;\n",
              "      width: 32px;\n",
              "    }\n",
              "\n",
              "    .colab-df-convert:hover {\n",
              "      background-color: #E2EBFA;\n",
              "      box-shadow: 0px 1px 2px rgba(60, 64, 67, 0.3), 0px 1px 3px 1px rgba(60, 64, 67, 0.15);\n",
              "      fill: #174EA6;\n",
              "    }\n",
              "\n",
              "    [theme=dark] .colab-df-convert {\n",
              "      background-color: #3B4455;\n",
              "      fill: #D2E3FC;\n",
              "    }\n",
              "\n",
              "    [theme=dark] .colab-df-convert:hover {\n",
              "      background-color: #434B5C;\n",
              "      box-shadow: 0px 1px 3px 1px rgba(0, 0, 0, 0.15);\n",
              "      filter: drop-shadow(0px 1px 2px rgba(0, 0, 0, 0.3));\n",
              "      fill: #FFFFFF;\n",
              "    }\n",
              "  </style>\n",
              "\n",
              "      <script>\n",
              "        const buttonEl =\n",
              "          document.querySelector('#df-e7a7a85b-1468-4fd2-9f52-fcf58c0b0af6 button.colab-df-convert');\n",
              "        buttonEl.style.display =\n",
              "          google.colab.kernel.accessAllowed ? 'block' : 'none';\n",
              "\n",
              "        async function convertToInteractive(key) {\n",
              "          const element = document.querySelector('#df-e7a7a85b-1468-4fd2-9f52-fcf58c0b0af6');\n",
              "          const dataTable =\n",
              "            await google.colab.kernel.invokeFunction('convertToInteractive',\n",
              "                                                     [key], {});\n",
              "          if (!dataTable) return;\n",
              "\n",
              "          const docLinkHtml = 'Like what you see? Visit the ' +\n",
              "            '<a target=\"_blank\" href=https://colab.research.google.com/notebooks/data_table.ipynb>data table notebook</a>'\n",
              "            + ' to learn more about interactive tables.';\n",
              "          element.innerHTML = '';\n",
              "          dataTable['output_type'] = 'display_data';\n",
              "          await google.colab.output.renderOutput(dataTable, element);\n",
              "          const docLink = document.createElement('div');\n",
              "          docLink.innerHTML = docLinkHtml;\n",
              "          element.appendChild(docLink);\n",
              "        }\n",
              "      </script>\n",
              "    </div>\n",
              "  </div>\n",
              "  "
            ]
          },
          "metadata": {},
          "execution_count": 153
        }
      ]
    },
    {
      "cell_type": "markdown",
      "source": [
        "### Sort data by Starting data."
      ],
      "metadata": {
        "id": "k1x25iToaZyz"
      }
    },
    {
      "cell_type": "code",
      "source": [
        "df = df.sort_values(by='started_at', inplace=False)\n",
        "df.drop(['Unnamed: 0'], axis=1, inplace=True)\n",
        "df.reset_index(inplace=True, drop=True)"
      ],
      "metadata": {
        "id": "XDwWdEZyjtNI"
      },
      "execution_count": null,
      "outputs": []
    },
    {
      "cell_type": "code",
      "source": [
        "df.head()"
      ],
      "metadata": {
        "colab": {
          "base_uri": "https://localhost:8080/",
          "height": 444
        },
        "id": "MBW-HE47Kr0t",
        "outputId": "91502da0-fe3b-4431-821f-b72c297c2725"
      },
      "execution_count": null,
      "outputs": [
        {
          "output_type": "execute_result",
          "data": {
            "text/plain": [
              "            ride_id rideable_type           started_at             ended_at  \\\n",
              "0  5DB63F4E4EB6A9CF   docked_bike  2020-04-01 00:00:30  2020-04-01 00:23:03   \n",
              "1  1FD159E93F7BAFA1   docked_bike  2020-04-01 00:02:35  2020-04-01 00:10:45   \n",
              "2  6D93A270684EC452   docked_bike  2020-04-01 00:02:41  2020-04-01 00:24:20   \n",
              "3  091D47E4F0FC5022   docked_bike  2020-04-01 00:06:44  2020-04-01 00:14:01   \n",
              "4  07F785C9DDA3404C   docked_bike  2020-04-01 00:11:18  2020-04-01 00:11:51   \n",
              "\n",
              "                    start_station_name start_station_id  \\\n",
              "0           Damen Ave & Wellington Ave              162   \n",
              "1                 Wabash Ave & 16th St               72   \n",
              "2           Damen Ave & Wellington Ave              162   \n",
              "3  Mies van der Rohe Way & Chicago Ave              173   \n",
              "4                  Wabash Ave & 9th St              321   \n",
              "\n",
              "                end_station_name end_station_id  start_lat  start_lng  \\\n",
              "0  Pine Grove Ave & Waveland Ave          232.0    41.9359   -87.6784   \n",
              "1            Wabash Ave & 9th St          321.0    41.8604   -87.6258   \n",
              "2   Spaulding Ave & Armitage Ave          506.0    41.9359   -87.6784   \n",
              "3         Clark St & Schiller St          301.0    41.8969   -87.6217   \n",
              "4            Wabash Ave & 9th St          321.0    41.8708   -87.6257   \n",
              "\n",
              "   end_lat  end_lng member_casual  \n",
              "0  41.9493 -87.6463        casual  \n",
              "1  41.8708 -87.6257        member  \n",
              "2  41.9171 -87.7102        casual  \n",
              "3  41.9080 -87.6315        member  \n",
              "4  41.8708 -87.6257        member  "
            ],
            "text/html": [
              "\n",
              "  <div id=\"df-6093a612-ef6f-4630-995e-1ce49c7fedda\">\n",
              "    <div class=\"colab-df-container\">\n",
              "      <div>\n",
              "<style scoped>\n",
              "    .dataframe tbody tr th:only-of-type {\n",
              "        vertical-align: middle;\n",
              "    }\n",
              "\n",
              "    .dataframe tbody tr th {\n",
              "        vertical-align: top;\n",
              "    }\n",
              "\n",
              "    .dataframe thead th {\n",
              "        text-align: right;\n",
              "    }\n",
              "</style>\n",
              "<table border=\"1\" class=\"dataframe\">\n",
              "  <thead>\n",
              "    <tr style=\"text-align: right;\">\n",
              "      <th></th>\n",
              "      <th>ride_id</th>\n",
              "      <th>rideable_type</th>\n",
              "      <th>started_at</th>\n",
              "      <th>ended_at</th>\n",
              "      <th>start_station_name</th>\n",
              "      <th>start_station_id</th>\n",
              "      <th>end_station_name</th>\n",
              "      <th>end_station_id</th>\n",
              "      <th>start_lat</th>\n",
              "      <th>start_lng</th>\n",
              "      <th>end_lat</th>\n",
              "      <th>end_lng</th>\n",
              "      <th>member_casual</th>\n",
              "    </tr>\n",
              "  </thead>\n",
              "  <tbody>\n",
              "    <tr>\n",
              "      <th>0</th>\n",
              "      <td>5DB63F4E4EB6A9CF</td>\n",
              "      <td>docked_bike</td>\n",
              "      <td>2020-04-01 00:00:30</td>\n",
              "      <td>2020-04-01 00:23:03</td>\n",
              "      <td>Damen Ave &amp; Wellington Ave</td>\n",
              "      <td>162</td>\n",
              "      <td>Pine Grove Ave &amp; Waveland Ave</td>\n",
              "      <td>232.0</td>\n",
              "      <td>41.9359</td>\n",
              "      <td>-87.6784</td>\n",
              "      <td>41.9493</td>\n",
              "      <td>-87.6463</td>\n",
              "      <td>casual</td>\n",
              "    </tr>\n",
              "    <tr>\n",
              "      <th>1</th>\n",
              "      <td>1FD159E93F7BAFA1</td>\n",
              "      <td>docked_bike</td>\n",
              "      <td>2020-04-01 00:02:35</td>\n",
              "      <td>2020-04-01 00:10:45</td>\n",
              "      <td>Wabash Ave &amp; 16th St</td>\n",
              "      <td>72</td>\n",
              "      <td>Wabash Ave &amp; 9th St</td>\n",
              "      <td>321.0</td>\n",
              "      <td>41.8604</td>\n",
              "      <td>-87.6258</td>\n",
              "      <td>41.8708</td>\n",
              "      <td>-87.6257</td>\n",
              "      <td>member</td>\n",
              "    </tr>\n",
              "    <tr>\n",
              "      <th>2</th>\n",
              "      <td>6D93A270684EC452</td>\n",
              "      <td>docked_bike</td>\n",
              "      <td>2020-04-01 00:02:41</td>\n",
              "      <td>2020-04-01 00:24:20</td>\n",
              "      <td>Damen Ave &amp; Wellington Ave</td>\n",
              "      <td>162</td>\n",
              "      <td>Spaulding Ave &amp; Armitage Ave</td>\n",
              "      <td>506.0</td>\n",
              "      <td>41.9359</td>\n",
              "      <td>-87.6784</td>\n",
              "      <td>41.9171</td>\n",
              "      <td>-87.7102</td>\n",
              "      <td>casual</td>\n",
              "    </tr>\n",
              "    <tr>\n",
              "      <th>3</th>\n",
              "      <td>091D47E4F0FC5022</td>\n",
              "      <td>docked_bike</td>\n",
              "      <td>2020-04-01 00:06:44</td>\n",
              "      <td>2020-04-01 00:14:01</td>\n",
              "      <td>Mies van der Rohe Way &amp; Chicago Ave</td>\n",
              "      <td>173</td>\n",
              "      <td>Clark St &amp; Schiller St</td>\n",
              "      <td>301.0</td>\n",
              "      <td>41.8969</td>\n",
              "      <td>-87.6217</td>\n",
              "      <td>41.9080</td>\n",
              "      <td>-87.6315</td>\n",
              "      <td>member</td>\n",
              "    </tr>\n",
              "    <tr>\n",
              "      <th>4</th>\n",
              "      <td>07F785C9DDA3404C</td>\n",
              "      <td>docked_bike</td>\n",
              "      <td>2020-04-01 00:11:18</td>\n",
              "      <td>2020-04-01 00:11:51</td>\n",
              "      <td>Wabash Ave &amp; 9th St</td>\n",
              "      <td>321</td>\n",
              "      <td>Wabash Ave &amp; 9th St</td>\n",
              "      <td>321.0</td>\n",
              "      <td>41.8708</td>\n",
              "      <td>-87.6257</td>\n",
              "      <td>41.8708</td>\n",
              "      <td>-87.6257</td>\n",
              "      <td>member</td>\n",
              "    </tr>\n",
              "  </tbody>\n",
              "</table>\n",
              "</div>\n",
              "      <button class=\"colab-df-convert\" onclick=\"convertToInteractive('df-6093a612-ef6f-4630-995e-1ce49c7fedda')\"\n",
              "              title=\"Convert this dataframe to an interactive table.\"\n",
              "              style=\"display:none;\">\n",
              "        \n",
              "  <svg xmlns=\"http://www.w3.org/2000/svg\" height=\"24px\"viewBox=\"0 0 24 24\"\n",
              "       width=\"24px\">\n",
              "    <path d=\"M0 0h24v24H0V0z\" fill=\"none\"/>\n",
              "    <path d=\"M18.56 5.44l.94 2.06.94-2.06 2.06-.94-2.06-.94-.94-2.06-.94 2.06-2.06.94zm-11 1L8.5 8.5l.94-2.06 2.06-.94-2.06-.94L8.5 2.5l-.94 2.06-2.06.94zm10 10l.94 2.06.94-2.06 2.06-.94-2.06-.94-.94-2.06-.94 2.06-2.06.94z\"/><path d=\"M17.41 7.96l-1.37-1.37c-.4-.4-.92-.59-1.43-.59-.52 0-1.04.2-1.43.59L10.3 9.45l-7.72 7.72c-.78.78-.78 2.05 0 2.83L4 21.41c.39.39.9.59 1.41.59.51 0 1.02-.2 1.41-.59l7.78-7.78 2.81-2.81c.8-.78.8-2.07 0-2.86zM5.41 20L4 18.59l7.72-7.72 1.47 1.35L5.41 20z\"/>\n",
              "  </svg>\n",
              "      </button>\n",
              "      \n",
              "  <style>\n",
              "    .colab-df-container {\n",
              "      display:flex;\n",
              "      flex-wrap:wrap;\n",
              "      gap: 12px;\n",
              "    }\n",
              "\n",
              "    .colab-df-convert {\n",
              "      background-color: #E8F0FE;\n",
              "      border: none;\n",
              "      border-radius: 50%;\n",
              "      cursor: pointer;\n",
              "      display: none;\n",
              "      fill: #1967D2;\n",
              "      height: 32px;\n",
              "      padding: 0 0 0 0;\n",
              "      width: 32px;\n",
              "    }\n",
              "\n",
              "    .colab-df-convert:hover {\n",
              "      background-color: #E2EBFA;\n",
              "      box-shadow: 0px 1px 2px rgba(60, 64, 67, 0.3), 0px 1px 3px 1px rgba(60, 64, 67, 0.15);\n",
              "      fill: #174EA6;\n",
              "    }\n",
              "\n",
              "    [theme=dark] .colab-df-convert {\n",
              "      background-color: #3B4455;\n",
              "      fill: #D2E3FC;\n",
              "    }\n",
              "\n",
              "    [theme=dark] .colab-df-convert:hover {\n",
              "      background-color: #434B5C;\n",
              "      box-shadow: 0px 1px 3px 1px rgba(0, 0, 0, 0.15);\n",
              "      filter: drop-shadow(0px 1px 2px rgba(0, 0, 0, 0.3));\n",
              "      fill: #FFFFFF;\n",
              "    }\n",
              "  </style>\n",
              "\n",
              "      <script>\n",
              "        const buttonEl =\n",
              "          document.querySelector('#df-6093a612-ef6f-4630-995e-1ce49c7fedda button.colab-df-convert');\n",
              "        buttonEl.style.display =\n",
              "          google.colab.kernel.accessAllowed ? 'block' : 'none';\n",
              "\n",
              "        async function convertToInteractive(key) {\n",
              "          const element = document.querySelector('#df-6093a612-ef6f-4630-995e-1ce49c7fedda');\n",
              "          const dataTable =\n",
              "            await google.colab.kernel.invokeFunction('convertToInteractive',\n",
              "                                                     [key], {});\n",
              "          if (!dataTable) return;\n",
              "\n",
              "          const docLinkHtml = 'Like what you see? Visit the ' +\n",
              "            '<a target=\"_blank\" href=https://colab.research.google.com/notebooks/data_table.ipynb>data table notebook</a>'\n",
              "            + ' to learn more about interactive tables.';\n",
              "          element.innerHTML = '';\n",
              "          dataTable['output_type'] = 'display_data';\n",
              "          await google.colab.output.renderOutput(dataTable, element);\n",
              "          const docLink = document.createElement('div');\n",
              "          docLink.innerHTML = docLinkHtml;\n",
              "          element.appendChild(docLink);\n",
              "        }\n",
              "      </script>\n",
              "    </div>\n",
              "  </div>\n",
              "  "
            ]
          },
          "metadata": {},
          "execution_count": 156
        }
      ]
    },
    {
      "cell_type": "markdown",
      "source": [
        "- Get the Number of Null values in each columns"
      ],
      "metadata": {
        "id": "ZOYUaebBa3O4"
      }
    },
    {
      "cell_type": "code",
      "source": [
        "df.isna().sum()"
      ],
      "metadata": {
        "colab": {
          "base_uri": "https://localhost:8080/"
        },
        "id": "giuAjtwoK17x",
        "outputId": "caba45df-372a-4f03-b67e-7ec04ae0581d"
      },
      "execution_count": null,
      "outputs": [
        {
          "output_type": "execute_result",
          "data": {
            "text/plain": [
              "ride_id                    0\n",
              "rideable_type              0\n",
              "started_at                 0\n",
              "ended_at                   0\n",
              "start_station_name    114151\n",
              "start_station_id      114688\n",
              "end_station_name      133248\n",
              "end_station_id        133645\n",
              "start_lat                  1\n",
              "start_lng                  1\n",
              "end_lat                 3981\n",
              "end_lng                 3981\n",
              "member_casual              2\n",
              "dtype: int64"
            ]
          },
          "metadata": {},
          "execution_count": 157
        }
      ]
    },
    {
      "cell_type": "markdown",
      "source": [
        "- Get the Summary of data"
      ],
      "metadata": {
        "id": "0NetW21abDvw"
      }
    },
    {
      "cell_type": "code",
      "source": [
        "df.describe(include='all')"
      ],
      "metadata": {
        "colab": {
          "base_uri": "https://localhost:8080/",
          "height": 493
        },
        "id": "oqGNR3YubHdQ",
        "outputId": "5088f859-873f-4e3c-80cf-8cc6739b4f2b"
      },
      "execution_count": null,
      "outputs": [
        {
          "output_type": "execute_result",
          "data": {
            "text/plain": [
              "                 ride_id rideable_type           started_at  \\\n",
              "count            3006373       3006373              3006373   \n",
              "unique           3006164             3              2685910   \n",
              "top     282A7A754D3C0B74   docked_bike  2020-10-09 17:08:37   \n",
              "freq                   2       2126078                   11   \n",
              "mean                 NaN           NaN                  NaN   \n",
              "std                  NaN           NaN                  NaN   \n",
              "min                  NaN           NaN                  NaN   \n",
              "25%                  NaN           NaN                  NaN   \n",
              "50%                  NaN           NaN                  NaN   \n",
              "75%                  NaN           NaN                  NaN   \n",
              "max                  NaN           NaN                  NaN   \n",
              "\n",
              "                   ended_at       start_station_name  start_station_id  \\\n",
              "count               3006373                  2892222         2891685.0   \n",
              "unique              2675035                      707            2462.0   \n",
              "top     2020-10-14 07:23:00  Streeter Dr & Grand Ave              35.0   \n",
              "freq                     13                    28352           24064.0   \n",
              "mean                    NaN                      NaN               NaN   \n",
              "std                     NaN                      NaN               NaN   \n",
              "min                     NaN                      NaN               NaN   \n",
              "25%                     NaN                      NaN               NaN   \n",
              "50%                     NaN                      NaN               NaN   \n",
              "75%                     NaN                      NaN               NaN   \n",
              "max                     NaN                      NaN               NaN   \n",
              "\n",
              "               end_station_name  end_station_id     start_lat     start_lng  \\\n",
              "count                   2873125       2872728.0  3.006372e+06  3.006372e+06   \n",
              "unique                      706          1998.0           NaN           NaN   \n",
              "top     Streeter Dr & Grand Ave            35.0           NaN           NaN   \n",
              "freq                      29809         25454.0           NaN           NaN   \n",
              "mean                        NaN             NaN  4.190409e+01 -8.764515e+01   \n",
              "std                         NaN             NaN  4.387650e-02  2.588931e-02   \n",
              "min                         NaN             NaN  4.164000e+01 -8.787000e+01   \n",
              "25%                         NaN             NaN  4.188224e+01 -8.765914e+01   \n",
              "50%                         NaN             NaN  4.190000e+01 -8.764182e+01   \n",
              "75%                         NaN             NaN  4.193000e+01 -8.762775e+01   \n",
              "max                         NaN             NaN  4.208000e+01 -8.752000e+01   \n",
              "\n",
              "             end_lat       end_lng member_casual  \n",
              "count   3.002392e+06  3.002392e+06       3006371  \n",
              "unique           NaN           NaN             3  \n",
              "top              NaN           NaN        member  \n",
              "freq             NaN           NaN       1799134  \n",
              "mean    4.190435e+01 -8.764543e+01           NaN  \n",
              "std     4.396224e-02  2.600856e-02           NaN  \n",
              "min     4.154000e+01 -8.807000e+01           NaN  \n",
              "25%     4.188266e+01 -8.765966e+01           NaN  \n",
              "50%     4.190068e+01 -8.764293e+01           NaN  \n",
              "75%     4.193120e+01 -8.762784e+01           NaN  \n",
              "max     4.216000e+01 -8.744000e+01           NaN  "
            ],
            "text/html": [
              "\n",
              "  <div id=\"df-6e2f8c44-1fb1-4654-95da-44e505494d99\">\n",
              "    <div class=\"colab-df-container\">\n",
              "      <div>\n",
              "<style scoped>\n",
              "    .dataframe tbody tr th:only-of-type {\n",
              "        vertical-align: middle;\n",
              "    }\n",
              "\n",
              "    .dataframe tbody tr th {\n",
              "        vertical-align: top;\n",
              "    }\n",
              "\n",
              "    .dataframe thead th {\n",
              "        text-align: right;\n",
              "    }\n",
              "</style>\n",
              "<table border=\"1\" class=\"dataframe\">\n",
              "  <thead>\n",
              "    <tr style=\"text-align: right;\">\n",
              "      <th></th>\n",
              "      <th>ride_id</th>\n",
              "      <th>rideable_type</th>\n",
              "      <th>started_at</th>\n",
              "      <th>ended_at</th>\n",
              "      <th>start_station_name</th>\n",
              "      <th>start_station_id</th>\n",
              "      <th>end_station_name</th>\n",
              "      <th>end_station_id</th>\n",
              "      <th>start_lat</th>\n",
              "      <th>start_lng</th>\n",
              "      <th>end_lat</th>\n",
              "      <th>end_lng</th>\n",
              "      <th>member_casual</th>\n",
              "    </tr>\n",
              "  </thead>\n",
              "  <tbody>\n",
              "    <tr>\n",
              "      <th>count</th>\n",
              "      <td>3006373</td>\n",
              "      <td>3006373</td>\n",
              "      <td>3006373</td>\n",
              "      <td>3006373</td>\n",
              "      <td>2892222</td>\n",
              "      <td>2891685.0</td>\n",
              "      <td>2873125</td>\n",
              "      <td>2872728.0</td>\n",
              "      <td>3.006372e+06</td>\n",
              "      <td>3.006372e+06</td>\n",
              "      <td>3.002392e+06</td>\n",
              "      <td>3.002392e+06</td>\n",
              "      <td>3006371</td>\n",
              "    </tr>\n",
              "    <tr>\n",
              "      <th>unique</th>\n",
              "      <td>3006164</td>\n",
              "      <td>3</td>\n",
              "      <td>2685910</td>\n",
              "      <td>2675035</td>\n",
              "      <td>707</td>\n",
              "      <td>2462.0</td>\n",
              "      <td>706</td>\n",
              "      <td>1998.0</td>\n",
              "      <td>NaN</td>\n",
              "      <td>NaN</td>\n",
              "      <td>NaN</td>\n",
              "      <td>NaN</td>\n",
              "      <td>3</td>\n",
              "    </tr>\n",
              "    <tr>\n",
              "      <th>top</th>\n",
              "      <td>282A7A754D3C0B74</td>\n",
              "      <td>docked_bike</td>\n",
              "      <td>2020-10-09 17:08:37</td>\n",
              "      <td>2020-10-14 07:23:00</td>\n",
              "      <td>Streeter Dr &amp; Grand Ave</td>\n",
              "      <td>35.0</td>\n",
              "      <td>Streeter Dr &amp; Grand Ave</td>\n",
              "      <td>35.0</td>\n",
              "      <td>NaN</td>\n",
              "      <td>NaN</td>\n",
              "      <td>NaN</td>\n",
              "      <td>NaN</td>\n",
              "      <td>member</td>\n",
              "    </tr>\n",
              "    <tr>\n",
              "      <th>freq</th>\n",
              "      <td>2</td>\n",
              "      <td>2126078</td>\n",
              "      <td>11</td>\n",
              "      <td>13</td>\n",
              "      <td>28352</td>\n",
              "      <td>24064.0</td>\n",
              "      <td>29809</td>\n",
              "      <td>25454.0</td>\n",
              "      <td>NaN</td>\n",
              "      <td>NaN</td>\n",
              "      <td>NaN</td>\n",
              "      <td>NaN</td>\n",
              "      <td>1799134</td>\n",
              "    </tr>\n",
              "    <tr>\n",
              "      <th>mean</th>\n",
              "      <td>NaN</td>\n",
              "      <td>NaN</td>\n",
              "      <td>NaN</td>\n",
              "      <td>NaN</td>\n",
              "      <td>NaN</td>\n",
              "      <td>NaN</td>\n",
              "      <td>NaN</td>\n",
              "      <td>NaN</td>\n",
              "      <td>4.190409e+01</td>\n",
              "      <td>-8.764515e+01</td>\n",
              "      <td>4.190435e+01</td>\n",
              "      <td>-8.764543e+01</td>\n",
              "      <td>NaN</td>\n",
              "    </tr>\n",
              "    <tr>\n",
              "      <th>std</th>\n",
              "      <td>NaN</td>\n",
              "      <td>NaN</td>\n",
              "      <td>NaN</td>\n",
              "      <td>NaN</td>\n",
              "      <td>NaN</td>\n",
              "      <td>NaN</td>\n",
              "      <td>NaN</td>\n",
              "      <td>NaN</td>\n",
              "      <td>4.387650e-02</td>\n",
              "      <td>2.588931e-02</td>\n",
              "      <td>4.396224e-02</td>\n",
              "      <td>2.600856e-02</td>\n",
              "      <td>NaN</td>\n",
              "    </tr>\n",
              "    <tr>\n",
              "      <th>min</th>\n",
              "      <td>NaN</td>\n",
              "      <td>NaN</td>\n",
              "      <td>NaN</td>\n",
              "      <td>NaN</td>\n",
              "      <td>NaN</td>\n",
              "      <td>NaN</td>\n",
              "      <td>NaN</td>\n",
              "      <td>NaN</td>\n",
              "      <td>4.164000e+01</td>\n",
              "      <td>-8.787000e+01</td>\n",
              "      <td>4.154000e+01</td>\n",
              "      <td>-8.807000e+01</td>\n",
              "      <td>NaN</td>\n",
              "    </tr>\n",
              "    <tr>\n",
              "      <th>25%</th>\n",
              "      <td>NaN</td>\n",
              "      <td>NaN</td>\n",
              "      <td>NaN</td>\n",
              "      <td>NaN</td>\n",
              "      <td>NaN</td>\n",
              "      <td>NaN</td>\n",
              "      <td>NaN</td>\n",
              "      <td>NaN</td>\n",
              "      <td>4.188224e+01</td>\n",
              "      <td>-8.765914e+01</td>\n",
              "      <td>4.188266e+01</td>\n",
              "      <td>-8.765966e+01</td>\n",
              "      <td>NaN</td>\n",
              "    </tr>\n",
              "    <tr>\n",
              "      <th>50%</th>\n",
              "      <td>NaN</td>\n",
              "      <td>NaN</td>\n",
              "      <td>NaN</td>\n",
              "      <td>NaN</td>\n",
              "      <td>NaN</td>\n",
              "      <td>NaN</td>\n",
              "      <td>NaN</td>\n",
              "      <td>NaN</td>\n",
              "      <td>4.190000e+01</td>\n",
              "      <td>-8.764182e+01</td>\n",
              "      <td>4.190068e+01</td>\n",
              "      <td>-8.764293e+01</td>\n",
              "      <td>NaN</td>\n",
              "    </tr>\n",
              "    <tr>\n",
              "      <th>75%</th>\n",
              "      <td>NaN</td>\n",
              "      <td>NaN</td>\n",
              "      <td>NaN</td>\n",
              "      <td>NaN</td>\n",
              "      <td>NaN</td>\n",
              "      <td>NaN</td>\n",
              "      <td>NaN</td>\n",
              "      <td>NaN</td>\n",
              "      <td>4.193000e+01</td>\n",
              "      <td>-8.762775e+01</td>\n",
              "      <td>4.193120e+01</td>\n",
              "      <td>-8.762784e+01</td>\n",
              "      <td>NaN</td>\n",
              "    </tr>\n",
              "    <tr>\n",
              "      <th>max</th>\n",
              "      <td>NaN</td>\n",
              "      <td>NaN</td>\n",
              "      <td>NaN</td>\n",
              "      <td>NaN</td>\n",
              "      <td>NaN</td>\n",
              "      <td>NaN</td>\n",
              "      <td>NaN</td>\n",
              "      <td>NaN</td>\n",
              "      <td>4.208000e+01</td>\n",
              "      <td>-8.752000e+01</td>\n",
              "      <td>4.216000e+01</td>\n",
              "      <td>-8.744000e+01</td>\n",
              "      <td>NaN</td>\n",
              "    </tr>\n",
              "  </tbody>\n",
              "</table>\n",
              "</div>\n",
              "      <button class=\"colab-df-convert\" onclick=\"convertToInteractive('df-6e2f8c44-1fb1-4654-95da-44e505494d99')\"\n",
              "              title=\"Convert this dataframe to an interactive table.\"\n",
              "              style=\"display:none;\">\n",
              "        \n",
              "  <svg xmlns=\"http://www.w3.org/2000/svg\" height=\"24px\"viewBox=\"0 0 24 24\"\n",
              "       width=\"24px\">\n",
              "    <path d=\"M0 0h24v24H0V0z\" fill=\"none\"/>\n",
              "    <path d=\"M18.56 5.44l.94 2.06.94-2.06 2.06-.94-2.06-.94-.94-2.06-.94 2.06-2.06.94zm-11 1L8.5 8.5l.94-2.06 2.06-.94-2.06-.94L8.5 2.5l-.94 2.06-2.06.94zm10 10l.94 2.06.94-2.06 2.06-.94-2.06-.94-.94-2.06-.94 2.06-2.06.94z\"/><path d=\"M17.41 7.96l-1.37-1.37c-.4-.4-.92-.59-1.43-.59-.52 0-1.04.2-1.43.59L10.3 9.45l-7.72 7.72c-.78.78-.78 2.05 0 2.83L4 21.41c.39.39.9.59 1.41.59.51 0 1.02-.2 1.41-.59l7.78-7.78 2.81-2.81c.8-.78.8-2.07 0-2.86zM5.41 20L4 18.59l7.72-7.72 1.47 1.35L5.41 20z\"/>\n",
              "  </svg>\n",
              "      </button>\n",
              "      \n",
              "  <style>\n",
              "    .colab-df-container {\n",
              "      display:flex;\n",
              "      flex-wrap:wrap;\n",
              "      gap: 12px;\n",
              "    }\n",
              "\n",
              "    .colab-df-convert {\n",
              "      background-color: #E8F0FE;\n",
              "      border: none;\n",
              "      border-radius: 50%;\n",
              "      cursor: pointer;\n",
              "      display: none;\n",
              "      fill: #1967D2;\n",
              "      height: 32px;\n",
              "      padding: 0 0 0 0;\n",
              "      width: 32px;\n",
              "    }\n",
              "\n",
              "    .colab-df-convert:hover {\n",
              "      background-color: #E2EBFA;\n",
              "      box-shadow: 0px 1px 2px rgba(60, 64, 67, 0.3), 0px 1px 3px 1px rgba(60, 64, 67, 0.15);\n",
              "      fill: #174EA6;\n",
              "    }\n",
              "\n",
              "    [theme=dark] .colab-df-convert {\n",
              "      background-color: #3B4455;\n",
              "      fill: #D2E3FC;\n",
              "    }\n",
              "\n",
              "    [theme=dark] .colab-df-convert:hover {\n",
              "      background-color: #434B5C;\n",
              "      box-shadow: 0px 1px 3px 1px rgba(0, 0, 0, 0.15);\n",
              "      filter: drop-shadow(0px 1px 2px rgba(0, 0, 0, 0.3));\n",
              "      fill: #FFFFFF;\n",
              "    }\n",
              "  </style>\n",
              "\n",
              "      <script>\n",
              "        const buttonEl =\n",
              "          document.querySelector('#df-6e2f8c44-1fb1-4654-95da-44e505494d99 button.colab-df-convert');\n",
              "        buttonEl.style.display =\n",
              "          google.colab.kernel.accessAllowed ? 'block' : 'none';\n",
              "\n",
              "        async function convertToInteractive(key) {\n",
              "          const element = document.querySelector('#df-6e2f8c44-1fb1-4654-95da-44e505494d99');\n",
              "          const dataTable =\n",
              "            await google.colab.kernel.invokeFunction('convertToInteractive',\n",
              "                                                     [key], {});\n",
              "          if (!dataTable) return;\n",
              "\n",
              "          const docLinkHtml = 'Like what you see? Visit the ' +\n",
              "            '<a target=\"_blank\" href=https://colab.research.google.com/notebooks/data_table.ipynb>data table notebook</a>'\n",
              "            + ' to learn more about interactive tables.';\n",
              "          element.innerHTML = '';\n",
              "          dataTable['output_type'] = 'display_data';\n",
              "          await google.colab.output.renderOutput(dataTable, element);\n",
              "          const docLink = document.createElement('div');\n",
              "          docLink.innerHTML = docLinkHtml;\n",
              "          element.appendChild(docLink);\n",
              "        }\n",
              "      </script>\n",
              "    </div>\n",
              "  </div>\n",
              "  "
            ]
          },
          "metadata": {},
          "execution_count": 158
        }
      ]
    },
    {
      "cell_type": "markdown",
      "source": [
        "- Get the columns info by knowing there datatype"
      ],
      "metadata": {
        "id": "Um_amwYvbQaS"
      }
    },
    {
      "cell_type": "code",
      "source": [
        "df.info()"
      ],
      "metadata": {
        "colab": {
          "base_uri": "https://localhost:8080/"
        },
        "id": "LNYq53EVbd2o",
        "outputId": "dfca95d7-c381-404f-f9fd-c2cc9b3b1e04"
      },
      "execution_count": null,
      "outputs": [
        {
          "output_type": "stream",
          "name": "stdout",
          "text": [
            "<class 'pandas.core.frame.DataFrame'>\n",
            "RangeIndex: 3006373 entries, 0 to 3006372\n",
            "Data columns (total 14 columns):\n",
            " #   Column              Dtype          \n",
            "---  ------              -----          \n",
            " 0   ride_id             object         \n",
            " 1   rideable_type       object         \n",
            " 2   started_at          object         \n",
            " 3   ended_at            object         \n",
            " 4   start_station_name  object         \n",
            " 5   start_station_id    object         \n",
            " 6   end_station_name    object         \n",
            " 7   end_station_id      object         \n",
            " 8   start_lat           float64        \n",
            " 9   start_lng           float64        \n",
            " 10  end_lat             float64        \n",
            " 11  end_lng             float64        \n",
            " 12  member_casual       object         \n",
            " 13  ride_length         timedelta64[ns]\n",
            "dtypes: float64(4), object(9), timedelta64[ns](1)\n",
            "memory usage: 321.1+ MB\n"
          ]
        }
      ]
    },
    {
      "cell_type": "markdown",
      "source": [
        "# Creating new columns"
      ],
      "metadata": {
        "id": "nARz_rZAb2Nr"
      }
    },
    {
      "cell_type": "markdown",
      "source": [
        "- Calculate the ride duration between started location and Ended location and name it as **ride_length**"
      ],
      "metadata": {
        "id": "2WxOb_uBb7BE"
      }
    },
    {
      "cell_type": "code",
      "source": [
        "from datetime import datetime\n",
        "\n",
        "format = '%H:%M:%S'\n",
        "df['ride_length'] = pd.to_datetime(df['ended_at']) - pd.to_datetime(df['started_at'])"
      ],
      "metadata": {
        "id": "uLwkPzw-b9cL"
      },
      "execution_count": null,
      "outputs": []
    },
    {
      "cell_type": "markdown",
      "source": [
        "- Get the week day using the Started at time and name it as **Weekday**"
      ],
      "metadata": {
        "id": "384IwnyLcMux"
      }
    },
    {
      "cell_type": "code",
      "source": [
        "df['WEEKDAY'] = df['started_at'].apply(lambda x: pd.to_datetime(x).weekday())"
      ],
      "metadata": {
        "id": "wKOBUrW2cbFk"
      },
      "execution_count": null,
      "outputs": []
    },
    {
      "cell_type": "code",
      "source": [
        "df.drop(index=1234556, axis=1, inplace=True)"
      ],
      "metadata": {
        "id": "LSKfiWuzqXbi"
      },
      "execution_count": null,
      "outputs": []
    },
    {
      "cell_type": "code",
      "source": [
        "# df.head(1)\n",
        "df.columns"
      ],
      "metadata": {
        "colab": {
          "base_uri": "https://localhost:8080/"
        },
        "id": "Ln8jrVlp2VJ0",
        "outputId": "c284a2fa-9614-4481-9015-acda1469f885"
      },
      "execution_count": null,
      "outputs": [
        {
          "output_type": "execute_result",
          "data": {
            "text/plain": [
              "Index(['index', 'ride_id', 'rideable_type', 'started_at', 'ended_at',\n",
              "       'start_station_name', 'start_station_id', 'end_station_name',\n",
              "       'end_station_id', 'start_lat', 'start_lng', 'end_lat', 'end_lng',\n",
              "       'member_casual', 'ride_length', 'WEEKDAY'],\n",
              "      dtype='object')"
            ]
          },
          "metadata": {},
          "execution_count": 170
        }
      ]
    },
    {
      "cell_type": "code",
      "source": [
        "# df.drop('index', axis=0, inplace=True)\n",
        "df.reset_index(inplace=True)"
      ],
      "metadata": {
        "id": "8VDzZv6fEe3P"
      },
      "execution_count": null,
      "outputs": []
    },
    {
      "cell_type": "markdown",
      "source": [
        "### Mean of Ride_length"
      ],
      "metadata": {
        "id": "-j66yf85qgVr"
      }
    },
    {
      "cell_type": "code",
      "source": [
        "# mean of ride_length\n",
        "df['ride_length'].mean()"
      ],
      "metadata": {
        "colab": {
          "base_uri": "https://localhost:8080/"
        },
        "id": "jG7eYGa5kNqi",
        "outputId": "2df70766-2799-484b-e236-cee2587f9843"
      },
      "execution_count": null,
      "outputs": [
        {
          "output_type": "execute_result",
          "data": {
            "text/plain": [
              "Timedelta('0 days 00:23:38.174281825')"
            ]
          },
          "metadata": {},
          "execution_count": 172
        }
      ]
    },
    {
      "cell_type": "markdown",
      "source": [
        "### Get Max Ride Length"
      ],
      "metadata": {
        "id": "HiRKboMiq0Ok"
      }
    },
    {
      "cell_type": "code",
      "source": [
        "df['ride_length'].max()"
      ],
      "metadata": {
        "colab": {
          "base_uri": "https://localhost:8080/"
        },
        "id": "Mk7fw9mIqyvU",
        "outputId": "391b84e5-d1de-4db7-a026-c62b814c6691"
      },
      "execution_count": null,
      "outputs": [
        {
          "output_type": "execute_result",
          "data": {
            "text/plain": [
              "Timedelta('40 days 18:40:02')"
            ]
          },
          "metadata": {},
          "execution_count": 173
        }
      ]
    },
    {
      "cell_type": "code",
      "source": [
        "df['WEEKDAY'].mode()"
      ],
      "metadata": {
        "colab": {
          "base_uri": "https://localhost:8080/"
        },
        "id": "-Bfl97hiq-aX",
        "outputId": "a07a63fc-d1a5-4878-c9bc-97b1062764ae"
      },
      "execution_count": null,
      "outputs": [
        {
          "output_type": "execute_result",
          "data": {
            "text/plain": [
              "0    5\n",
              "dtype: int64"
            ]
          },
          "metadata": {},
          "execution_count": 174
        }
      ]
    },
    {
      "cell_type": "markdown",
      "source": [
        "# Data Analysis"
      ],
      "metadata": {
        "id": "SVYihMcJGX6C"
      }
    },
    {
      "cell_type": "code",
      "source": [
        "df.groupby('start_station_name')['ride_id'].count().sort_values(ascending=False).head(20)"
      ],
      "metadata": {
        "colab": {
          "base_uri": "https://localhost:8080/"
        },
        "id": "HvbZfuhNrIWc",
        "outputId": "7299177a-dbf6-4afc-ee77-749dbde0684a"
      },
      "execution_count": null,
      "outputs": [
        {
          "output_type": "execute_result",
          "data": {
            "text/plain": [
              "start_station_name\n",
              "Streeter Dr & Grand Ave       28352\n",
              "Clark St & Elm St             27909\n",
              "Lake Shore Dr & Monroe St     24557\n",
              "Theater on the Lake           23827\n",
              "Lake Shore Dr & North Blvd    22252\n",
              "Wells St & Concord Ln         21476\n",
              "Indiana Ave & Roosevelt Rd    20892\n",
              "Dearborn St & Erie St         20836\n",
              "Broadway & Barry Ave          20776\n",
              "Millennium Park               20635\n",
              "Wells St & Elm St             20275\n",
              "Clark St & Armitage Ave       20182\n",
              "Wells St & Huron St           19750\n",
              "Clark St & Lincoln Ave        19046\n",
              "Columbus Dr & Randolph St     18952\n",
              "Wabash Ave & Grand Ave        18618\n",
              "St. Clair St & Erie St        18435\n",
              "Michigan Ave & Oak St         18093\n",
              "Desplaines St & Kinzie St     18073\n",
              "Kingsbury St & Kinzie St      17785\n",
              "Name: ride_id, dtype: int64"
            ]
          },
          "metadata": {},
          "execution_count": 175
        }
      ]
    },
    {
      "cell_type": "code",
      "source": [
        "df.groupby('end_station_name')['ride_id'].count().sort_values(ascending=False).head(20)"
      ],
      "metadata": {
        "colab": {
          "base_uri": "https://localhost:8080/"
        },
        "id": "D4Oc1_iKGr8H",
        "outputId": "b70c769e-0e1a-419e-cf7f-379affcf30d4"
      },
      "execution_count": null,
      "outputs": [
        {
          "output_type": "execute_result",
          "data": {
            "text/plain": [
              "end_station_name\n",
              "Streeter Dr & Grand Ave           29809\n",
              "Clark St & Elm St                 27767\n",
              "Theater on the Lake               24876\n",
              "Lake Shore Dr & Monroe St         23977\n",
              "Lake Shore Dr & North Blvd        22649\n",
              "Wells St & Concord Ln             21939\n",
              "Millennium Park                   21376\n",
              "Broadway & Barry Ave              21327\n",
              "Dearborn St & Erie St             21302\n",
              "Indiana Ave & Roosevelt Rd        20309\n",
              "St. Clair St & Erie St            20189\n",
              "Wabash Ave & Grand Ave            19470\n",
              "Wabash Ave & Roosevelt Rd         19437\n",
              "Wells St & Elm St                 19007\n",
              "Clark St & Armitage Ave           18968\n",
              "Clark St & Lincoln Ave            18896\n",
              "Wells St & Huron St               18674\n",
              "Michigan Ave & Oak St             18624\n",
              "Lake Shore Dr & Wellington Ave    18154\n",
              "Larrabee St & Webster Ave         17861\n",
              "Name: ride_id, dtype: int64"
            ]
          },
          "metadata": {},
          "execution_count": 176
        }
      ]
    },
    {
      "cell_type": "markdown",
      "source": [
        "- Looking at top 20 **rider id** count grouping by *start station name\" & \"end station name\" Most of the station name are repeatetive."
      ],
      "metadata": {
        "id": "HbFDPKJ_H0gp"
      }
    },
    {
      "cell_type": "code",
      "source": [
        "df.head()"
      ],
      "metadata": {
        "colab": {
          "base_uri": "https://localhost:8080/",
          "height": 444
        },
        "id": "WsW5bpt5HLic",
        "outputId": "0e512653-28b7-495a-8773-ad8ff1cf8daa"
      },
      "execution_count": null,
      "outputs": [
        {
          "output_type": "execute_result",
          "data": {
            "text/plain": [
              "   level_0  index           ride_id rideable_type           started_at  \\\n",
              "0        0      0  5DB63F4E4EB6A9CF   docked_bike  2020-04-01 00:00:30   \n",
              "1        1      1  1FD159E93F7BAFA1   docked_bike  2020-04-01 00:02:35   \n",
              "2        2      2  6D93A270684EC452   docked_bike  2020-04-01 00:02:41   \n",
              "3        3      3  091D47E4F0FC5022   docked_bike  2020-04-01 00:06:44   \n",
              "4        4      4  07F785C9DDA3404C   docked_bike  2020-04-01 00:11:18   \n",
              "\n",
              "              ended_at                   start_station_name start_station_id  \\\n",
              "0  2020-04-01 00:23:03           Damen Ave & Wellington Ave              162   \n",
              "1  2020-04-01 00:10:45                 Wabash Ave & 16th St               72   \n",
              "2  2020-04-01 00:24:20           Damen Ave & Wellington Ave              162   \n",
              "3  2020-04-01 00:14:01  Mies van der Rohe Way & Chicago Ave              173   \n",
              "4  2020-04-01 00:11:51                  Wabash Ave & 9th St              321   \n",
              "\n",
              "                end_station_name end_station_id  start_lat  start_lng  \\\n",
              "0  Pine Grove Ave & Waveland Ave          232.0    41.9359   -87.6784   \n",
              "1            Wabash Ave & 9th St          321.0    41.8604   -87.6258   \n",
              "2   Spaulding Ave & Armitage Ave          506.0    41.9359   -87.6784   \n",
              "3         Clark St & Schiller St          301.0    41.8969   -87.6217   \n",
              "4            Wabash Ave & 9th St          321.0    41.8708   -87.6257   \n",
              "\n",
              "   end_lat  end_lng member_casual     ride_length  WEEKDAY  \n",
              "0  41.9493 -87.6463        casual 0 days 00:22:33        2  \n",
              "1  41.8708 -87.6257        member 0 days 00:08:10        2  \n",
              "2  41.9171 -87.7102        casual 0 days 00:21:39        2  \n",
              "3  41.9080 -87.6315        member 0 days 00:07:17        2  \n",
              "4  41.8708 -87.6257        member 0 days 00:00:33        2  "
            ],
            "text/html": [
              "\n",
              "  <div id=\"df-22f5c39f-445d-4254-9ac5-3c893339e6f2\">\n",
              "    <div class=\"colab-df-container\">\n",
              "      <div>\n",
              "<style scoped>\n",
              "    .dataframe tbody tr th:only-of-type {\n",
              "        vertical-align: middle;\n",
              "    }\n",
              "\n",
              "    .dataframe tbody tr th {\n",
              "        vertical-align: top;\n",
              "    }\n",
              "\n",
              "    .dataframe thead th {\n",
              "        text-align: right;\n",
              "    }\n",
              "</style>\n",
              "<table border=\"1\" class=\"dataframe\">\n",
              "  <thead>\n",
              "    <tr style=\"text-align: right;\">\n",
              "      <th></th>\n",
              "      <th>level_0</th>\n",
              "      <th>index</th>\n",
              "      <th>ride_id</th>\n",
              "      <th>rideable_type</th>\n",
              "      <th>started_at</th>\n",
              "      <th>ended_at</th>\n",
              "      <th>start_station_name</th>\n",
              "      <th>start_station_id</th>\n",
              "      <th>end_station_name</th>\n",
              "      <th>end_station_id</th>\n",
              "      <th>start_lat</th>\n",
              "      <th>start_lng</th>\n",
              "      <th>end_lat</th>\n",
              "      <th>end_lng</th>\n",
              "      <th>member_casual</th>\n",
              "      <th>ride_length</th>\n",
              "      <th>WEEKDAY</th>\n",
              "    </tr>\n",
              "  </thead>\n",
              "  <tbody>\n",
              "    <tr>\n",
              "      <th>0</th>\n",
              "      <td>0</td>\n",
              "      <td>0</td>\n",
              "      <td>5DB63F4E4EB6A9CF</td>\n",
              "      <td>docked_bike</td>\n",
              "      <td>2020-04-01 00:00:30</td>\n",
              "      <td>2020-04-01 00:23:03</td>\n",
              "      <td>Damen Ave &amp; Wellington Ave</td>\n",
              "      <td>162</td>\n",
              "      <td>Pine Grove Ave &amp; Waveland Ave</td>\n",
              "      <td>232.0</td>\n",
              "      <td>41.9359</td>\n",
              "      <td>-87.6784</td>\n",
              "      <td>41.9493</td>\n",
              "      <td>-87.6463</td>\n",
              "      <td>casual</td>\n",
              "      <td>0 days 00:22:33</td>\n",
              "      <td>2</td>\n",
              "    </tr>\n",
              "    <tr>\n",
              "      <th>1</th>\n",
              "      <td>1</td>\n",
              "      <td>1</td>\n",
              "      <td>1FD159E93F7BAFA1</td>\n",
              "      <td>docked_bike</td>\n",
              "      <td>2020-04-01 00:02:35</td>\n",
              "      <td>2020-04-01 00:10:45</td>\n",
              "      <td>Wabash Ave &amp; 16th St</td>\n",
              "      <td>72</td>\n",
              "      <td>Wabash Ave &amp; 9th St</td>\n",
              "      <td>321.0</td>\n",
              "      <td>41.8604</td>\n",
              "      <td>-87.6258</td>\n",
              "      <td>41.8708</td>\n",
              "      <td>-87.6257</td>\n",
              "      <td>member</td>\n",
              "      <td>0 days 00:08:10</td>\n",
              "      <td>2</td>\n",
              "    </tr>\n",
              "    <tr>\n",
              "      <th>2</th>\n",
              "      <td>2</td>\n",
              "      <td>2</td>\n",
              "      <td>6D93A270684EC452</td>\n",
              "      <td>docked_bike</td>\n",
              "      <td>2020-04-01 00:02:41</td>\n",
              "      <td>2020-04-01 00:24:20</td>\n",
              "      <td>Damen Ave &amp; Wellington Ave</td>\n",
              "      <td>162</td>\n",
              "      <td>Spaulding Ave &amp; Armitage Ave</td>\n",
              "      <td>506.0</td>\n",
              "      <td>41.9359</td>\n",
              "      <td>-87.6784</td>\n",
              "      <td>41.9171</td>\n",
              "      <td>-87.7102</td>\n",
              "      <td>casual</td>\n",
              "      <td>0 days 00:21:39</td>\n",
              "      <td>2</td>\n",
              "    </tr>\n",
              "    <tr>\n",
              "      <th>3</th>\n",
              "      <td>3</td>\n",
              "      <td>3</td>\n",
              "      <td>091D47E4F0FC5022</td>\n",
              "      <td>docked_bike</td>\n",
              "      <td>2020-04-01 00:06:44</td>\n",
              "      <td>2020-04-01 00:14:01</td>\n",
              "      <td>Mies van der Rohe Way &amp; Chicago Ave</td>\n",
              "      <td>173</td>\n",
              "      <td>Clark St &amp; Schiller St</td>\n",
              "      <td>301.0</td>\n",
              "      <td>41.8969</td>\n",
              "      <td>-87.6217</td>\n",
              "      <td>41.9080</td>\n",
              "      <td>-87.6315</td>\n",
              "      <td>member</td>\n",
              "      <td>0 days 00:07:17</td>\n",
              "      <td>2</td>\n",
              "    </tr>\n",
              "    <tr>\n",
              "      <th>4</th>\n",
              "      <td>4</td>\n",
              "      <td>4</td>\n",
              "      <td>07F785C9DDA3404C</td>\n",
              "      <td>docked_bike</td>\n",
              "      <td>2020-04-01 00:11:18</td>\n",
              "      <td>2020-04-01 00:11:51</td>\n",
              "      <td>Wabash Ave &amp; 9th St</td>\n",
              "      <td>321</td>\n",
              "      <td>Wabash Ave &amp; 9th St</td>\n",
              "      <td>321.0</td>\n",
              "      <td>41.8708</td>\n",
              "      <td>-87.6257</td>\n",
              "      <td>41.8708</td>\n",
              "      <td>-87.6257</td>\n",
              "      <td>member</td>\n",
              "      <td>0 days 00:00:33</td>\n",
              "      <td>2</td>\n",
              "    </tr>\n",
              "  </tbody>\n",
              "</table>\n",
              "</div>\n",
              "      <button class=\"colab-df-convert\" onclick=\"convertToInteractive('df-22f5c39f-445d-4254-9ac5-3c893339e6f2')\"\n",
              "              title=\"Convert this dataframe to an interactive table.\"\n",
              "              style=\"display:none;\">\n",
              "        \n",
              "  <svg xmlns=\"http://www.w3.org/2000/svg\" height=\"24px\"viewBox=\"0 0 24 24\"\n",
              "       width=\"24px\">\n",
              "    <path d=\"M0 0h24v24H0V0z\" fill=\"none\"/>\n",
              "    <path d=\"M18.56 5.44l.94 2.06.94-2.06 2.06-.94-2.06-.94-.94-2.06-.94 2.06-2.06.94zm-11 1L8.5 8.5l.94-2.06 2.06-.94-2.06-.94L8.5 2.5l-.94 2.06-2.06.94zm10 10l.94 2.06.94-2.06 2.06-.94-2.06-.94-.94-2.06-.94 2.06-2.06.94z\"/><path d=\"M17.41 7.96l-1.37-1.37c-.4-.4-.92-.59-1.43-.59-.52 0-1.04.2-1.43.59L10.3 9.45l-7.72 7.72c-.78.78-.78 2.05 0 2.83L4 21.41c.39.39.9.59 1.41.59.51 0 1.02-.2 1.41-.59l7.78-7.78 2.81-2.81c.8-.78.8-2.07 0-2.86zM5.41 20L4 18.59l7.72-7.72 1.47 1.35L5.41 20z\"/>\n",
              "  </svg>\n",
              "      </button>\n",
              "      \n",
              "  <style>\n",
              "    .colab-df-container {\n",
              "      display:flex;\n",
              "      flex-wrap:wrap;\n",
              "      gap: 12px;\n",
              "    }\n",
              "\n",
              "    .colab-df-convert {\n",
              "      background-color: #E8F0FE;\n",
              "      border: none;\n",
              "      border-radius: 50%;\n",
              "      cursor: pointer;\n",
              "      display: none;\n",
              "      fill: #1967D2;\n",
              "      height: 32px;\n",
              "      padding: 0 0 0 0;\n",
              "      width: 32px;\n",
              "    }\n",
              "\n",
              "    .colab-df-convert:hover {\n",
              "      background-color: #E2EBFA;\n",
              "      box-shadow: 0px 1px 2px rgba(60, 64, 67, 0.3), 0px 1px 3px 1px rgba(60, 64, 67, 0.15);\n",
              "      fill: #174EA6;\n",
              "    }\n",
              "\n",
              "    [theme=dark] .colab-df-convert {\n",
              "      background-color: #3B4455;\n",
              "      fill: #D2E3FC;\n",
              "    }\n",
              "\n",
              "    [theme=dark] .colab-df-convert:hover {\n",
              "      background-color: #434B5C;\n",
              "      box-shadow: 0px 1px 3px 1px rgba(0, 0, 0, 0.15);\n",
              "      filter: drop-shadow(0px 1px 2px rgba(0, 0, 0, 0.3));\n",
              "      fill: #FFFFFF;\n",
              "    }\n",
              "  </style>\n",
              "\n",
              "      <script>\n",
              "        const buttonEl =\n",
              "          document.querySelector('#df-22f5c39f-445d-4254-9ac5-3c893339e6f2 button.colab-df-convert');\n",
              "        buttonEl.style.display =\n",
              "          google.colab.kernel.accessAllowed ? 'block' : 'none';\n",
              "\n",
              "        async function convertToInteractive(key) {\n",
              "          const element = document.querySelector('#df-22f5c39f-445d-4254-9ac5-3c893339e6f2');\n",
              "          const dataTable =\n",
              "            await google.colab.kernel.invokeFunction('convertToInteractive',\n",
              "                                                     [key], {});\n",
              "          if (!dataTable) return;\n",
              "\n",
              "          const docLinkHtml = 'Like what you see? Visit the ' +\n",
              "            '<a target=\"_blank\" href=https://colab.research.google.com/notebooks/data_table.ipynb>data table notebook</a>'\n",
              "            + ' to learn more about interactive tables.';\n",
              "          element.innerHTML = '';\n",
              "          dataTable['output_type'] = 'display_data';\n",
              "          await google.colab.output.renderOutput(dataTable, element);\n",
              "          const docLink = document.createElement('div');\n",
              "          docLink.innerHTML = docLinkHtml;\n",
              "          element.appendChild(docLink);\n",
              "        }\n",
              "      </script>\n",
              "    </div>\n",
              "  </div>\n",
              "  "
            ]
          },
          "metadata": {},
          "execution_count": 177
        }
      ]
    },
    {
      "cell_type": "markdown",
      "source": [
        "- Groupby *Causual Member* and count *Rider Id*  distribution"
      ],
      "metadata": {
        "id": "0viRb15zQLfC"
      }
    },
    {
      "cell_type": "code",
      "source": [
        "df.groupby(\"member_casual\")[\"ride_id\"].count().sort_values()"
      ],
      "metadata": {
        "colab": {
          "base_uri": "https://localhost:8080/"
        },
        "id": "tbBo_2UrQcIP",
        "outputId": "4e66f366-ba24-437f-f2d8-e3e38893f31b"
      },
      "execution_count": null,
      "outputs": [
        {
          "output_type": "execute_result",
          "data": {
            "text/plain": [
              "member_casual\n",
              "casual    1207236\n",
              "member    1799134\n",
              "Name: ride_id, dtype: int64"
            ]
          },
          "metadata": {},
          "execution_count": 178
        }
      ]
    },
    {
      "cell_type": "markdown",
      "source": [
        "- See which station has maximum time difference."
      ],
      "metadata": {
        "id": "Xwc92AVHQ5VX"
      }
    },
    {
      "cell_type": "code",
      "source": [
        "df.groupby(\"start_station_name\")[\"ride_length\"].max().sort_values(ascending=False).head(30)"
      ],
      "metadata": {
        "colab": {
          "base_uri": "https://localhost:8080/"
        },
        "id": "yb1LCclJRHDK",
        "outputId": "0789b378-1869-49d5-e923-4392dd48f630"
      },
      "execution_count": null,
      "outputs": [
        {
          "output_type": "execute_result",
          "data": {
            "text/plain": [
              "start_station_name\n",
              "Wabash Ave & Wacker Pl          40 days 18:40:02\n",
              "Sedgwick St & Schiller St       38 days 16:03:53\n",
              "Rush St & Superior St           37 days 16:43:21\n",
              "Latrobe Ave & Chicago Ave       37 days 14:24:27\n",
              "Ashland Ave & Division St       35 days 12:25:56\n",
              "Shore Dr & 55th St              35 days 04:52:47\n",
              "Kedzie Ave & Milwaukee Ave      33 days 04:37:00\n",
              "Wood St & Augusta Blvd          32 days 01:24:36\n",
              "State St & Randolph St          31 days 15:49:43\n",
              "Franklin St & Monroe St         31 days 13:33:22\n",
              "Millennium Park                 30 days 23:04:39\n",
              "Wabash Ave & Grand Ave          30 days 19:35:05\n",
              "South Shore Dr & 67th St        29 days 05:52:36\n",
              "Woodlawn Ave & Lake Park Ave    28 days 18:37:13\n",
              "Wolcott Ave & Polk St           28 days 15:51:00\n",
              "Jeffery Blvd & 71st St          28 days 11:24:41\n",
              "Indiana Ave & Roosevelt Rd      28 days 06:13:10\n",
              "Clark St & Chicago Ave          27 days 15:32:07\n",
              "LaSalle Dr & Huron St           27 days 00:55:44\n",
              "Wentworth Ave & 35th St         26 days 22:14:26\n",
              "South Shore Dr & 71st St        26 days 18:16:45\n",
              "LaSalle St & Washington St      25 days 22:26:40\n",
              "Wells St & Elm St               25 days 19:02:51\n",
              "Kimbark Ave & 53rd St           25 days 18:46:16\n",
              "Central Park Ave & Ogden Ave    25 days 15:18:50\n",
              "Stetson Ave & South Water St    25 days 12:15:53\n",
              "Honore St & Division St         25 days 02:36:07\n",
              "Milwaukee Ave & Grand Ave       25 days 01:22:17\n",
              "St. Clair St & Erie St          24 days 19:24:23\n",
              "Michigan Ave & Ida B Wells Dr   24 days 18:10:13\n",
              "Name: ride_length, dtype: timedelta64[ns]"
            ]
          },
          "metadata": {},
          "execution_count": 179
        }
      ]
    },
    {
      "cell_type": "code",
      "source": [
        "df.groupby(\"start_station_name\")[\"ride_length\"].count().sort_values(ascending=False).head(30)"
      ],
      "metadata": {
        "colab": {
          "base_uri": "https://localhost:8080/"
        },
        "id": "MHrTmFDURkF7",
        "outputId": "61c3e413-cf53-48b9-c6f2-7082adb4afa7"
      },
      "execution_count": null,
      "outputs": [
        {
          "output_type": "execute_result",
          "data": {
            "text/plain": [
              "start_station_name\n",
              "Streeter Dr & Grand Ave           28352\n",
              "Clark St & Elm St                 27909\n",
              "Lake Shore Dr & Monroe St         24557\n",
              "Theater on the Lake               23827\n",
              "Lake Shore Dr & North Blvd        22252\n",
              "Wells St & Concord Ln             21476\n",
              "Indiana Ave & Roosevelt Rd        20892\n",
              "Dearborn St & Erie St             20836\n",
              "Broadway & Barry Ave              20776\n",
              "Millennium Park                   20635\n",
              "Wells St & Elm St                 20275\n",
              "Clark St & Armitage Ave           20182\n",
              "Wells St & Huron St               19750\n",
              "Clark St & Lincoln Ave            19046\n",
              "Columbus Dr & Randolph St         18952\n",
              "Wabash Ave & Grand Ave            18618\n",
              "St. Clair St & Erie St            18435\n",
              "Michigan Ave & Oak St             18093\n",
              "Desplaines St & Kinzie St         18073\n",
              "Kingsbury St & Kinzie St          17785\n",
              "Lake Shore Dr & Wellington Ave    17783\n",
              "Wabash Ave & Roosevelt Rd         17666\n",
              "Larrabee St & Webster Ave         17596\n",
              "Michigan Ave & Lake St            16704\n",
              "Dearborn Pkwy & Delaware Pl       16634\n",
              "Wells St & Evergreen Ave          16490\n",
              "Fairbanks Ct & Grand Ave          16488\n",
              "Lakeview Ave & Fullerton Pkwy     16476\n",
              "Broadway & Cornelia Ave           16259\n",
              "Clark St & Schiller St            16249\n",
              "Name: ride_length, dtype: int64"
            ]
          },
          "metadata": {},
          "execution_count": 180
        }
      ]
    },
    {
      "cell_type": "markdown",
      "source": [
        "- Groupby time difference between ride end and ride start."
      ],
      "metadata": {
        "id": "TWgiyFczeURG"
      }
    },
    {
      "cell_type": "code",
      "source": [
        "df[\"time_diff\"] = pd.to_datetime(df['ended_at']) - pd.to_datetime(df['started_at'])\n",
        "\n",
        "df['time_diff'] = df['time_diff']/np.timedelta64(1,'m')"
      ],
      "metadata": {
        "id": "YG9SG5EFeTDn"
      },
      "execution_count": null,
      "outputs": []
    },
    {
      "cell_type": "code",
      "source": [
        "df.groupby(\"start_station_name\")[\"time_diff\"].mean().sort_values()"
      ],
      "metadata": {
        "colab": {
          "base_uri": "https://localhost:8080/"
        },
        "id": "jKY4vJHcfXqx",
        "outputId": "034cbdb6-71ff-4a92-d808-b7452cd888aa"
      },
      "execution_count": null,
      "outputs": [
        {
          "output_type": "execute_result",
          "data": {
            "text/plain": [
              "start_station_name\n",
              "Lawndale Ave & 111th St      -806.127083\n",
              "Cherry Ave & Blackhawk St     -68.445010\n",
              "W Oakdale Ave & N Broadway    -38.788889\n",
              "Wood St & Taylor St (Temp)    -32.275547\n",
              "Throop St & Taylor St         -18.399991\n",
              "                                 ...    \n",
              "Latrobe Ave & Chicago Ave     489.532300\n",
              "Ashland Ave & 63rd St         525.324346\n",
              "Laramie Ave & Kinzie St       674.622941\n",
              "Ellis Ave & 83rd St           679.460370\n",
              "Kostner Ave & Lake St         793.385069\n",
              "Name: time_diff, Length: 707, dtype: float64"
            ]
          },
          "metadata": {},
          "execution_count": 182
        }
      ]
    },
    {
      "cell_type": "code",
      "source": [
        "df[df['start_station_name'] == 'Lawndale Ave & 111th St']['ended_at']"
      ],
      "metadata": {
        "colab": {
          "base_uri": "https://localhost:8080/"
        },
        "id": "4tj2_4Vrss_l",
        "outputId": "36cc1df9-9876-4e88-bdfa-932f9bbf80dc"
      },
      "execution_count": null,
      "outputs": [
        {
          "output_type": "execute_result",
          "data": {
            "text/plain": [
              "2080891    2020-10-15 16:27:13\n",
              "2097175    2020-10-16 19:43:46\n",
              "2128814    2020-10-20 12:16:07\n",
              "2158303    2020-10-22 22:45:31\n",
              "2256512    2020-11-03 10:51:58\n",
              "2355125    2020-11-09 14:59:55\n",
              "2362771    2020-11-09 22:27:05\n",
              "2464285    2020-11-23 13:02:59\n",
              "2493679    2020-11-29 15:07:28\n",
              "2494070    2020-11-29 15:56:05\n",
              "2547629    2020-12-09 23:06:07\n",
              "2572805    2020-11-25 22:50:26\n",
              "2604440    2020-12-22 13:38:29\n",
              "2657648    2021-01-09 13:46:24\n",
              "2657805    2021-01-09 13:46:43\n",
              "2751652    2021-02-21 00:17:57\n",
              "2788335    2021-03-03 15:36:33\n",
              "2796806    2021-03-05 12:24:38\n",
              "2805387    2021-03-06 16:24:05\n",
              "2805395    2021-03-06 16:24:10\n",
              "2816989    2021-03-08 14:20:35\n",
              "2828481    2021-03-09 17:10:02\n",
              "2828531    2021-03-09 17:10:20\n",
              "2860243    2021-03-13 13:52:35\n",
              "2860255    2021-03-13 13:52:28\n",
              "2873627    2021-03-15 02:22:59\n",
              "2875779    2021-03-15 23:20:35\n",
              "2896406    2021-03-20 14:23:12\n",
              "2936298    2021-03-23 10:47:18\n",
              "2952840    2021-03-25 17:52:15\n",
              "2991551    2021-03-30 10:31:10\n",
              "3003696    2021-04-01 17:20:21\n",
              "Name: ended_at, dtype: object"
            ]
          },
          "metadata": {},
          "execution_count": 183
        }
      ]
    },
    {
      "cell_type": "markdown",
      "source": [
        "Groupby time difference between ride end and ride start for rideable type."
      ],
      "metadata": {
        "id": "XH1TKn5ugzwP"
      }
    },
    {
      "cell_type": "code",
      "source": [
        "df.groupby(\"rideable_type\")[\"time_diff\"].mean().sort_values()"
      ],
      "metadata": {
        "colab": {
          "base_uri": "https://localhost:8080/"
        },
        "id": "51fzEVW9g8h-",
        "outputId": "3bb8055a-c15f-441a-8348-d1b73e55468e"
      },
      "execution_count": null,
      "outputs": [
        {
          "output_type": "execute_result",
          "data": {
            "text/plain": [
              "rideable_type\n",
              "electric_bike     7.699155\n",
              "classic_bike     18.033630\n",
              "docked_bike      28.680089\n",
              "Name: time_diff, dtype: float64"
            ]
          },
          "metadata": {},
          "execution_count": 184
        }
      ]
    },
    {
      "cell_type": "markdown",
      "source": [
        "- Groupby time difference between ride end and ride start for member type"
      ],
      "metadata": {
        "id": "wYo3kdSMhNY6"
      }
    },
    {
      "cell_type": "code",
      "source": [
        "df.groupby(\"member_casual\")[\"time_diff\"].mean().sort_values()"
      ],
      "metadata": {
        "colab": {
          "base_uri": "https://localhost:8080/"
        },
        "id": "ehBbVF8ThQVL",
        "outputId": "973ebe60-8929-4bb2-c52c-4809710caed7"
      },
      "execution_count": null,
      "outputs": [
        {
          "output_type": "execute_result",
          "data": {
            "text/plain": [
              "member_casual\n",
              "member    11.242770\n",
              "casual    42.106151\n",
              "Name: time_diff, dtype: float64"
            ]
          },
          "metadata": {},
          "execution_count": 185
        }
      ]
    },
    {
      "cell_type": "markdown",
      "source": [
        "# Drop unwanted features"
      ],
      "metadata": {
        "id": "ZDmmZDxUjnKz"
      }
    },
    {
      "cell_type": "code",
      "source": [
        "df.columns"
      ],
      "metadata": {
        "colab": {
          "base_uri": "https://localhost:8080/"
        },
        "id": "zThkoAQUjqSX",
        "outputId": "a8e6b76c-994f-4ca5-a92d-c002dd616b39"
      },
      "execution_count": null,
      "outputs": [
        {
          "output_type": "execute_result",
          "data": {
            "text/plain": [
              "Index(['level_0', 'index', 'ride_id', 'rideable_type', 'started_at',\n",
              "       'ended_at', 'start_station_name', 'start_station_id',\n",
              "       'end_station_name', 'end_station_id', 'start_lat', 'start_lng',\n",
              "       'end_lat', 'end_lng', 'member_casual', 'ride_length', 'WEEKDAY',\n",
              "       'time_diff'],\n",
              "      dtype='object')"
            ]
          },
          "metadata": {},
          "execution_count": 186
        }
      ]
    },
    {
      "cell_type": "code",
      "source": [
        "df.drop(['start_station_id','end_station_id', 'start_lat', 'start_lng', 'end_lat', 'end_lng'],axis=1,inplace=True)"
      ],
      "metadata": {
        "id": "ILKKfZPUjsHs"
      },
      "execution_count": null,
      "outputs": []
    },
    {
      "cell_type": "markdown",
      "source": [
        "# Treat Missing Values"
      ],
      "metadata": {
        "id": "4EVfatppj7Gj"
      }
    },
    {
      "cell_type": "code",
      "source": [
        "df.isnull().sum()"
      ],
      "metadata": {
        "colab": {
          "base_uri": "https://localhost:8080/"
        },
        "id": "JeFPo541j8oD",
        "outputId": "3dc5127d-a172-4ab3-ad70-c4c646f89367"
      },
      "execution_count": null,
      "outputs": [
        {
          "output_type": "execute_result",
          "data": {
            "text/plain": [
              "level_0                    0\n",
              "index                      0\n",
              "ride_id                    0\n",
              "rideable_type              0\n",
              "started_at                 0\n",
              "ended_at                   0\n",
              "start_station_name    114151\n",
              "end_station_name      133248\n",
              "member_casual              2\n",
              "ride_length                0\n",
              "WEEKDAY                    0\n",
              "time_diff                  0\n",
              "dtype: int64"
            ]
          },
          "metadata": {},
          "execution_count": 188
        }
      ]
    },
    {
      "cell_type": "code",
      "source": [
        "df['start_station_name'] = df['start_station_name'].replace(np.nan,\"Missing\")\n",
        "df['end_station_name'] = df['end_station_name'].replace(np.nan,\"Missing\")"
      ],
      "metadata": {
        "id": "Mgn0DASekEE4"
      },
      "execution_count": null,
      "outputs": []
    },
    {
      "cell_type": "code",
      "source": [
        "df.isnull().sum()"
      ],
      "metadata": {
        "colab": {
          "base_uri": "https://localhost:8080/"
        },
        "id": "Kv9QU_8wkJ36",
        "outputId": "654051c4-9ecd-450c-edac-5045e3b7d0cc"
      },
      "execution_count": null,
      "outputs": [
        {
          "output_type": "execute_result",
          "data": {
            "text/plain": [
              "level_0               0\n",
              "index                 0\n",
              "ride_id               0\n",
              "rideable_type         0\n",
              "started_at            0\n",
              "ended_at              0\n",
              "start_station_name    0\n",
              "end_station_name      0\n",
              "member_casual         2\n",
              "ride_length           0\n",
              "WEEKDAY               0\n",
              "time_diff             0\n",
              "dtype: int64"
            ]
          },
          "metadata": {},
          "execution_count": 190
        }
      ]
    },
    {
      "cell_type": "markdown",
      "source": [
        "# Data Visualization"
      ],
      "metadata": {
        "id": "XkPQ9vtmkPxY"
      }
    },
    {
      "cell_type": "markdown",
      "source": [
        "### Get Month wise distribution of rider"
      ],
      "metadata": {
        "id": "3Zy-7yM_L1lU"
      }
    },
    {
      "cell_type": "code",
      "source": [
        "pd.to_datetime(df['started_at'][0]).to_period('M')"
      ],
      "metadata": {
        "colab": {
          "base_uri": "https://localhost:8080/"
        },
        "id": "cNjvDdlQHjOm",
        "outputId": "9ccf66d1-a81d-47f6-80cf-2a900031d221"
      },
      "execution_count": null,
      "outputs": [
        {
          "output_type": "execute_result",
          "data": {
            "text/plain": [
              "Period('2020-04', 'M')"
            ]
          },
          "metadata": {},
          "execution_count": 191
        }
      ]
    },
    {
      "cell_type": "code",
      "source": [
        "import datetime\n",
        "\n",
        "df['Month'] = df['started_at'].apply(lambda x: datetime.datetime.strptime(x, \"%Y-%m-%d %H:%M:%S\").month)"
      ],
      "metadata": {
        "id": "_IltxCupIuLn"
      },
      "execution_count": null,
      "outputs": []
    },
    {
      "cell_type": "code",
      "source": [
        "mon = df.groupby('Month')['ride_id'].count().sort_values()\n",
        "mon.index, mon.values"
      ],
      "metadata": {
        "colab": {
          "base_uri": "https://localhost:8080/"
        },
        "id": "UYC1vtFALYa9",
        "outputId": "1cdc1bbf-bf1d-4a93-b778-d4e05453e9ae"
      },
      "execution_count": null,
      "outputs": [
        {
          "output_type": "execute_result",
          "data": {
            "text/plain": [
              "(Int64Index([2, 4, 1, 12, 5, 3, 11, 6, 10, 9, 8, 7], dtype='int64', name='Month'),\n",
              " array([ 49622,  84776,  96834, 131573, 200274, 228496, 259716, 343005,\n",
              "        388653, 403969, 404859, 414595]))"
            ]
          },
          "metadata": {},
          "execution_count": 193
        }
      ]
    },
    {
      "cell_type": "code",
      "source": [
        "plt.bar(mon.index, mon.values, color ='maroon', width = 0.4)"
      ],
      "metadata": {
        "colab": {
          "base_uri": "https://localhost:8080/",
          "height": 282
        },
        "id": "PwEP3QzxNE2b",
        "outputId": "24fa2f9d-dab6-4f68-cc8a-22860be08e7d"
      },
      "execution_count": null,
      "outputs": [
        {
          "output_type": "execute_result",
          "data": {
            "text/plain": [
              "<BarContainer object of 12 artists>"
            ]
          },
          "metadata": {},
          "execution_count": 194
        },
        {
          "output_type": "display_data",
          "data": {
            "text/plain": [
              "<Figure size 432x288 with 1 Axes>"
            ],
            "image/png": "[encoded data removed]"
          },
          "metadata": {
            "needs_background": "light"
          }
        }
      ]
    },
    {
      "cell_type": "markdown",
      "source": [
        "- Most of rider do riding **from June to November** "
      ],
      "metadata": {
        "id": "nKt4S2NmPh4L"
      }
    },
    {
      "cell_type": "code",
      "source": [
        "rideable_type = df.groupby('rideable_type')['ride_id'].count().sort_values()\n",
        "rideable_type.index, rideable_type.values"
      ],
      "metadata": {
        "colab": {
          "base_uri": "https://localhost:8080/"
        },
        "id": "Mj8WDxHWOUH0",
        "outputId": "6261b2be-88ef-4075-f319-fb22091f3a22"
      },
      "execution_count": null,
      "outputs": [
        {
          "output_type": "execute_result",
          "data": {
            "text/plain": [
              "(Index(['classic_bike', 'electric_bike', 'docked_bike'], dtype='object', name='rideable_type'),\n",
              " array([ 319873,  560422, 2126077]))"
            ]
          },
          "metadata": {},
          "execution_count": 195
        }
      ]
    },
    {
      "cell_type": "code",
      "source": [
        "plt.bar(rideable_type.index, rideable_type.values, color ='maroon', width = 0.4)"
      ],
      "metadata": {
        "colab": {
          "base_uri": "https://localhost:8080/",
          "height": 294
        },
        "id": "OJQOa3JGPA-l",
        "outputId": "6325c9aa-b899-4b70-d01d-37b80bcbf039"
      },
      "execution_count": null,
      "outputs": [
        {
          "output_type": "execute_result",
          "data": {
            "text/plain": [
              "<BarContainer object of 3 artists>"
            ]
          },
          "metadata": {},
          "execution_count": 196
        },
        {
          "output_type": "display_data",
          "data": {
            "text/plain": [
              "<Figure size 432x288 with 1 Axes>"
            ],
            "image/png": "[encoded data removed]"
          },
          "metadata": {
            "needs_background": "light"
          }
        }
      ]
    },
    {
      "cell_type": "code",
      "source": [
        "df.columns"
      ],
      "metadata": {
        "colab": {
          "base_uri": "https://localhost:8080/"
        },
        "id": "q7ybBMwjmFuS",
        "outputId": "85bb35a5-71c3-41db-9ba8-42751c6ea061"
      },
      "execution_count": null,
      "outputs": [
        {
          "output_type": "execute_result",
          "data": {
            "text/plain": [
              "Index(['level_0', 'index', 'ride_id', 'rideable_type', 'started_at',\n",
              "       'ended_at', 'start_station_name', 'end_station_name', 'member_casual',\n",
              "       'ride_length', 'WEEKDAY', 'time_diff', 'Month'],\n",
              "      dtype='object')"
            ]
          },
          "metadata": {},
          "execution_count": 197
        }
      ]
    },
    {
      "cell_type": "code",
      "source": [
        "plt.figure(figsize=(20,20))\n",
        "\n",
        "\n",
        "g = sns.catplot(x='rideable_type', hue='member_casual', col = 'WEEKDAY', col_wrap=4,\n",
        "            kind='count', data=df,\n",
        "            height = 6, aspect = 1)\n",
        "\n",
        "g.set_xlabels(\"Rideable Type\")\n",
        "g.set_ylabels(\"Number of Bikes\")\n",
        "plt.title(\"Count Bikes per Weekday\", size=20)\n",
        "#g = (g.set_axis_labels(\"Tip\",\"Total bill(USD)\").set(xlim=(0,10),ylim=(0,100)\n",
        "\n",
        "\n",
        "g.set(xlim=(0,None))\n",
        "g.set_xticklabels(rotation=90)\n",
        "plt.tight_layout()\n",
        "plt.show()"
      ],
      "metadata": {
        "colab": {
          "base_uri": "https://localhost:8080/",
          "height": 602
        },
        "id": "mBh_kd0IPdpF",
        "outputId": "9ac89d90-b710-442d-bd8d-cf74ba72f266"
      },
      "execution_count": null,
      "outputs": [
        {
          "output_type": "display_data",
          "data": {
            "text/plain": [
              "<Figure size 1440x1440 with 0 Axes>"
            ]
          },
          "metadata": {}
        },
        {
          "output_type": "display_data",
          "data": {
            "text/plain": [
              "<Figure size 1815.12x864 with 7 Axes>"
            ],
            "image/png": "[encoded data removed]"
          },
          "metadata": {
            "needs_background": "light"
          }
        }
      ]
    },
    {
      "cell_type": "markdown",
      "source": [
        "- Calculate the average ride_length for members and casual riders. Try rows = member_casual; Values = Average of ride_length"
      ],
      "metadata": {
        "id": "ppPhEDkA43_T"
      }
    },
    {
      "cell_type": "code",
      "source": [
        "mem_avg_length = df.groupby('member_casual')['ride_length'].mean()\n",
        "plt.bar(mem_avg_length.index, mem_avg_length.values, color ='orange', width = 0.4)"
      ],
      "metadata": {
        "colab": {
          "base_uri": "https://localhost:8080/",
          "height": 293
        },
        "id": "QbfzK2jI45zV",
        "outputId": "01beb5c6-7ac7-422c-8337-b8fc30f921a7"
      },
      "execution_count": null,
      "outputs": [
        {
          "output_type": "execute_result",
          "data": {
            "text/plain": [
              "<BarContainer object of 2 artists>"
            ]
          },
          "metadata": {},
          "execution_count": 202
        },
        {
          "output_type": "display_data",
          "data": {
            "text/plain": [
              "<Figure size 432x288 with 1 Axes>"
            ],
            "image/png": "[encoded data removed]"
          },
          "metadata": {
            "needs_background": "light"
          }
        }
      ]
    },
    {
      "cell_type": "markdown",
      "source": [
        "- Calculate the average ride_length for users by day_of_week. Try columns = day_of_week; Rows = member_casual; Values = Average of ride_length."
      ],
      "metadata": {
        "id": "VB-6rMl6599B"
      }
    },
    {
      "cell_type": "markdown",
      "source": [
        "# **Conclusion**\n",
        "- Casual riders spent more time in bikes\n",
        "- Popular spot is Lake Shore Dr & Monroe St\n",
        "- Classic bikes are most rented\n",
        "- Docked bikes spent most time cycling\n",
        "- Rider take ride or membership to cycling between June to Oct for year 2020 to 2021\n",
        "- Member riders love classic and electric bikes but casual riders prefer docked bikes\n",
        "- Member riders have been in consistent usage for all days, same for casual riders\n",
        "- Member riders spent less time biking than casual riders"
      ],
      "metadata": {
        "id": "Zqb8kKvg24Sf"
      }
    },
    {
      "cell_type": "markdown",
      "source": [
        "- Download 40% of data analysis main dataframe into another dataframe, further Data analyze in datavisulization Tools"
      ],
      "metadata": {
        "id": "xu-UUm647LME"
      }
    },
    {
      "cell_type": "code",
      "source": [
        "df1 = df.sample(frac =.4)"
      ],
      "metadata": {
        "id": "7isYft9ju8lt"
      },
      "execution_count": null,
      "outputs": []
    },
    {
      "cell_type": "code",
      "source": [
        "from google.colab import files\n",
        "\n",
        "df1.to_csv('df1.csv')\n",
        "files.download('df1.csv')"
      ],
      "metadata": {
        "colab": {
          "base_uri": "https://localhost:8080/",
          "height": 34
        },
        "id": "wb-IF6nv7iB0",
        "outputId": "56509a75-7c40-4941-e55a-44237586aa3f"
      },
      "execution_count": null,
      "outputs": [
        {
          "output_type": "display_data",
          "data": {
            "text/plain": [
              "<IPython.core.display.Javascript object>"
            ],
            "application/javascript": [
              "\n",
              "    async function download(id, filename, size) {\n",
              "      if (!google.colab.kernel.accessAllowed) {\n",
              "        return;\n",
              "      }\n",
              "      const div = document.createElement('div');\n",
              "      const label = document.createElement('label');\n",
              "      label.textContent = `Downloading \"${filename}\": `;\n",
              "      div.appendChild(label);\n",
              "      const progress = document.createElement('progress');\n",
              "      progress.max = size;\n",
              "      div.appendChild(progress);\n",
              "      document.body.appendChild(div);\n",
              "\n",
              "      const buffers = [];\n",
              "      let downloaded = 0;\n",
              "\n",
              "      const channel = await google.colab.kernel.comms.open(id);\n",
              "      // Send a message to notify the kernel that we're ready.\n",
              "      channel.send({})\n",
              "\n",
              "      for await (const message of channel.messages) {\n",
              "        // Send a message to notify the kernel that we're ready.\n",
              "        channel.send({})\n",
              "        if (message.buffers) {\n",
              "          for (const buffer of message.buffers) {\n",
              "            buffers.push(buffer);\n",
              "            downloaded += buffer.byteLength;\n",
              "            progress.value = downloaded;\n",
              "          }\n",
              "        }\n",
              "      }\n",
              "      const blob = new Blob(buffers, {type: 'application/binary'});\n",
              "      const a = document.createElement('a');\n",
              "      a.href = window.URL.createObjectURL(blob);\n",
              "      a.download = filename;\n",
              "      div.appendChild(a);\n",
              "      a.click();\n",
              "      div.remove();\n",
              "    }\n",
              "  "
            ]
          },
          "metadata": {}
        },
        {
          "output_type": "display_data",
          "data": {
            "text/plain": [
              "<IPython.core.display.Javascript object>"
            ],
            "application/javascript": [
              "download(\"download_57fea848-0aa9-417e-9f10-dab1b15656b4\", \"df1.csv\", 218649033)"
            ]
          },
          "metadata": {}
        }
      ]
    },
    {
      "cell_type": "code",
      "source": [
        ""
      ],
      "metadata": {
        "id": "i4inFfoV7xSg"
      },
      "execution_count": null,
      "outputs": []
    }
  ]
}