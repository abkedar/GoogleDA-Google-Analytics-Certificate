{
  "cells": [
    {
      "cell_type": "markdown",
      "metadata": {
        "id": "Z-n6acmLDiHX"
      },
      "source": [
        "# Case Study 2 : How Can a Wellness Technology Company Play It Smart?\n",
        "\n",
        "  As junior data analyst working on the marketing analyst team at Bellabeat, a high-tech manufacturer of health-focused products for women. Urška Sršen, cofounder and Chief Creative Officer of Bellabeat, believes that analyzing smart\n",
        "device fitness data could help unlock new growth opportunities for the company.\n",
        "Me and my team have been asked to focus on one of Bellabeat’s products and analyze smart device data to gain insight into how consumers are using their smart devices. What ever the insight we discover from product use data that help guide marketing strategy for the company. We have to present our analysis to the Bellabeat executive team along with high-level recommendations for Bellabeat’s marketing strategy."
      ]
    },
    {
      "cell_type": "markdown",
      "metadata": {
        "id": "LjPq8l8CFqF3"
      },
      "source": [
        "# Data sources used\n",
        "\n",
        "Company collect data from there company smart design product usage by their consumer. By analyzing the data usage, so that company executives will gain\n",
        "insight into how people are already using their smart devices. Then, using this information, the decision maker's would like high-level recommendations for how these trends can inform Bellabeat marketing strategy."
      ]
    },
    {
      "cell_type": "markdown",
      "metadata": {
        "id": "bE8xjabKMRjM"
      },
      "source": [
        "| Data Set | Description |\n",
        "| --- | --- |\n",
        "| dailyActivity_merged | Daily Activity Routine|\n",
        "| SleepDay\t| Total Sleep time on and Average consumer sleep |\n",
        "| dailyIntensities_merged | The location point where the cyclist pickup cycle |\n",
        "| dailySteps_merged | The location point where the cyclist ended cycle journey |\n"
      ]
    },
    {
      "cell_type": "markdown",
      "metadata": {
        "id": "jUe8_xrvFqC6"
      },
      "source": [
        "# Business Task:\n",
        "\n",
        "- What are some trends in smart device usage?\n",
        "- How could these trends apply to Bellabeat customers?\n",
        "- How could these trends help influence Bellabeat marketing strategy?"
      ]
    },
    {
      "cell_type": "markdown",
      "metadata": {
        "id": "wXEY-MJKHodG"
      },
      "source": [
        "# Metrics"
      ]
    },
    {
      "cell_type": "markdown",
      "metadata": {
        "id": "Rnf2NGHVIt4T"
      },
      "source": [
        "# Data Tasks\n"
      ]
    },
    {
      "cell_type": "markdown",
      "metadata": {
        "id": "BXnL0KNQIvl1"
      },
      "source": [
        "# Recommendation for Action"
      ]
    },
    {
      "cell_type": "markdown",
      "metadata": {
        "id": "MHfzfnTtULcd"
      },
      "source": [
        "# Import Libraries"
      ]
    },
    {
      "cell_type": "code",
      "execution_count": null,
      "metadata": {
        "colab": {
          "base_uri": "https://localhost:8080/"
        },
        "id": "ZejDYtEIUGiz",
        "outputId": "ba90cd66-00d5-4bb6-df40-a4da11888e80"
      },
      "outputs": [
        {
          "output_type": "stream",
          "name": "stderr",
          "text": [
            "/usr/local/lib/python3.7/dist-packages/statsmodels/tools/_testing.py:19: FutureWarning: pandas.util.testing is deprecated. Use the functions in the public API at pandas.testing instead.\n",
            "  import pandas.util.testing as tm\n"
          ]
        }
      ],
      "source": [
        "import numpy as np\n",
        "import pandas as pd\n",
        "import matplotlib.pyplot as plt\n",
        "import seaborn as sns\n",
        "import random\n",
        "\n",
        "\n",
        "import statsmodels.api as sm\n",
        "from statsmodels.formula.api import ols\n",
        "\n",
        "import datetime\n",
        "from datetime import datetime, timedelta\n",
        "\n",
        "import scipy.stats\n",
        "import os"
      ]
    },
    {
      "cell_type": "code",
      "execution_count": null,
      "metadata": {
        "colab": {
          "base_uri": "https://localhost:8080/"
        },
        "id": "sTpNzLJFDS_L",
        "outputId": "40fbb948-732e-46c6-b73f-e6e8da3c4e58"
      },
      "outputs": [
        {
          "output_type": "stream",
          "name": "stdout",
          "text": [
            "Mounted at /content/drive\n"
          ]
        }
      ],
      "source": [
        "from google.colab import drive\n",
        "drive.mount('/content/drive')"
      ]
    },
    {
      "cell_type": "code",
      "execution_count": null,
      "metadata": {
        "id": "phLntG85T-OP"
      },
      "outputs": [],
      "source": [
        "dailyActivity_merged = pd.read_csv(\"/content/drive/MyDrive/'blog in marathi/Capstone Folder 2/Fitabase Data 4.12.16-5.12.16/dailyActivity_merged.csv\")\n",
        "sleepDay_merged = pd.read_csv(\"/content/drive/MyDrive/'blog in marathi/Capstone Folder 2/Fitabase Data 4.12.16-5.12.16/sleepDay_merged.csv\")\n",
        "weightLogInfo_merged = pd.read_csv(\"/content/drive/MyDrive/'blog in marathi/Capstone Folder 2/Fitabase Data 4.12.16-5.12.16/weightLogInfo_merged.csv\")"
      ]
    },
    {
      "cell_type": "code",
      "execution_count": null,
      "metadata": {
        "colab": {
          "base_uri": "https://localhost:8080/",
          "height": 270
        },
        "id": "R7UnP9atU0q9",
        "outputId": "87639732-99ca-48dd-8d9f-d8ea8e52d210"
      },
      "outputs": [
        {
          "output_type": "execute_result",
          "data": {
            "text/plain": [
              "           Id ActivityDate  TotalSteps  TotalDistance  TrackerDistance  \\\n",
              "0  1503960366    4/12/2016       13162           8.50             8.50   \n",
              "1  1503960366    4/13/2016       10735           6.97             6.97   \n",
              "2  1503960366    4/14/2016       10460           6.74             6.74   \n",
              "3  1503960366    4/15/2016        9762           6.28             6.28   \n",
              "4  1503960366    4/16/2016       12669           8.16             8.16   \n",
              "\n",
              "   LoggedActivitiesDistance  VeryActiveDistance  ModeratelyActiveDistance  \\\n",
              "0                       0.0                1.88                      0.55   \n",
              "1                       0.0                1.57                      0.69   \n",
              "2                       0.0                2.44                      0.40   \n",
              "3                       0.0                2.14                      1.26   \n",
              "4                       0.0                2.71                      0.41   \n",
              "\n",
              "   LightActiveDistance  SedentaryActiveDistance  VeryActiveMinutes  \\\n",
              "0                 6.06                      0.0                 25   \n",
              "1                 4.71                      0.0                 21   \n",
              "2                 3.91                      0.0                 30   \n",
              "3                 2.83                      0.0                 29   \n",
              "4                 5.04                      0.0                 36   \n",
              "\n",
              "   FairlyActiveMinutes  LightlyActiveMinutes  SedentaryMinutes  Calories  \n",
              "0                   13                   328               728      1985  \n",
              "1                   19                   217               776      1797  \n",
              "2                   11                   181              1218      1776  \n",
              "3                   34                   209               726      1745  \n",
              "4                   10                   221               773      1863  "
            ],
            "text/html": [
              "\n",
              "  <div id=\"df-6e8acaad-cca7-46e6-99ec-6fa5cf508719\">\n",
              "    <div class=\"colab-df-container\">\n",
              "      <div>\n",
              "<style scoped>\n",
              "    .dataframe tbody tr th:only-of-type {\n",
              "        vertical-align: middle;\n",
              "    }\n",
              "\n",
              "    .dataframe tbody tr th {\n",
              "        vertical-align: top;\n",
              "    }\n",
              "\n",
              "    .dataframe thead th {\n",
              "        text-align: right;\n",
              "    }\n",
              "</style>\n",
              "<table border=\"1\" class=\"dataframe\">\n",
              "  <thead>\n",
              "    <tr style=\"text-align: right;\">\n",
              "      <th></th>\n",
              "      <th>Id</th>\n",
              "      <th>ActivityDate</th>\n",
              "      <th>TotalSteps</th>\n",
              "      <th>TotalDistance</th>\n",
              "      <th>TrackerDistance</th>\n",
              "      <th>LoggedActivitiesDistance</th>\n",
              "      <th>VeryActiveDistance</th>\n",
              "      <th>ModeratelyActiveDistance</th>\n",
              "      <th>LightActiveDistance</th>\n",
              "      <th>SedentaryActiveDistance</th>\n",
              "      <th>VeryActiveMinutes</th>\n",
              "      <th>FairlyActiveMinutes</th>\n",
              "      <th>LightlyActiveMinutes</th>\n",
              "      <th>SedentaryMinutes</th>\n",
              "      <th>Calories</th>\n",
              "    </tr>\n",
              "  </thead>\n",
              "  <tbody>\n",
              "    <tr>\n",
              "      <th>0</th>\n",
              "      <td>1503960366</td>\n",
              "      <td>4/12/2016</td>\n",
              "      <td>13162</td>\n",
              "      <td>8.50</td>\n",
              "      <td>8.50</td>\n",
              "      <td>0.0</td>\n",
              "      <td>1.88</td>\n",
              "      <td>0.55</td>\n",
              "      <td>6.06</td>\n",
              "      <td>0.0</td>\n",
              "      <td>25</td>\n",
              "      <td>13</td>\n",
              "      <td>328</td>\n",
              "      <td>728</td>\n",
              "      <td>1985</td>\n",
              "    </tr>\n",
              "    <tr>\n",
              "      <th>1</th>\n",
              "      <td>1503960366</td>\n",
              "      <td>4/13/2016</td>\n",
              "      <td>10735</td>\n",
              "      <td>6.97</td>\n",
              "      <td>6.97</td>\n",
              "      <td>0.0</td>\n",
              "      <td>1.57</td>\n",
              "      <td>0.69</td>\n",
              "      <td>4.71</td>\n",
              "      <td>0.0</td>\n",
              "      <td>21</td>\n",
              "      <td>19</td>\n",
              "      <td>217</td>\n",
              "      <td>776</td>\n",
              "      <td>1797</td>\n",
              "    </tr>\n",
              "    <tr>\n",
              "      <th>2</th>\n",
              "      <td>1503960366</td>\n",
              "      <td>4/14/2016</td>\n",
              "      <td>10460</td>\n",
              "      <td>6.74</td>\n",
              "      <td>6.74</td>\n",
              "      <td>0.0</td>\n",
              "      <td>2.44</td>\n",
              "      <td>0.40</td>\n",
              "      <td>3.91</td>\n",
              "      <td>0.0</td>\n",
              "      <td>30</td>\n",
              "      <td>11</td>\n",
              "      <td>181</td>\n",
              "      <td>1218</td>\n",
              "      <td>1776</td>\n",
              "    </tr>\n",
              "    <tr>\n",
              "      <th>3</th>\n",
              "      <td>1503960366</td>\n",
              "      <td>4/15/2016</td>\n",
              "      <td>9762</td>\n",
              "      <td>6.28</td>\n",
              "      <td>6.28</td>\n",
              "      <td>0.0</td>\n",
              "      <td>2.14</td>\n",
              "      <td>1.26</td>\n",
              "      <td>2.83</td>\n",
              "      <td>0.0</td>\n",
              "      <td>29</td>\n",
              "      <td>34</td>\n",
              "      <td>209</td>\n",
              "      <td>726</td>\n",
              "      <td>1745</td>\n",
              "    </tr>\n",
              "    <tr>\n",
              "      <th>4</th>\n",
              "      <td>1503960366</td>\n",
              "      <td>4/16/2016</td>\n",
              "      <td>12669</td>\n",
              "      <td>8.16</td>\n",
              "      <td>8.16</td>\n",
              "      <td>0.0</td>\n",
              "      <td>2.71</td>\n",
              "      <td>0.41</td>\n",
              "      <td>5.04</td>\n",
              "      <td>0.0</td>\n",
              "      <td>36</td>\n",
              "      <td>10</td>\n",
              "      <td>221</td>\n",
              "      <td>773</td>\n",
              "      <td>1863</td>\n",
              "    </tr>\n",
              "  </tbody>\n",
              "</table>\n",
              "</div>\n",
              "      <button class=\"colab-df-convert\" onclick=\"convertToInteractive('df-6e8acaad-cca7-46e6-99ec-6fa5cf508719')\"\n",
              "              title=\"Convert this dataframe to an interactive table.\"\n",
              "              style=\"display:none;\">\n",
              "        \n",
              "  <svg xmlns=\"http://www.w3.org/2000/svg\" height=\"24px\"viewBox=\"0 0 24 24\"\n",
              "       width=\"24px\">\n",
              "    <path d=\"M0 0h24v24H0V0z\" fill=\"none\"/>\n",
              "    <path d=\"M18.56 5.44l.94 2.06.94-2.06 2.06-.94-2.06-.94-.94-2.06-.94 2.06-2.06.94zm-11 1L8.5 8.5l.94-2.06 2.06-.94-2.06-.94L8.5 2.5l-.94 2.06-2.06.94zm10 10l.94 2.06.94-2.06 2.06-.94-2.06-.94-.94-2.06-.94 2.06-2.06.94z\"/><path d=\"M17.41 7.96l-1.37-1.37c-.4-.4-.92-.59-1.43-.59-.52 0-1.04.2-1.43.59L10.3 9.45l-7.72 7.72c-.78.78-.78 2.05 0 2.83L4 21.41c.39.39.9.59 1.41.59.51 0 1.02-.2 1.41-.59l7.78-7.78 2.81-2.81c.8-.78.8-2.07 0-2.86zM5.41 20L4 18.59l7.72-7.72 1.47 1.35L5.41 20z\"/>\n",
              "  </svg>\n",
              "      </button>\n",
              "      \n",
              "  <style>\n",
              "    .colab-df-container {\n",
              "      display:flex;\n",
              "      flex-wrap:wrap;\n",
              "      gap: 12px;\n",
              "    }\n",
              "\n",
              "    .colab-df-convert {\n",
              "      background-color: #E8F0FE;\n",
              "      border: none;\n",
              "      border-radius: 50%;\n",
              "      cursor: pointer;\n",
              "      display: none;\n",
              "      fill: #1967D2;\n",
              "      height: 32px;\n",
              "      padding: 0 0 0 0;\n",
              "      width: 32px;\n",
              "    }\n",
              "\n",
              "    .colab-df-convert:hover {\n",
              "      background-color: #E2EBFA;\n",
              "      box-shadow: 0px 1px 2px rgba(60, 64, 67, 0.3), 0px 1px 3px 1px rgba(60, 64, 67, 0.15);\n",
              "      fill: #174EA6;\n",
              "    }\n",
              "\n",
              "    [theme=dark] .colab-df-convert {\n",
              "      background-color: #3B4455;\n",
              "      fill: #D2E3FC;\n",
              "    }\n",
              "\n",
              "    [theme=dark] .colab-df-convert:hover {\n",
              "      background-color: #434B5C;\n",
              "      box-shadow: 0px 1px 3px 1px rgba(0, 0, 0, 0.15);\n",
              "      filter: drop-shadow(0px 1px 2px rgba(0, 0, 0, 0.3));\n",
              "      fill: #FFFFFF;\n",
              "    }\n",
              "  </style>\n",
              "\n",
              "      <script>\n",
              "        const buttonEl =\n",
              "          document.querySelector('#df-6e8acaad-cca7-46e6-99ec-6fa5cf508719 button.colab-df-convert');\n",
              "        buttonEl.style.display =\n",
              "          google.colab.kernel.accessAllowed ? 'block' : 'none';\n",
              "\n",
              "        async function convertToInteractive(key) {\n",
              "          const element = document.querySelector('#df-6e8acaad-cca7-46e6-99ec-6fa5cf508719');\n",
              "          const dataTable =\n",
              "            await google.colab.kernel.invokeFunction('convertToInteractive',\n",
              "                                                     [key], {});\n",
              "          if (!dataTable) return;\n",
              "\n",
              "          const docLinkHtml = 'Like what you see? Visit the ' +\n",
              "            '<a target=\"_blank\" href=https://colab.research.google.com/notebooks/data_table.ipynb>data table notebook</a>'\n",
              "            + ' to learn more about interactive tables.';\n",
              "          element.innerHTML = '';\n",
              "          dataTable['output_type'] = 'display_data';\n",
              "          await google.colab.output.renderOutput(dataTable, element);\n",
              "          const docLink = document.createElement('div');\n",
              "          docLink.innerHTML = docLinkHtml;\n",
              "          element.appendChild(docLink);\n",
              "        }\n",
              "      </script>\n",
              "    </div>\n",
              "  </div>\n",
              "  "
            ]
          },
          "metadata": {},
          "execution_count": 4
        }
      ],
      "source": [
        "dailyActivity_merged.head()"
      ]
    },
    {
      "cell_type": "code",
      "source": [
        "sleepDay_merged.head()"
      ],
      "metadata": {
        "colab": {
          "base_uri": "https://localhost:8080/",
          "height": 206
        },
        "id": "Ju_sIB3QCMSv",
        "outputId": "b06bcb78-93f0-4369-b3a3-6eba5776d089"
      },
      "execution_count": null,
      "outputs": [
        {
          "output_type": "execute_result",
          "data": {
            "text/plain": [
              "           Id               SleepDay  TotalSleepRecords  TotalMinutesAsleep  \\\n",
              "0  1503960366  4/12/2016 12:00:00 AM                  1                 327   \n",
              "1  1503960366  4/13/2016 12:00:00 AM                  2                 384   \n",
              "2  1503960366  4/15/2016 12:00:00 AM                  1                 412   \n",
              "3  1503960366  4/16/2016 12:00:00 AM                  2                 340   \n",
              "4  1503960366  4/17/2016 12:00:00 AM                  1                 700   \n",
              "\n",
              "   TotalTimeInBed  \n",
              "0             346  \n",
              "1             407  \n",
              "2             442  \n",
              "3             367  \n",
              "4             712  "
            ],
            "text/html": [
              "\n",
              "  <div id=\"df-a8041810-6916-49fe-8c22-86bc57a534fe\">\n",
              "    <div class=\"colab-df-container\">\n",
              "      <div>\n",
              "<style scoped>\n",
              "    .dataframe tbody tr th:only-of-type {\n",
              "        vertical-align: middle;\n",
              "    }\n",
              "\n",
              "    .dataframe tbody tr th {\n",
              "        vertical-align: top;\n",
              "    }\n",
              "\n",
              "    .dataframe thead th {\n",
              "        text-align: right;\n",
              "    }\n",
              "</style>\n",
              "<table border=\"1\" class=\"dataframe\">\n",
              "  <thead>\n",
              "    <tr style=\"text-align: right;\">\n",
              "      <th></th>\n",
              "      <th>Id</th>\n",
              "      <th>SleepDay</th>\n",
              "      <th>TotalSleepRecords</th>\n",
              "      <th>TotalMinutesAsleep</th>\n",
              "      <th>TotalTimeInBed</th>\n",
              "    </tr>\n",
              "  </thead>\n",
              "  <tbody>\n",
              "    <tr>\n",
              "      <th>0</th>\n",
              "      <td>1503960366</td>\n",
              "      <td>4/12/2016 12:00:00 AM</td>\n",
              "      <td>1</td>\n",
              "      <td>327</td>\n",
              "      <td>346</td>\n",
              "    </tr>\n",
              "    <tr>\n",
              "      <th>1</th>\n",
              "      <td>1503960366</td>\n",
              "      <td>4/13/2016 12:00:00 AM</td>\n",
              "      <td>2</td>\n",
              "      <td>384</td>\n",
              "      <td>407</td>\n",
              "    </tr>\n",
              "    <tr>\n",
              "      <th>2</th>\n",
              "      <td>1503960366</td>\n",
              "      <td>4/15/2016 12:00:00 AM</td>\n",
              "      <td>1</td>\n",
              "      <td>412</td>\n",
              "      <td>442</td>\n",
              "    </tr>\n",
              "    <tr>\n",
              "      <th>3</th>\n",
              "      <td>1503960366</td>\n",
              "      <td>4/16/2016 12:00:00 AM</td>\n",
              "      <td>2</td>\n",
              "      <td>340</td>\n",
              "      <td>367</td>\n",
              "    </tr>\n",
              "    <tr>\n",
              "      <th>4</th>\n",
              "      <td>1503960366</td>\n",
              "      <td>4/17/2016 12:00:00 AM</td>\n",
              "      <td>1</td>\n",
              "      <td>700</td>\n",
              "      <td>712</td>\n",
              "    </tr>\n",
              "  </tbody>\n",
              "</table>\n",
              "</div>\n",
              "      <button class=\"colab-df-convert\" onclick=\"convertToInteractive('df-a8041810-6916-49fe-8c22-86bc57a534fe')\"\n",
              "              title=\"Convert this dataframe to an interactive table.\"\n",
              "              style=\"display:none;\">\n",
              "        \n",
              "  <svg xmlns=\"http://www.w3.org/2000/svg\" height=\"24px\"viewBox=\"0 0 24 24\"\n",
              "       width=\"24px\">\n",
              "    <path d=\"M0 0h24v24H0V0z\" fill=\"none\"/>\n",
              "    <path d=\"M18.56 5.44l.94 2.06.94-2.06 2.06-.94-2.06-.94-.94-2.06-.94 2.06-2.06.94zm-11 1L8.5 8.5l.94-2.06 2.06-.94-2.06-.94L8.5 2.5l-.94 2.06-2.06.94zm10 10l.94 2.06.94-2.06 2.06-.94-2.06-.94-.94-2.06-.94 2.06-2.06.94z\"/><path d=\"M17.41 7.96l-1.37-1.37c-.4-.4-.92-.59-1.43-.59-.52 0-1.04.2-1.43.59L10.3 9.45l-7.72 7.72c-.78.78-.78 2.05 0 2.83L4 21.41c.39.39.9.59 1.41.59.51 0 1.02-.2 1.41-.59l7.78-7.78 2.81-2.81c.8-.78.8-2.07 0-2.86zM5.41 20L4 18.59l7.72-7.72 1.47 1.35L5.41 20z\"/>\n",
              "  </svg>\n",
              "      </button>\n",
              "      \n",
              "  <style>\n",
              "    .colab-df-container {\n",
              "      display:flex;\n",
              "      flex-wrap:wrap;\n",
              "      gap: 12px;\n",
              "    }\n",
              "\n",
              "    .colab-df-convert {\n",
              "      background-color: #E8F0FE;\n",
              "      border: none;\n",
              "      border-radius: 50%;\n",
              "      cursor: pointer;\n",
              "      display: none;\n",
              "      fill: #1967D2;\n",
              "      height: 32px;\n",
              "      padding: 0 0 0 0;\n",
              "      width: 32px;\n",
              "    }\n",
              "\n",
              "    .colab-df-convert:hover {\n",
              "      background-color: #E2EBFA;\n",
              "      box-shadow: 0px 1px 2px rgba(60, 64, 67, 0.3), 0px 1px 3px 1px rgba(60, 64, 67, 0.15);\n",
              "      fill: #174EA6;\n",
              "    }\n",
              "\n",
              "    [theme=dark] .colab-df-convert {\n",
              "      background-color: #3B4455;\n",
              "      fill: #D2E3FC;\n",
              "    }\n",
              "\n",
              "    [theme=dark] .colab-df-convert:hover {\n",
              "      background-color: #434B5C;\n",
              "      box-shadow: 0px 1px 3px 1px rgba(0, 0, 0, 0.15);\n",
              "      filter: drop-shadow(0px 1px 2px rgba(0, 0, 0, 0.3));\n",
              "      fill: #FFFFFF;\n",
              "    }\n",
              "  </style>\n",
              "\n",
              "      <script>\n",
              "        const buttonEl =\n",
              "          document.querySelector('#df-a8041810-6916-49fe-8c22-86bc57a534fe button.colab-df-convert');\n",
              "        buttonEl.style.display =\n",
              "          google.colab.kernel.accessAllowed ? 'block' : 'none';\n",
              "\n",
              "        async function convertToInteractive(key) {\n",
              "          const element = document.querySelector('#df-a8041810-6916-49fe-8c22-86bc57a534fe');\n",
              "          const dataTable =\n",
              "            await google.colab.kernel.invokeFunction('convertToInteractive',\n",
              "                                                     [key], {});\n",
              "          if (!dataTable) return;\n",
              "\n",
              "          const docLinkHtml = 'Like what you see? Visit the ' +\n",
              "            '<a target=\"_blank\" href=https://colab.research.google.com/notebooks/data_table.ipynb>data table notebook</a>'\n",
              "            + ' to learn more about interactive tables.';\n",
              "          element.innerHTML = '';\n",
              "          dataTable['output_type'] = 'display_data';\n",
              "          await google.colab.output.renderOutput(dataTable, element);\n",
              "          const docLink = document.createElement('div');\n",
              "          docLink.innerHTML = docLinkHtml;\n",
              "          element.appendChild(docLink);\n",
              "        }\n",
              "      </script>\n",
              "    </div>\n",
              "  </div>\n",
              "  "
            ]
          },
          "metadata": {},
          "execution_count": 5
        }
      ]
    },
    {
      "cell_type": "code",
      "source": [
        "weightLogInfo_merged.head()"
      ],
      "metadata": {
        "colab": {
          "base_uri": "https://localhost:8080/",
          "height": 206
        },
        "id": "YfJjI5PwCVyT",
        "outputId": "cd4f9375-3e99-4e72-814f-6859d3188af7"
      },
      "execution_count": null,
      "outputs": [
        {
          "output_type": "execute_result",
          "data": {
            "text/plain": [
              "           Id                   Date    WeightKg  WeightPounds   Fat  \\\n",
              "0  1503960366   5/2/2016 11:59:59 PM   52.599998    115.963147  22.0   \n",
              "1  1503960366   5/3/2016 11:59:59 PM   52.599998    115.963147   NaN   \n",
              "2  1927972279   4/13/2016 1:08:52 AM  133.500000    294.317120   NaN   \n",
              "3  2873212765  4/21/2016 11:59:59 PM   56.700001    125.002104   NaN   \n",
              "4  2873212765  5/12/2016 11:59:59 PM   57.299999    126.324875   NaN   \n",
              "\n",
              "         BMI  IsManualReport          LogId  \n",
              "0  22.650000            True  1462233599000  \n",
              "1  22.650000            True  1462319999000  \n",
              "2  47.540001           False  1460509732000  \n",
              "3  21.450001            True  1461283199000  \n",
              "4  21.690001            True  1463097599000  "
            ],
            "text/html": [
              "\n",
              "  <div id=\"df-99626bba-31f2-4554-b883-420ef85ff37b\">\n",
              "    <div class=\"colab-df-container\">\n",
              "      <div>\n",
              "<style scoped>\n",
              "    .dataframe tbody tr th:only-of-type {\n",
              "        vertical-align: middle;\n",
              "    }\n",
              "\n",
              "    .dataframe tbody tr th {\n",
              "        vertical-align: top;\n",
              "    }\n",
              "\n",
              "    .dataframe thead th {\n",
              "        text-align: right;\n",
              "    }\n",
              "</style>\n",
              "<table border=\"1\" class=\"dataframe\">\n",
              "  <thead>\n",
              "    <tr style=\"text-align: right;\">\n",
              "      <th></th>\n",
              "      <th>Id</th>\n",
              "      <th>Date</th>\n",
              "      <th>WeightKg</th>\n",
              "      <th>WeightPounds</th>\n",
              "      <th>Fat</th>\n",
              "      <th>BMI</th>\n",
              "      <th>IsManualReport</th>\n",
              "      <th>LogId</th>\n",
              "    </tr>\n",
              "  </thead>\n",
              "  <tbody>\n",
              "    <tr>\n",
              "      <th>0</th>\n",
              "      <td>1503960366</td>\n",
              "      <td>5/2/2016 11:59:59 PM</td>\n",
              "      <td>52.599998</td>\n",
              "      <td>115.963147</td>\n",
              "      <td>22.0</td>\n",
              "      <td>22.650000</td>\n",
              "      <td>True</td>\n",
              "      <td>1462233599000</td>\n",
              "    </tr>\n",
              "    <tr>\n",
              "      <th>1</th>\n",
              "      <td>1503960366</td>\n",
              "      <td>5/3/2016 11:59:59 PM</td>\n",
              "      <td>52.599998</td>\n",
              "      <td>115.963147</td>\n",
              "      <td>NaN</td>\n",
              "      <td>22.650000</td>\n",
              "      <td>True</td>\n",
              "      <td>1462319999000</td>\n",
              "    </tr>\n",
              "    <tr>\n",
              "      <th>2</th>\n",
              "      <td>1927972279</td>\n",
              "      <td>4/13/2016 1:08:52 AM</td>\n",
              "      <td>133.500000</td>\n",
              "      <td>294.317120</td>\n",
              "      <td>NaN</td>\n",
              "      <td>47.540001</td>\n",
              "      <td>False</td>\n",
              "      <td>1460509732000</td>\n",
              "    </tr>\n",
              "    <tr>\n",
              "      <th>3</th>\n",
              "      <td>2873212765</td>\n",
              "      <td>4/21/2016 11:59:59 PM</td>\n",
              "      <td>56.700001</td>\n",
              "      <td>125.002104</td>\n",
              "      <td>NaN</td>\n",
              "      <td>21.450001</td>\n",
              "      <td>True</td>\n",
              "      <td>1461283199000</td>\n",
              "    </tr>\n",
              "    <tr>\n",
              "      <th>4</th>\n",
              "      <td>2873212765</td>\n",
              "      <td>5/12/2016 11:59:59 PM</td>\n",
              "      <td>57.299999</td>\n",
              "      <td>126.324875</td>\n",
              "      <td>NaN</td>\n",
              "      <td>21.690001</td>\n",
              "      <td>True</td>\n",
              "      <td>1463097599000</td>\n",
              "    </tr>\n",
              "  </tbody>\n",
              "</table>\n",
              "</div>\n",
              "      <button class=\"colab-df-convert\" onclick=\"convertToInteractive('df-99626bba-31f2-4554-b883-420ef85ff37b')\"\n",
              "              title=\"Convert this dataframe to an interactive table.\"\n",
              "              style=\"display:none;\">\n",
              "        \n",
              "  <svg xmlns=\"http://www.w3.org/2000/svg\" height=\"24px\"viewBox=\"0 0 24 24\"\n",
              "       width=\"24px\">\n",
              "    <path d=\"M0 0h24v24H0V0z\" fill=\"none\"/>\n",
              "    <path d=\"M18.56 5.44l.94 2.06.94-2.06 2.06-.94-2.06-.94-.94-2.06-.94 2.06-2.06.94zm-11 1L8.5 8.5l.94-2.06 2.06-.94-2.06-.94L8.5 2.5l-.94 2.06-2.06.94zm10 10l.94 2.06.94-2.06 2.06-.94-2.06-.94-.94-2.06-.94 2.06-2.06.94z\"/><path d=\"M17.41 7.96l-1.37-1.37c-.4-.4-.92-.59-1.43-.59-.52 0-1.04.2-1.43.59L10.3 9.45l-7.72 7.72c-.78.78-.78 2.05 0 2.83L4 21.41c.39.39.9.59 1.41.59.51 0 1.02-.2 1.41-.59l7.78-7.78 2.81-2.81c.8-.78.8-2.07 0-2.86zM5.41 20L4 18.59l7.72-7.72 1.47 1.35L5.41 20z\"/>\n",
              "  </svg>\n",
              "      </button>\n",
              "      \n",
              "  <style>\n",
              "    .colab-df-container {\n",
              "      display:flex;\n",
              "      flex-wrap:wrap;\n",
              "      gap: 12px;\n",
              "    }\n",
              "\n",
              "    .colab-df-convert {\n",
              "      background-color: #E8F0FE;\n",
              "      border: none;\n",
              "      border-radius: 50%;\n",
              "      cursor: pointer;\n",
              "      display: none;\n",
              "      fill: #1967D2;\n",
              "      height: 32px;\n",
              "      padding: 0 0 0 0;\n",
              "      width: 32px;\n",
              "    }\n",
              "\n",
              "    .colab-df-convert:hover {\n",
              "      background-color: #E2EBFA;\n",
              "      box-shadow: 0px 1px 2px rgba(60, 64, 67, 0.3), 0px 1px 3px 1px rgba(60, 64, 67, 0.15);\n",
              "      fill: #174EA6;\n",
              "    }\n",
              "\n",
              "    [theme=dark] .colab-df-convert {\n",
              "      background-color: #3B4455;\n",
              "      fill: #D2E3FC;\n",
              "    }\n",
              "\n",
              "    [theme=dark] .colab-df-convert:hover {\n",
              "      background-color: #434B5C;\n",
              "      box-shadow: 0px 1px 3px 1px rgba(0, 0, 0, 0.15);\n",
              "      filter: drop-shadow(0px 1px 2px rgba(0, 0, 0, 0.3));\n",
              "      fill: #FFFFFF;\n",
              "    }\n",
              "  </style>\n",
              "\n",
              "      <script>\n",
              "        const buttonEl =\n",
              "          document.querySelector('#df-99626bba-31f2-4554-b883-420ef85ff37b button.colab-df-convert');\n",
              "        buttonEl.style.display =\n",
              "          google.colab.kernel.accessAllowed ? 'block' : 'none';\n",
              "\n",
              "        async function convertToInteractive(key) {\n",
              "          const element = document.querySelector('#df-99626bba-31f2-4554-b883-420ef85ff37b');\n",
              "          const dataTable =\n",
              "            await google.colab.kernel.invokeFunction('convertToInteractive',\n",
              "                                                     [key], {});\n",
              "          if (!dataTable) return;\n",
              "\n",
              "          const docLinkHtml = 'Like what you see? Visit the ' +\n",
              "            '<a target=\"_blank\" href=https://colab.research.google.com/notebooks/data_table.ipynb>data table notebook</a>'\n",
              "            + ' to learn more about interactive tables.';\n",
              "          element.innerHTML = '';\n",
              "          dataTable['output_type'] = 'display_data';\n",
              "          await google.colab.output.renderOutput(dataTable, element);\n",
              "          const docLink = document.createElement('div');\n",
              "          docLink.innerHTML = docLinkHtml;\n",
              "          element.appendChild(docLink);\n",
              "        }\n",
              "      </script>\n",
              "    </div>\n",
              "  </div>\n",
              "  "
            ]
          },
          "metadata": {},
          "execution_count": 6
        }
      ]
    },
    {
      "cell_type": "code",
      "source": [
        "dailyActivity_merged.shape, sleepDay_merged.shape, weightLogInfo_merged.shape"
      ],
      "metadata": {
        "colab": {
          "base_uri": "https://localhost:8080/"
        },
        "id": "QboLjDm3PHRx",
        "outputId": "ccfaad6b-a851-41e6-f99d-d64c10feb0c3"
      },
      "execution_count": null,
      "outputs": [
        {
          "output_type": "execute_result",
          "data": {
            "text/plain": [
              "((940, 15), (413, 5), (67, 8))"
            ]
          },
          "metadata": {},
          "execution_count": 7
        }
      ]
    },
    {
      "cell_type": "code",
      "source": [
        "dailyActivity_merged.info(), sleepDay_merged.info(), weightLogInfo_merged.info()"
      ],
      "metadata": {
        "colab": {
          "base_uri": "https://localhost:8080/"
        },
        "id": "P_y-gN53Pg5P",
        "outputId": "6ad1b33f-7d1b-4371-f693-24e8c082ab5e"
      },
      "execution_count": null,
      "outputs": [
        {
          "output_type": "stream",
          "name": "stdout",
          "text": [
            "<class 'pandas.core.frame.DataFrame'>\n",
            "RangeIndex: 940 entries, 0 to 939\n",
            "Data columns (total 15 columns):\n",
            " #   Column                    Non-Null Count  Dtype  \n",
            "---  ------                    --------------  -----  \n",
            " 0   Id                        940 non-null    int64  \n",
            " 1   ActivityDate              940 non-null    object \n",
            " 2   TotalSteps                940 non-null    int64  \n",
            " 3   TotalDistance             940 non-null    float64\n",
            " 4   TrackerDistance           940 non-null    float64\n",
            " 5   LoggedActivitiesDistance  940 non-null    float64\n",
            " 6   VeryActiveDistance        940 non-null    float64\n",
            " 7   ModeratelyActiveDistance  940 non-null    float64\n",
            " 8   LightActiveDistance       940 non-null    float64\n",
            " 9   SedentaryActiveDistance   940 non-null    float64\n",
            " 10  VeryActiveMinutes         940 non-null    int64  \n",
            " 11  FairlyActiveMinutes       940 non-null    int64  \n",
            " 12  LightlyActiveMinutes      940 non-null    int64  \n",
            " 13  SedentaryMinutes          940 non-null    int64  \n",
            " 14  Calories                  940 non-null    int64  \n",
            "dtypes: float64(7), int64(7), object(1)\n",
            "memory usage: 110.3+ KB\n",
            "<class 'pandas.core.frame.DataFrame'>\n",
            "RangeIndex: 413 entries, 0 to 412\n",
            "Data columns (total 5 columns):\n",
            " #   Column              Non-Null Count  Dtype \n",
            "---  ------              --------------  ----- \n",
            " 0   Id                  413 non-null    int64 \n",
            " 1   SleepDay            413 non-null    object\n",
            " 2   TotalSleepRecords   413 non-null    int64 \n",
            " 3   TotalMinutesAsleep  413 non-null    int64 \n",
            " 4   TotalTimeInBed      413 non-null    int64 \n",
            "dtypes: int64(4), object(1)\n",
            "memory usage: 16.3+ KB\n",
            "<class 'pandas.core.frame.DataFrame'>\n",
            "RangeIndex: 67 entries, 0 to 66\n",
            "Data columns (total 8 columns):\n",
            " #   Column          Non-Null Count  Dtype  \n",
            "---  ------          --------------  -----  \n",
            " 0   Id              67 non-null     int64  \n",
            " 1   Date            67 non-null     object \n",
            " 2   WeightKg        67 non-null     float64\n",
            " 3   WeightPounds    67 non-null     float64\n",
            " 4   Fat             2 non-null      float64\n",
            " 5   BMI             67 non-null     float64\n",
            " 6   IsManualReport  67 non-null     bool   \n",
            " 7   LogId           67 non-null     int64  \n",
            "dtypes: bool(1), float64(4), int64(2), object(1)\n",
            "memory usage: 3.9+ KB\n"
          ]
        },
        {
          "output_type": "execute_result",
          "data": {
            "text/plain": [
              "(None, None, None)"
            ]
          },
          "metadata": {},
          "execution_count": 8
        }
      ]
    },
    {
      "cell_type": "code",
      "source": [
        "dailyActivity_merged.describe()"
      ],
      "metadata": {
        "colab": {
          "base_uri": "https://localhost:8080/",
          "height": 364
        },
        "id": "6ETjyz0NPiZT",
        "outputId": "3fc61534-02d6-406f-ab4d-554d87606728"
      },
      "execution_count": null,
      "outputs": [
        {
          "output_type": "execute_result",
          "data": {
            "text/plain": [
              "                 Id    TotalSteps  TotalDistance  TrackerDistance  \\\n",
              "count  9.400000e+02    940.000000     940.000000       940.000000   \n",
              "mean   4.855407e+09   7637.910638       5.489702         5.475351   \n",
              "std    2.424805e+09   5087.150742       3.924606         3.907276   \n",
              "min    1.503960e+09      0.000000       0.000000         0.000000   \n",
              "25%    2.320127e+09   3789.750000       2.620000         2.620000   \n",
              "50%    4.445115e+09   7405.500000       5.245000         5.245000   \n",
              "75%    6.962181e+09  10727.000000       7.712500         7.710000   \n",
              "max    8.877689e+09  36019.000000      28.030001        28.030001   \n",
              "\n",
              "       LoggedActivitiesDistance  VeryActiveDistance  ModeratelyActiveDistance  \\\n",
              "count                940.000000          940.000000                940.000000   \n",
              "mean                   0.108171            1.502681                  0.567543   \n",
              "std                    0.619897            2.658941                  0.883580   \n",
              "min                    0.000000            0.000000                  0.000000   \n",
              "25%                    0.000000            0.000000                  0.000000   \n",
              "50%                    0.000000            0.210000                  0.240000   \n",
              "75%                    0.000000            2.052500                  0.800000   \n",
              "max                    4.942142           21.920000                  6.480000   \n",
              "\n",
              "       LightActiveDistance  SedentaryActiveDistance  VeryActiveMinutes  \\\n",
              "count           940.000000               940.000000         940.000000   \n",
              "mean              3.340819                 0.001606          21.164894   \n",
              "std               2.040655                 0.007346          32.844803   \n",
              "min               0.000000                 0.000000           0.000000   \n",
              "25%               1.945000                 0.000000           0.000000   \n",
              "50%               3.365000                 0.000000           4.000000   \n",
              "75%               4.782500                 0.000000          32.000000   \n",
              "max              10.710000                 0.110000         210.000000   \n",
              "\n",
              "       FairlyActiveMinutes  LightlyActiveMinutes  SedentaryMinutes  \\\n",
              "count           940.000000            940.000000        940.000000   \n",
              "mean             13.564894            192.812766        991.210638   \n",
              "std              19.987404            109.174700        301.267437   \n",
              "min               0.000000              0.000000          0.000000   \n",
              "25%               0.000000            127.000000        729.750000   \n",
              "50%               6.000000            199.000000       1057.500000   \n",
              "75%              19.000000            264.000000       1229.500000   \n",
              "max             143.000000            518.000000       1440.000000   \n",
              "\n",
              "          Calories  \n",
              "count   940.000000  \n",
              "mean   2303.609574  \n",
              "std     718.166862  \n",
              "min       0.000000  \n",
              "25%    1828.500000  \n",
              "50%    2134.000000  \n",
              "75%    2793.250000  \n",
              "max    4900.000000  "
            ],
            "text/html": [
              "\n",
              "  <div id=\"df-6dc24bb9-a400-4b1f-92c3-f2ac065770c7\">\n",
              "    <div class=\"colab-df-container\">\n",
              "      <div>\n",
              "<style scoped>\n",
              "    .dataframe tbody tr th:only-of-type {\n",
              "        vertical-align: middle;\n",
              "    }\n",
              "\n",
              "    .dataframe tbody tr th {\n",
              "        vertical-align: top;\n",
              "    }\n",
              "\n",
              "    .dataframe thead th {\n",
              "        text-align: right;\n",
              "    }\n",
              "</style>\n",
              "<table border=\"1\" class=\"dataframe\">\n",
              "  <thead>\n",
              "    <tr style=\"text-align: right;\">\n",
              "      <th></th>\n",
              "      <th>Id</th>\n",
              "      <th>TotalSteps</th>\n",
              "      <th>TotalDistance</th>\n",
              "      <th>TrackerDistance</th>\n",
              "      <th>LoggedActivitiesDistance</th>\n",
              "      <th>VeryActiveDistance</th>\n",
              "      <th>ModeratelyActiveDistance</th>\n",
              "      <th>LightActiveDistance</th>\n",
              "      <th>SedentaryActiveDistance</th>\n",
              "      <th>VeryActiveMinutes</th>\n",
              "      <th>FairlyActiveMinutes</th>\n",
              "      <th>LightlyActiveMinutes</th>\n",
              "      <th>SedentaryMinutes</th>\n",
              "      <th>Calories</th>\n",
              "    </tr>\n",
              "  </thead>\n",
              "  <tbody>\n",
              "    <tr>\n",
              "      <th>count</th>\n",
              "      <td>9.400000e+02</td>\n",
              "      <td>940.000000</td>\n",
              "      <td>940.000000</td>\n",
              "      <td>940.000000</td>\n",
              "      <td>940.000000</td>\n",
              "      <td>940.000000</td>\n",
              "      <td>940.000000</td>\n",
              "      <td>940.000000</td>\n",
              "      <td>940.000000</td>\n",
              "      <td>940.000000</td>\n",
              "      <td>940.000000</td>\n",
              "      <td>940.000000</td>\n",
              "      <td>940.000000</td>\n",
              "      <td>940.000000</td>\n",
              "    </tr>\n",
              "    <tr>\n",
              "      <th>mean</th>\n",
              "      <td>4.855407e+09</td>\n",
              "      <td>7637.910638</td>\n",
              "      <td>5.489702</td>\n",
              "      <td>5.475351</td>\n",
              "      <td>0.108171</td>\n",
              "      <td>1.502681</td>\n",
              "      <td>0.567543</td>\n",
              "      <td>3.340819</td>\n",
              "      <td>0.001606</td>\n",
              "      <td>21.164894</td>\n",
              "      <td>13.564894</td>\n",
              "      <td>192.812766</td>\n",
              "      <td>991.210638</td>\n",
              "      <td>2303.609574</td>\n",
              "    </tr>\n",
              "    <tr>\n",
              "      <th>std</th>\n",
              "      <td>2.424805e+09</td>\n",
              "      <td>5087.150742</td>\n",
              "      <td>3.924606</td>\n",
              "      <td>3.907276</td>\n",
              "      <td>0.619897</td>\n",
              "      <td>2.658941</td>\n",
              "      <td>0.883580</td>\n",
              "      <td>2.040655</td>\n",
              "      <td>0.007346</td>\n",
              "      <td>32.844803</td>\n",
              "      <td>19.987404</td>\n",
              "      <td>109.174700</td>\n",
              "      <td>301.267437</td>\n",
              "      <td>718.166862</td>\n",
              "    </tr>\n",
              "    <tr>\n",
              "      <th>min</th>\n",
              "      <td>1.503960e+09</td>\n",
              "      <td>0.000000</td>\n",
              "      <td>0.000000</td>\n",
              "      <td>0.000000</td>\n",
              "      <td>0.000000</td>\n",
              "      <td>0.000000</td>\n",
              "      <td>0.000000</td>\n",
              "      <td>0.000000</td>\n",
              "      <td>0.000000</td>\n",
              "      <td>0.000000</td>\n",
              "      <td>0.000000</td>\n",
              "      <td>0.000000</td>\n",
              "      <td>0.000000</td>\n",
              "      <td>0.000000</td>\n",
              "    </tr>\n",
              "    <tr>\n",
              "      <th>25%</th>\n",
              "      <td>2.320127e+09</td>\n",
              "      <td>3789.750000</td>\n",
              "      <td>2.620000</td>\n",
              "      <td>2.620000</td>\n",
              "      <td>0.000000</td>\n",
              "      <td>0.000000</td>\n",
              "      <td>0.000000</td>\n",
              "      <td>1.945000</td>\n",
              "      <td>0.000000</td>\n",
              "      <td>0.000000</td>\n",
              "      <td>0.000000</td>\n",
              "      <td>127.000000</td>\n",
              "      <td>729.750000</td>\n",
              "      <td>1828.500000</td>\n",
              "    </tr>\n",
              "    <tr>\n",
              "      <th>50%</th>\n",
              "      <td>4.445115e+09</td>\n",
              "      <td>7405.500000</td>\n",
              "      <td>5.245000</td>\n",
              "      <td>5.245000</td>\n",
              "      <td>0.000000</td>\n",
              "      <td>0.210000</td>\n",
              "      <td>0.240000</td>\n",
              "      <td>3.365000</td>\n",
              "      <td>0.000000</td>\n",
              "      <td>4.000000</td>\n",
              "      <td>6.000000</td>\n",
              "      <td>199.000000</td>\n",
              "      <td>1057.500000</td>\n",
              "      <td>2134.000000</td>\n",
              "    </tr>\n",
              "    <tr>\n",
              "      <th>75%</th>\n",
              "      <td>6.962181e+09</td>\n",
              "      <td>10727.000000</td>\n",
              "      <td>7.712500</td>\n",
              "      <td>7.710000</td>\n",
              "      <td>0.000000</td>\n",
              "      <td>2.052500</td>\n",
              "      <td>0.800000</td>\n",
              "      <td>4.782500</td>\n",
              "      <td>0.000000</td>\n",
              "      <td>32.000000</td>\n",
              "      <td>19.000000</td>\n",
              "      <td>264.000000</td>\n",
              "      <td>1229.500000</td>\n",
              "      <td>2793.250000</td>\n",
              "    </tr>\n",
              "    <tr>\n",
              "      <th>max</th>\n",
              "      <td>8.877689e+09</td>\n",
              "      <td>36019.000000</td>\n",
              "      <td>28.030001</td>\n",
              "      <td>28.030001</td>\n",
              "      <td>4.942142</td>\n",
              "      <td>21.920000</td>\n",
              "      <td>6.480000</td>\n",
              "      <td>10.710000</td>\n",
              "      <td>0.110000</td>\n",
              "      <td>210.000000</td>\n",
              "      <td>143.000000</td>\n",
              "      <td>518.000000</td>\n",
              "      <td>1440.000000</td>\n",
              "      <td>4900.000000</td>\n",
              "    </tr>\n",
              "  </tbody>\n",
              "</table>\n",
              "</div>\n",
              "      <button class=\"colab-df-convert\" onclick=\"convertToInteractive('df-6dc24bb9-a400-4b1f-92c3-f2ac065770c7')\"\n",
              "              title=\"Convert this dataframe to an interactive table.\"\n",
              "              style=\"display:none;\">\n",
              "        \n",
              "  <svg xmlns=\"http://www.w3.org/2000/svg\" height=\"24px\"viewBox=\"0 0 24 24\"\n",
              "       width=\"24px\">\n",
              "    <path d=\"M0 0h24v24H0V0z\" fill=\"none\"/>\n",
              "    <path d=\"M18.56 5.44l.94 2.06.94-2.06 2.06-.94-2.06-.94-.94-2.06-.94 2.06-2.06.94zm-11 1L8.5 8.5l.94-2.06 2.06-.94-2.06-.94L8.5 2.5l-.94 2.06-2.06.94zm10 10l.94 2.06.94-2.06 2.06-.94-2.06-.94-.94-2.06-.94 2.06-2.06.94z\"/><path d=\"M17.41 7.96l-1.37-1.37c-.4-.4-.92-.59-1.43-.59-.52 0-1.04.2-1.43.59L10.3 9.45l-7.72 7.72c-.78.78-.78 2.05 0 2.83L4 21.41c.39.39.9.59 1.41.59.51 0 1.02-.2 1.41-.59l7.78-7.78 2.81-2.81c.8-.78.8-2.07 0-2.86zM5.41 20L4 18.59l7.72-7.72 1.47 1.35L5.41 20z\"/>\n",
              "  </svg>\n",
              "      </button>\n",
              "      \n",
              "  <style>\n",
              "    .colab-df-container {\n",
              "      display:flex;\n",
              "      flex-wrap:wrap;\n",
              "      gap: 12px;\n",
              "    }\n",
              "\n",
              "    .colab-df-convert {\n",
              "      background-color: #E8F0FE;\n",
              "      border: none;\n",
              "      border-radius: 50%;\n",
              "      cursor: pointer;\n",
              "      display: none;\n",
              "      fill: #1967D2;\n",
              "      height: 32px;\n",
              "      padding: 0 0 0 0;\n",
              "      width: 32px;\n",
              "    }\n",
              "\n",
              "    .colab-df-convert:hover {\n",
              "      background-color: #E2EBFA;\n",
              "      box-shadow: 0px 1px 2px rgba(60, 64, 67, 0.3), 0px 1px 3px 1px rgba(60, 64, 67, 0.15);\n",
              "      fill: #174EA6;\n",
              "    }\n",
              "\n",
              "    [theme=dark] .colab-df-convert {\n",
              "      background-color: #3B4455;\n",
              "      fill: #D2E3FC;\n",
              "    }\n",
              "\n",
              "    [theme=dark] .colab-df-convert:hover {\n",
              "      background-color: #434B5C;\n",
              "      box-shadow: 0px 1px 3px 1px rgba(0, 0, 0, 0.15);\n",
              "      filter: drop-shadow(0px 1px 2px rgba(0, 0, 0, 0.3));\n",
              "      fill: #FFFFFF;\n",
              "    }\n",
              "  </style>\n",
              "\n",
              "      <script>\n",
              "        const buttonEl =\n",
              "          document.querySelector('#df-6dc24bb9-a400-4b1f-92c3-f2ac065770c7 button.colab-df-convert');\n",
              "        buttonEl.style.display =\n",
              "          google.colab.kernel.accessAllowed ? 'block' : 'none';\n",
              "\n",
              "        async function convertToInteractive(key) {\n",
              "          const element = document.querySelector('#df-6dc24bb9-a400-4b1f-92c3-f2ac065770c7');\n",
              "          const dataTable =\n",
              "            await google.colab.kernel.invokeFunction('convertToInteractive',\n",
              "                                                     [key], {});\n",
              "          if (!dataTable) return;\n",
              "\n",
              "          const docLinkHtml = 'Like what you see? Visit the ' +\n",
              "            '<a target=\"_blank\" href=https://colab.research.google.com/notebooks/data_table.ipynb>data table notebook</a>'\n",
              "            + ' to learn more about interactive tables.';\n",
              "          element.innerHTML = '';\n",
              "          dataTable['output_type'] = 'display_data';\n",
              "          await google.colab.output.renderOutput(dataTable, element);\n",
              "          const docLink = document.createElement('div');\n",
              "          docLink.innerHTML = docLinkHtml;\n",
              "          element.appendChild(docLink);\n",
              "        }\n",
              "      </script>\n",
              "    </div>\n",
              "  </div>\n",
              "  "
            ]
          },
          "metadata": {},
          "execution_count": 9
        }
      ]
    },
    {
      "cell_type": "code",
      "source": [
        "sleepDay_merged.describe()"
      ],
      "metadata": {
        "colab": {
          "base_uri": "https://localhost:8080/",
          "height": 300
        },
        "id": "rSR9_2GqFHmN",
        "outputId": "a425ac44-cb27-4cfc-96da-e6ba32b0c583"
      },
      "execution_count": null,
      "outputs": [
        {
          "output_type": "execute_result",
          "data": {
            "text/plain": [
              "                 Id  TotalSleepRecords  TotalMinutesAsleep  TotalTimeInBed\n",
              "count  4.130000e+02         413.000000          413.000000      413.000000\n",
              "mean   5.000979e+09           1.118644          419.467312      458.639225\n",
              "std    2.060360e+09           0.345521          118.344679      127.101607\n",
              "min    1.503960e+09           1.000000           58.000000       61.000000\n",
              "25%    3.977334e+09           1.000000          361.000000      403.000000\n",
              "50%    4.702922e+09           1.000000          433.000000      463.000000\n",
              "75%    6.962181e+09           1.000000          490.000000      526.000000\n",
              "max    8.792010e+09           3.000000          796.000000      961.000000"
            ],
            "text/html": [
              "\n",
              "  <div id=\"df-328b5c7f-2c4b-4b70-b122-2b5ee5d547eb\">\n",
              "    <div class=\"colab-df-container\">\n",
              "      <div>\n",
              "<style scoped>\n",
              "    .dataframe tbody tr th:only-of-type {\n",
              "        vertical-align: middle;\n",
              "    }\n",
              "\n",
              "    .dataframe tbody tr th {\n",
              "        vertical-align: top;\n",
              "    }\n",
              "\n",
              "    .dataframe thead th {\n",
              "        text-align: right;\n",
              "    }\n",
              "</style>\n",
              "<table border=\"1\" class=\"dataframe\">\n",
              "  <thead>\n",
              "    <tr style=\"text-align: right;\">\n",
              "      <th></th>\n",
              "      <th>Id</th>\n",
              "      <th>TotalSleepRecords</th>\n",
              "      <th>TotalMinutesAsleep</th>\n",
              "      <th>TotalTimeInBed</th>\n",
              "    </tr>\n",
              "  </thead>\n",
              "  <tbody>\n",
              "    <tr>\n",
              "      <th>count</th>\n",
              "      <td>4.130000e+02</td>\n",
              "      <td>413.000000</td>\n",
              "      <td>413.000000</td>\n",
              "      <td>413.000000</td>\n",
              "    </tr>\n",
              "    <tr>\n",
              "      <th>mean</th>\n",
              "      <td>5.000979e+09</td>\n",
              "      <td>1.118644</td>\n",
              "      <td>419.467312</td>\n",
              "      <td>458.639225</td>\n",
              "    </tr>\n",
              "    <tr>\n",
              "      <th>std</th>\n",
              "      <td>2.060360e+09</td>\n",
              "      <td>0.345521</td>\n",
              "      <td>118.344679</td>\n",
              "      <td>127.101607</td>\n",
              "    </tr>\n",
              "    <tr>\n",
              "      <th>min</th>\n",
              "      <td>1.503960e+09</td>\n",
              "      <td>1.000000</td>\n",
              "      <td>58.000000</td>\n",
              "      <td>61.000000</td>\n",
              "    </tr>\n",
              "    <tr>\n",
              "      <th>25%</th>\n",
              "      <td>3.977334e+09</td>\n",
              "      <td>1.000000</td>\n",
              "      <td>361.000000</td>\n",
              "      <td>403.000000</td>\n",
              "    </tr>\n",
              "    <tr>\n",
              "      <th>50%</th>\n",
              "      <td>4.702922e+09</td>\n",
              "      <td>1.000000</td>\n",
              "      <td>433.000000</td>\n",
              "      <td>463.000000</td>\n",
              "    </tr>\n",
              "    <tr>\n",
              "      <th>75%</th>\n",
              "      <td>6.962181e+09</td>\n",
              "      <td>1.000000</td>\n",
              "      <td>490.000000</td>\n",
              "      <td>526.000000</td>\n",
              "    </tr>\n",
              "    <tr>\n",
              "      <th>max</th>\n",
              "      <td>8.792010e+09</td>\n",
              "      <td>3.000000</td>\n",
              "      <td>796.000000</td>\n",
              "      <td>961.000000</td>\n",
              "    </tr>\n",
              "  </tbody>\n",
              "</table>\n",
              "</div>\n",
              "      <button class=\"colab-df-convert\" onclick=\"convertToInteractive('df-328b5c7f-2c4b-4b70-b122-2b5ee5d547eb')\"\n",
              "              title=\"Convert this dataframe to an interactive table.\"\n",
              "              style=\"display:none;\">\n",
              "        \n",
              "  <svg xmlns=\"http://www.w3.org/2000/svg\" height=\"24px\"viewBox=\"0 0 24 24\"\n",
              "       width=\"24px\">\n",
              "    <path d=\"M0 0h24v24H0V0z\" fill=\"none\"/>\n",
              "    <path d=\"M18.56 5.44l.94 2.06.94-2.06 2.06-.94-2.06-.94-.94-2.06-.94 2.06-2.06.94zm-11 1L8.5 8.5l.94-2.06 2.06-.94-2.06-.94L8.5 2.5l-.94 2.06-2.06.94zm10 10l.94 2.06.94-2.06 2.06-.94-2.06-.94-.94-2.06-.94 2.06-2.06.94z\"/><path d=\"M17.41 7.96l-1.37-1.37c-.4-.4-.92-.59-1.43-.59-.52 0-1.04.2-1.43.59L10.3 9.45l-7.72 7.72c-.78.78-.78 2.05 0 2.83L4 21.41c.39.39.9.59 1.41.59.51 0 1.02-.2 1.41-.59l7.78-7.78 2.81-2.81c.8-.78.8-2.07 0-2.86zM5.41 20L4 18.59l7.72-7.72 1.47 1.35L5.41 20z\"/>\n",
              "  </svg>\n",
              "      </button>\n",
              "      \n",
              "  <style>\n",
              "    .colab-df-container {\n",
              "      display:flex;\n",
              "      flex-wrap:wrap;\n",
              "      gap: 12px;\n",
              "    }\n",
              "\n",
              "    .colab-df-convert {\n",
              "      background-color: #E8F0FE;\n",
              "      border: none;\n",
              "      border-radius: 50%;\n",
              "      cursor: pointer;\n",
              "      display: none;\n",
              "      fill: #1967D2;\n",
              "      height: 32px;\n",
              "      padding: 0 0 0 0;\n",
              "      width: 32px;\n",
              "    }\n",
              "\n",
              "    .colab-df-convert:hover {\n",
              "      background-color: #E2EBFA;\n",
              "      box-shadow: 0px 1px 2px rgba(60, 64, 67, 0.3), 0px 1px 3px 1px rgba(60, 64, 67, 0.15);\n",
              "      fill: #174EA6;\n",
              "    }\n",
              "\n",
              "    [theme=dark] .colab-df-convert {\n",
              "      background-color: #3B4455;\n",
              "      fill: #D2E3FC;\n",
              "    }\n",
              "\n",
              "    [theme=dark] .colab-df-convert:hover {\n",
              "      background-color: #434B5C;\n",
              "      box-shadow: 0px 1px 3px 1px rgba(0, 0, 0, 0.15);\n",
              "      filter: drop-shadow(0px 1px 2px rgba(0, 0, 0, 0.3));\n",
              "      fill: #FFFFFF;\n",
              "    }\n",
              "  </style>\n",
              "\n",
              "      <script>\n",
              "        const buttonEl =\n",
              "          document.querySelector('#df-328b5c7f-2c4b-4b70-b122-2b5ee5d547eb button.colab-df-convert');\n",
              "        buttonEl.style.display =\n",
              "          google.colab.kernel.accessAllowed ? 'block' : 'none';\n",
              "\n",
              "        async function convertToInteractive(key) {\n",
              "          const element = document.querySelector('#df-328b5c7f-2c4b-4b70-b122-2b5ee5d547eb');\n",
              "          const dataTable =\n",
              "            await google.colab.kernel.invokeFunction('convertToInteractive',\n",
              "                                                     [key], {});\n",
              "          if (!dataTable) return;\n",
              "\n",
              "          const docLinkHtml = 'Like what you see? Visit the ' +\n",
              "            '<a target=\"_blank\" href=https://colab.research.google.com/notebooks/data_table.ipynb>data table notebook</a>'\n",
              "            + ' to learn more about interactive tables.';\n",
              "          element.innerHTML = '';\n",
              "          dataTable['output_type'] = 'display_data';\n",
              "          await google.colab.output.renderOutput(dataTable, element);\n",
              "          const docLink = document.createElement('div');\n",
              "          docLink.innerHTML = docLinkHtml;\n",
              "          element.appendChild(docLink);\n",
              "        }\n",
              "      </script>\n",
              "    </div>\n",
              "  </div>\n",
              "  "
            ]
          },
          "metadata": {},
          "execution_count": 10
        }
      ]
    },
    {
      "cell_type": "code",
      "source": [
        "weightLogInfo_merged.describe()"
      ],
      "metadata": {
        "colab": {
          "base_uri": "https://localhost:8080/",
          "height": 300
        },
        "id": "iaiAbdkGFKoM",
        "outputId": "93c8e9c3-cc0e-44e0-83f3-239c2e7d3570"
      },
      "execution_count": null,
      "outputs": [
        {
          "output_type": "execute_result",
          "data": {
            "text/plain": [
              "                 Id    WeightKg  WeightPounds       Fat        BMI  \\\n",
              "count  6.700000e+01   67.000000     67.000000   2.00000  67.000000   \n",
              "mean   7.009282e+09   72.035821    158.811801  23.50000  25.185224   \n",
              "std    1.950322e+09   13.923206     30.695415   2.12132   3.066963   \n",
              "min    1.503960e+09   52.599998    115.963147  22.00000  21.450001   \n",
              "25%    6.962181e+09   61.400002    135.363832  22.75000  23.959999   \n",
              "50%    6.962181e+09   62.500000    137.788914  23.50000  24.389999   \n",
              "75%    8.877689e+09   85.049999    187.503152  24.25000  25.559999   \n",
              "max    8.877689e+09  133.500000    294.317120  25.00000  47.540001   \n",
              "\n",
              "              LogId  \n",
              "count  6.700000e+01  \n",
              "mean   1.461772e+12  \n",
              "std    7.829948e+08  \n",
              "min    1.460444e+12  \n",
              "25%    1.461079e+12  \n",
              "50%    1.461802e+12  \n",
              "75%    1.462375e+12  \n",
              "max    1.463098e+12  "
            ],
            "text/html": [
              "\n",
              "  <div id=\"df-acb2b2b1-3c37-40a2-834e-c47182978ad9\">\n",
              "    <div class=\"colab-df-container\">\n",
              "      <div>\n",
              "<style scoped>\n",
              "    .dataframe tbody tr th:only-of-type {\n",
              "        vertical-align: middle;\n",
              "    }\n",
              "\n",
              "    .dataframe tbody tr th {\n",
              "        vertical-align: top;\n",
              "    }\n",
              "\n",
              "    .dataframe thead th {\n",
              "        text-align: right;\n",
              "    }\n",
              "</style>\n",
              "<table border=\"1\" class=\"dataframe\">\n",
              "  <thead>\n",
              "    <tr style=\"text-align: right;\">\n",
              "      <th></th>\n",
              "      <th>Id</th>\n",
              "      <th>WeightKg</th>\n",
              "      <th>WeightPounds</th>\n",
              "      <th>Fat</th>\n",
              "      <th>BMI</th>\n",
              "      <th>LogId</th>\n",
              "    </tr>\n",
              "  </thead>\n",
              "  <tbody>\n",
              "    <tr>\n",
              "      <th>count</th>\n",
              "      <td>6.700000e+01</td>\n",
              "      <td>67.000000</td>\n",
              "      <td>67.000000</td>\n",
              "      <td>2.00000</td>\n",
              "      <td>67.000000</td>\n",
              "      <td>6.700000e+01</td>\n",
              "    </tr>\n",
              "    <tr>\n",
              "      <th>mean</th>\n",
              "      <td>7.009282e+09</td>\n",
              "      <td>72.035821</td>\n",
              "      <td>158.811801</td>\n",
              "      <td>23.50000</td>\n",
              "      <td>25.185224</td>\n",
              "      <td>1.461772e+12</td>\n",
              "    </tr>\n",
              "    <tr>\n",
              "      <th>std</th>\n",
              "      <td>1.950322e+09</td>\n",
              "      <td>13.923206</td>\n",
              "      <td>30.695415</td>\n",
              "      <td>2.12132</td>\n",
              "      <td>3.066963</td>\n",
              "      <td>7.829948e+08</td>\n",
              "    </tr>\n",
              "    <tr>\n",
              "      <th>min</th>\n",
              "      <td>1.503960e+09</td>\n",
              "      <td>52.599998</td>\n",
              "      <td>115.963147</td>\n",
              "      <td>22.00000</td>\n",
              "      <td>21.450001</td>\n",
              "      <td>1.460444e+12</td>\n",
              "    </tr>\n",
              "    <tr>\n",
              "      <th>25%</th>\n",
              "      <td>6.962181e+09</td>\n",
              "      <td>61.400002</td>\n",
              "      <td>135.363832</td>\n",
              "      <td>22.75000</td>\n",
              "      <td>23.959999</td>\n",
              "      <td>1.461079e+12</td>\n",
              "    </tr>\n",
              "    <tr>\n",
              "      <th>50%</th>\n",
              "      <td>6.962181e+09</td>\n",
              "      <td>62.500000</td>\n",
              "      <td>137.788914</td>\n",
              "      <td>23.50000</td>\n",
              "      <td>24.389999</td>\n",
              "      <td>1.461802e+12</td>\n",
              "    </tr>\n",
              "    <tr>\n",
              "      <th>75%</th>\n",
              "      <td>8.877689e+09</td>\n",
              "      <td>85.049999</td>\n",
              "      <td>187.503152</td>\n",
              "      <td>24.25000</td>\n",
              "      <td>25.559999</td>\n",
              "      <td>1.462375e+12</td>\n",
              "    </tr>\n",
              "    <tr>\n",
              "      <th>max</th>\n",
              "      <td>8.877689e+09</td>\n",
              "      <td>133.500000</td>\n",
              "      <td>294.317120</td>\n",
              "      <td>25.00000</td>\n",
              "      <td>47.540001</td>\n",
              "      <td>1.463098e+12</td>\n",
              "    </tr>\n",
              "  </tbody>\n",
              "</table>\n",
              "</div>\n",
              "      <button class=\"colab-df-convert\" onclick=\"convertToInteractive('df-acb2b2b1-3c37-40a2-834e-c47182978ad9')\"\n",
              "              title=\"Convert this dataframe to an interactive table.\"\n",
              "              style=\"display:none;\">\n",
              "        \n",
              "  <svg xmlns=\"http://www.w3.org/2000/svg\" height=\"24px\"viewBox=\"0 0 24 24\"\n",
              "       width=\"24px\">\n",
              "    <path d=\"M0 0h24v24H0V0z\" fill=\"none\"/>\n",
              "    <path d=\"M18.56 5.44l.94 2.06.94-2.06 2.06-.94-2.06-.94-.94-2.06-.94 2.06-2.06.94zm-11 1L8.5 8.5l.94-2.06 2.06-.94-2.06-.94L8.5 2.5l-.94 2.06-2.06.94zm10 10l.94 2.06.94-2.06 2.06-.94-2.06-.94-.94-2.06-.94 2.06-2.06.94z\"/><path d=\"M17.41 7.96l-1.37-1.37c-.4-.4-.92-.59-1.43-.59-.52 0-1.04.2-1.43.59L10.3 9.45l-7.72 7.72c-.78.78-.78 2.05 0 2.83L4 21.41c.39.39.9.59 1.41.59.51 0 1.02-.2 1.41-.59l7.78-7.78 2.81-2.81c.8-.78.8-2.07 0-2.86zM5.41 20L4 18.59l7.72-7.72 1.47 1.35L5.41 20z\"/>\n",
              "  </svg>\n",
              "      </button>\n",
              "      \n",
              "  <style>\n",
              "    .colab-df-container {\n",
              "      display:flex;\n",
              "      flex-wrap:wrap;\n",
              "      gap: 12px;\n",
              "    }\n",
              "\n",
              "    .colab-df-convert {\n",
              "      background-color: #E8F0FE;\n",
              "      border: none;\n",
              "      border-radius: 50%;\n",
              "      cursor: pointer;\n",
              "      display: none;\n",
              "      fill: #1967D2;\n",
              "      height: 32px;\n",
              "      padding: 0 0 0 0;\n",
              "      width: 32px;\n",
              "    }\n",
              "\n",
              "    .colab-df-convert:hover {\n",
              "      background-color: #E2EBFA;\n",
              "      box-shadow: 0px 1px 2px rgba(60, 64, 67, 0.3), 0px 1px 3px 1px rgba(60, 64, 67, 0.15);\n",
              "      fill: #174EA6;\n",
              "    }\n",
              "\n",
              "    [theme=dark] .colab-df-convert {\n",
              "      background-color: #3B4455;\n",
              "      fill: #D2E3FC;\n",
              "    }\n",
              "\n",
              "    [theme=dark] .colab-df-convert:hover {\n",
              "      background-color: #434B5C;\n",
              "      box-shadow: 0px 1px 3px 1px rgba(0, 0, 0, 0.15);\n",
              "      filter: drop-shadow(0px 1px 2px rgba(0, 0, 0, 0.3));\n",
              "      fill: #FFFFFF;\n",
              "    }\n",
              "  </style>\n",
              "\n",
              "      <script>\n",
              "        const buttonEl =\n",
              "          document.querySelector('#df-acb2b2b1-3c37-40a2-834e-c47182978ad9 button.colab-df-convert');\n",
              "        buttonEl.style.display =\n",
              "          google.colab.kernel.accessAllowed ? 'block' : 'none';\n",
              "\n",
              "        async function convertToInteractive(key) {\n",
              "          const element = document.querySelector('#df-acb2b2b1-3c37-40a2-834e-c47182978ad9');\n",
              "          const dataTable =\n",
              "            await google.colab.kernel.invokeFunction('convertToInteractive',\n",
              "                                                     [key], {});\n",
              "          if (!dataTable) return;\n",
              "\n",
              "          const docLinkHtml = 'Like what you see? Visit the ' +\n",
              "            '<a target=\"_blank\" href=https://colab.research.google.com/notebooks/data_table.ipynb>data table notebook</a>'\n",
              "            + ' to learn more about interactive tables.';\n",
              "          element.innerHTML = '';\n",
              "          dataTable['output_type'] = 'display_data';\n",
              "          await google.colab.output.renderOutput(dataTable, element);\n",
              "          const docLink = document.createElement('div');\n",
              "          docLink.innerHTML = docLinkHtml;\n",
              "          element.appendChild(docLink);\n",
              "        }\n",
              "      </script>\n",
              "    </div>\n",
              "  </div>\n",
              "  "
            ]
          },
          "metadata": {},
          "execution_count": 11
        }
      ]
    },
    {
      "cell_type": "code",
      "source": [
        "dailyActivity_merged.corr()"
      ],
      "metadata": {
        "colab": {
          "base_uri": "https://localhost:8080/",
          "height": 552
        },
        "id": "ZpV3SG6QPo5H",
        "outputId": "8ee71730-921c-4279-e51d-b1cc378434be"
      },
      "execution_count": null,
      "outputs": [
        {
          "output_type": "execute_result",
          "data": {
            "text/plain": [
              "                                Id  TotalSteps  TotalDistance  \\\n",
              "Id                        1.000000    0.185721       0.241000   \n",
              "TotalSteps                0.185721    1.000000       0.985369   \n",
              "TotalDistance             0.241000    0.985369       1.000000   \n",
              "TrackerDistance           0.238816    0.984822       0.999505   \n",
              "LoggedActivitiesDistance  0.188015    0.181849       0.188332   \n",
              "VeryActiveDistance        0.308691    0.740115       0.794582   \n",
              "ModeratelyActiveDistance  0.026665    0.507105       0.470758   \n",
              "LightActiveDistance       0.019629    0.692208       0.662002   \n",
              "SedentaryActiveDistance  -0.015698    0.070505       0.082389   \n",
              "VeryActiveMinutes         0.303608    0.667079       0.681297   \n",
              "FairlyActiveMinutes       0.051158    0.498693       0.462899   \n",
              "LightlyActiveMinutes     -0.098754    0.569600       0.516300   \n",
              "SedentaryMinutes         -0.043319   -0.327484      -0.288094   \n",
              "Calories                  0.396671    0.591568       0.644962   \n",
              "\n",
              "                          TrackerDistance  LoggedActivitiesDistance  \\\n",
              "Id                               0.238816                  0.188015   \n",
              "TotalSteps                       0.984822                  0.181849   \n",
              "TotalDistance                    0.999505                  0.188332   \n",
              "TrackerDistance                  1.000000                  0.162585   \n",
              "LoggedActivitiesDistance         0.162585                  1.000000   \n",
              "VeryActiveDistance               0.794338                  0.150852   \n",
              "ModeratelyActiveDistance         0.470277                  0.076527   \n",
              "LightActiveDistance              0.661365                  0.138302   \n",
              "SedentaryActiveDistance          0.074591                  0.154996   \n",
              "VeryActiveMinutes                0.680816                  0.234443   \n",
              "FairlyActiveMinutes              0.463154                  0.053860   \n",
              "LightlyActiveMinutes             0.514713                  0.102135   \n",
              "SedentaryMinutes                -0.289343                 -0.046999   \n",
              "Calories                         0.645313                  0.207595   \n",
              "\n",
              "                          VeryActiveDistance  ModeratelyActiveDistance  \\\n",
              "Id                                  0.308691                  0.026665   \n",
              "TotalSteps                          0.740115                  0.507105   \n",
              "TotalDistance                       0.794582                  0.470758   \n",
              "TrackerDistance                     0.794338                  0.470277   \n",
              "LoggedActivitiesDistance            0.150852                  0.076527   \n",
              "VeryActiveDistance                  1.000000                  0.192986   \n",
              "ModeratelyActiveDistance            0.192986                  1.000000   \n",
              "LightActiveDistance                 0.157669                  0.237847   \n",
              "SedentaryActiveDistance             0.046117                  0.005793   \n",
              "VeryActiveMinutes                   0.826681                  0.225464   \n",
              "FairlyActiveMinutes                 0.211730                  0.946934   \n",
              "LightlyActiveMinutes                0.059845                  0.162092   \n",
              "SedentaryMinutes                   -0.061754                 -0.221436   \n",
              "Calories                            0.491959                  0.216790   \n",
              "\n",
              "                          LightActiveDistance  SedentaryActiveDistance  \\\n",
              "Id                                   0.019629                -0.015698   \n",
              "TotalSteps                           0.692208                 0.070505   \n",
              "TotalDistance                        0.662002                 0.082389   \n",
              "TrackerDistance                      0.661365                 0.074591   \n",
              "LoggedActivitiesDistance             0.138302                 0.154996   \n",
              "VeryActiveDistance                   0.157669                 0.046117   \n",
              "ModeratelyActiveDistance             0.237847                 0.005793   \n",
              "LightActiveDistance                  1.000000                 0.099503   \n",
              "SedentaryActiveDistance              0.099503                 1.000000   \n",
              "VeryActiveMinutes                    0.154966                 0.008258   \n",
              "FairlyActiveMinutes                  0.220129                -0.022361   \n",
              "LightlyActiveMinutes                 0.885697                 0.124185   \n",
              "SedentaryMinutes                    -0.413552                 0.035475   \n",
              "Calories                             0.466917                 0.043652   \n",
              "\n",
              "                          VeryActiveMinutes  FairlyActiveMinutes  \\\n",
              "Id                                 0.303608             0.051158   \n",
              "TotalSteps                         0.667079             0.498693   \n",
              "TotalDistance                      0.681297             0.462899   \n",
              "TrackerDistance                    0.680816             0.463154   \n",
              "LoggedActivitiesDistance           0.234443             0.053860   \n",
              "VeryActiveDistance                 0.826681             0.211730   \n",
              "ModeratelyActiveDistance           0.225464             0.946934   \n",
              "LightActiveDistance                0.154966             0.220129   \n",
              "SedentaryActiveDistance            0.008258            -0.022361   \n",
              "VeryActiveMinutes                  1.000000             0.312420   \n",
              "FairlyActiveMinutes                0.312420             1.000000   \n",
              "LightlyActiveMinutes               0.051926             0.148820   \n",
              "SedentaryMinutes                  -0.164671            -0.237446   \n",
              "Calories                           0.615838             0.297623   \n",
              "\n",
              "                          LightlyActiveMinutes  SedentaryMinutes  Calories  \n",
              "Id                                   -0.098754         -0.043319  0.396671  \n",
              "TotalSteps                            0.569600         -0.327484  0.591568  \n",
              "TotalDistance                         0.516300         -0.288094  0.644962  \n",
              "TrackerDistance                       0.514713         -0.289343  0.645313  \n",
              "LoggedActivitiesDistance              0.102135         -0.046999  0.207595  \n",
              "VeryActiveDistance                    0.059845         -0.061754  0.491959  \n",
              "ModeratelyActiveDistance              0.162092         -0.221436  0.216790  \n",
              "LightActiveDistance                   0.885697         -0.413552  0.466917  \n",
              "SedentaryActiveDistance               0.124185          0.035475  0.043652  \n",
              "VeryActiveMinutes                     0.051926         -0.164671  0.615838  \n",
              "FairlyActiveMinutes                   0.148820         -0.237446  0.297623  \n",
              "LightlyActiveMinutes                  1.000000         -0.437104  0.286718  \n",
              "SedentaryMinutes                     -0.437104          1.000000 -0.106973  \n",
              "Calories                              0.286718         -0.106973  1.000000  "
            ],
            "text/html": [
              "\n",
              "  <div id=\"df-9a9a82ee-821d-49a8-b189-143edd6a4a2e\">\n",
              "    <div class=\"colab-df-container\">\n",
              "      <div>\n",
              "<style scoped>\n",
              "    .dataframe tbody tr th:only-of-type {\n",
              "        vertical-align: middle;\n",
              "    }\n",
              "\n",
              "    .dataframe tbody tr th {\n",
              "        vertical-align: top;\n",
              "    }\n",
              "\n",
              "    .dataframe thead th {\n",
              "        text-align: right;\n",
              "    }\n",
              "</style>\n",
              "<table border=\"1\" class=\"dataframe\">\n",
              "  <thead>\n",
              "    <tr style=\"text-align: right;\">\n",
              "      <th></th>\n",
              "      <th>Id</th>\n",
              "      <th>TotalSteps</th>\n",
              "      <th>TotalDistance</th>\n",
              "      <th>TrackerDistance</th>\n",
              "      <th>LoggedActivitiesDistance</th>\n",
              "      <th>VeryActiveDistance</th>\n",
              "      <th>ModeratelyActiveDistance</th>\n",
              "      <th>LightActiveDistance</th>\n",
              "      <th>SedentaryActiveDistance</th>\n",
              "      <th>VeryActiveMinutes</th>\n",
              "      <th>FairlyActiveMinutes</th>\n",
              "      <th>LightlyActiveMinutes</th>\n",
              "      <th>SedentaryMinutes</th>\n",
              "      <th>Calories</th>\n",
              "    </tr>\n",
              "  </thead>\n",
              "  <tbody>\n",
              "    <tr>\n",
              "      <th>Id</th>\n",
              "      <td>1.000000</td>\n",
              "      <td>0.185721</td>\n",
              "      <td>0.241000</td>\n",
              "      <td>0.238816</td>\n",
              "      <td>0.188015</td>\n",
              "      <td>0.308691</td>\n",
              "      <td>0.026665</td>\n",
              "      <td>0.019629</td>\n",
              "      <td>-0.015698</td>\n",
              "      <td>0.303608</td>\n",
              "      <td>0.051158</td>\n",
              "      <td>-0.098754</td>\n",
              "      <td>-0.043319</td>\n",
              "      <td>0.396671</td>\n",
              "    </tr>\n",
              "    <tr>\n",
              "      <th>TotalSteps</th>\n",
              "      <td>0.185721</td>\n",
              "      <td>1.000000</td>\n",
              "      <td>0.985369</td>\n",
              "      <td>0.984822</td>\n",
              "      <td>0.181849</td>\n",
              "      <td>0.740115</td>\n",
              "      <td>0.507105</td>\n",
              "      <td>0.692208</td>\n",
              "      <td>0.070505</td>\n",
              "      <td>0.667079</td>\n",
              "      <td>0.498693</td>\n",
              "      <td>0.569600</td>\n",
              "      <td>-0.327484</td>\n",
              "      <td>0.591568</td>\n",
              "    </tr>\n",
              "    <tr>\n",
              "      <th>TotalDistance</th>\n",
              "      <td>0.241000</td>\n",
              "      <td>0.985369</td>\n",
              "      <td>1.000000</td>\n",
              "      <td>0.999505</td>\n",
              "      <td>0.188332</td>\n",
              "      <td>0.794582</td>\n",
              "      <td>0.470758</td>\n",
              "      <td>0.662002</td>\n",
              "      <td>0.082389</td>\n",
              "      <td>0.681297</td>\n",
              "      <td>0.462899</td>\n",
              "      <td>0.516300</td>\n",
              "      <td>-0.288094</td>\n",
              "      <td>0.644962</td>\n",
              "    </tr>\n",
              "    <tr>\n",
              "      <th>TrackerDistance</th>\n",
              "      <td>0.238816</td>\n",
              "      <td>0.984822</td>\n",
              "      <td>0.999505</td>\n",
              "      <td>1.000000</td>\n",
              "      <td>0.162585</td>\n",
              "      <td>0.794338</td>\n",
              "      <td>0.470277</td>\n",
              "      <td>0.661365</td>\n",
              "      <td>0.074591</td>\n",
              "      <td>0.680816</td>\n",
              "      <td>0.463154</td>\n",
              "      <td>0.514713</td>\n",
              "      <td>-0.289343</td>\n",
              "      <td>0.645313</td>\n",
              "    </tr>\n",
              "    <tr>\n",
              "      <th>LoggedActivitiesDistance</th>\n",
              "      <td>0.188015</td>\n",
              "      <td>0.181849</td>\n",
              "      <td>0.188332</td>\n",
              "      <td>0.162585</td>\n",
              "      <td>1.000000</td>\n",
              "      <td>0.150852</td>\n",
              "      <td>0.076527</td>\n",
              "      <td>0.138302</td>\n",
              "      <td>0.154996</td>\n",
              "      <td>0.234443</td>\n",
              "      <td>0.053860</td>\n",
              "      <td>0.102135</td>\n",
              "      <td>-0.046999</td>\n",
              "      <td>0.207595</td>\n",
              "    </tr>\n",
              "    <tr>\n",
              "      <th>VeryActiveDistance</th>\n",
              "      <td>0.308691</td>\n",
              "      <td>0.740115</td>\n",
              "      <td>0.794582</td>\n",
              "      <td>0.794338</td>\n",
              "      <td>0.150852</td>\n",
              "      <td>1.000000</td>\n",
              "      <td>0.192986</td>\n",
              "      <td>0.157669</td>\n",
              "      <td>0.046117</td>\n",
              "      <td>0.826681</td>\n",
              "      <td>0.211730</td>\n",
              "      <td>0.059845</td>\n",
              "      <td>-0.061754</td>\n",
              "      <td>0.491959</td>\n",
              "    </tr>\n",
              "    <tr>\n",
              "      <th>ModeratelyActiveDistance</th>\n",
              "      <td>0.026665</td>\n",
              "      <td>0.507105</td>\n",
              "      <td>0.470758</td>\n",
              "      <td>0.470277</td>\n",
              "      <td>0.076527</td>\n",
              "      <td>0.192986</td>\n",
              "      <td>1.000000</td>\n",
              "      <td>0.237847</td>\n",
              "      <td>0.005793</td>\n",
              "      <td>0.225464</td>\n",
              "      <td>0.946934</td>\n",
              "      <td>0.162092</td>\n",
              "      <td>-0.221436</td>\n",
              "      <td>0.216790</td>\n",
              "    </tr>\n",
              "    <tr>\n",
              "      <th>LightActiveDistance</th>\n",
              "      <td>0.019629</td>\n",
              "      <td>0.692208</td>\n",
              "      <td>0.662002</td>\n",
              "      <td>0.661365</td>\n",
              "      <td>0.138302</td>\n",
              "      <td>0.157669</td>\n",
              "      <td>0.237847</td>\n",
              "      <td>1.000000</td>\n",
              "      <td>0.099503</td>\n",
              "      <td>0.154966</td>\n",
              "      <td>0.220129</td>\n",
              "      <td>0.885697</td>\n",
              "      <td>-0.413552</td>\n",
              "      <td>0.466917</td>\n",
              "    </tr>\n",
              "    <tr>\n",
              "      <th>SedentaryActiveDistance</th>\n",
              "      <td>-0.015698</td>\n",
              "      <td>0.070505</td>\n",
              "      <td>0.082389</td>\n",
              "      <td>0.074591</td>\n",
              "      <td>0.154996</td>\n",
              "      <td>0.046117</td>\n",
              "      <td>0.005793</td>\n",
              "      <td>0.099503</td>\n",
              "      <td>1.000000</td>\n",
              "      <td>0.008258</td>\n",
              "      <td>-0.022361</td>\n",
              "      <td>0.124185</td>\n",
              "      <td>0.035475</td>\n",
              "      <td>0.043652</td>\n",
              "    </tr>\n",
              "    <tr>\n",
              "      <th>VeryActiveMinutes</th>\n",
              "      <td>0.303608</td>\n",
              "      <td>0.667079</td>\n",
              "      <td>0.681297</td>\n",
              "      <td>0.680816</td>\n",
              "      <td>0.234443</td>\n",
              "      <td>0.826681</td>\n",
              "      <td>0.225464</td>\n",
              "      <td>0.154966</td>\n",
              "      <td>0.008258</td>\n",
              "      <td>1.000000</td>\n",
              "      <td>0.312420</td>\n",
              "      <td>0.051926</td>\n",
              "      <td>-0.164671</td>\n",
              "      <td>0.615838</td>\n",
              "    </tr>\n",
              "    <tr>\n",
              "      <th>FairlyActiveMinutes</th>\n",
              "      <td>0.051158</td>\n",
              "      <td>0.498693</td>\n",
              "      <td>0.462899</td>\n",
              "      <td>0.463154</td>\n",
              "      <td>0.053860</td>\n",
              "      <td>0.211730</td>\n",
              "      <td>0.946934</td>\n",
              "      <td>0.220129</td>\n",
              "      <td>-0.022361</td>\n",
              "      <td>0.312420</td>\n",
              "      <td>1.000000</td>\n",
              "      <td>0.148820</td>\n",
              "      <td>-0.237446</td>\n",
              "      <td>0.297623</td>\n",
              "    </tr>\n",
              "    <tr>\n",
              "      <th>LightlyActiveMinutes</th>\n",
              "      <td>-0.098754</td>\n",
              "      <td>0.569600</td>\n",
              "      <td>0.516300</td>\n",
              "      <td>0.514713</td>\n",
              "      <td>0.102135</td>\n",
              "      <td>0.059845</td>\n",
              "      <td>0.162092</td>\n",
              "      <td>0.885697</td>\n",
              "      <td>0.124185</td>\n",
              "      <td>0.051926</td>\n",
              "      <td>0.148820</td>\n",
              "      <td>1.000000</td>\n",
              "      <td>-0.437104</td>\n",
              "      <td>0.286718</td>\n",
              "    </tr>\n",
              "    <tr>\n",
              "      <th>SedentaryMinutes</th>\n",
              "      <td>-0.043319</td>\n",
              "      <td>-0.327484</td>\n",
              "      <td>-0.288094</td>\n",
              "      <td>-0.289343</td>\n",
              "      <td>-0.046999</td>\n",
              "      <td>-0.061754</td>\n",
              "      <td>-0.221436</td>\n",
              "      <td>-0.413552</td>\n",
              "      <td>0.035475</td>\n",
              "      <td>-0.164671</td>\n",
              "      <td>-0.237446</td>\n",
              "      <td>-0.437104</td>\n",
              "      <td>1.000000</td>\n",
              "      <td>-0.106973</td>\n",
              "    </tr>\n",
              "    <tr>\n",
              "      <th>Calories</th>\n",
              "      <td>0.396671</td>\n",
              "      <td>0.591568</td>\n",
              "      <td>0.644962</td>\n",
              "      <td>0.645313</td>\n",
              "      <td>0.207595</td>\n",
              "      <td>0.491959</td>\n",
              "      <td>0.216790</td>\n",
              "      <td>0.466917</td>\n",
              "      <td>0.043652</td>\n",
              "      <td>0.615838</td>\n",
              "      <td>0.297623</td>\n",
              "      <td>0.286718</td>\n",
              "      <td>-0.106973</td>\n",
              "      <td>1.000000</td>\n",
              "    </tr>\n",
              "  </tbody>\n",
              "</table>\n",
              "</div>\n",
              "      <button class=\"colab-df-convert\" onclick=\"convertToInteractive('df-9a9a82ee-821d-49a8-b189-143edd6a4a2e')\"\n",
              "              title=\"Convert this dataframe to an interactive table.\"\n",
              "              style=\"display:none;\">\n",
              "        \n",
              "  <svg xmlns=\"http://www.w3.org/2000/svg\" height=\"24px\"viewBox=\"0 0 24 24\"\n",
              "       width=\"24px\">\n",
              "    <path d=\"M0 0h24v24H0V0z\" fill=\"none\"/>\n",
              "    <path d=\"M18.56 5.44l.94 2.06.94-2.06 2.06-.94-2.06-.94-.94-2.06-.94 2.06-2.06.94zm-11 1L8.5 8.5l.94-2.06 2.06-.94-2.06-.94L8.5 2.5l-.94 2.06-2.06.94zm10 10l.94 2.06.94-2.06 2.06-.94-2.06-.94-.94-2.06-.94 2.06-2.06.94z\"/><path d=\"M17.41 7.96l-1.37-1.37c-.4-.4-.92-.59-1.43-.59-.52 0-1.04.2-1.43.59L10.3 9.45l-7.72 7.72c-.78.78-.78 2.05 0 2.83L4 21.41c.39.39.9.59 1.41.59.51 0 1.02-.2 1.41-.59l7.78-7.78 2.81-2.81c.8-.78.8-2.07 0-2.86zM5.41 20L4 18.59l7.72-7.72 1.47 1.35L5.41 20z\"/>\n",
              "  </svg>\n",
              "      </button>\n",
              "      \n",
              "  <style>\n",
              "    .colab-df-container {\n",
              "      display:flex;\n",
              "      flex-wrap:wrap;\n",
              "      gap: 12px;\n",
              "    }\n",
              "\n",
              "    .colab-df-convert {\n",
              "      background-color: #E8F0FE;\n",
              "      border: none;\n",
              "      border-radius: 50%;\n",
              "      cursor: pointer;\n",
              "      display: none;\n",
              "      fill: #1967D2;\n",
              "      height: 32px;\n",
              "      padding: 0 0 0 0;\n",
              "      width: 32px;\n",
              "    }\n",
              "\n",
              "    .colab-df-convert:hover {\n",
              "      background-color: #E2EBFA;\n",
              "      box-shadow: 0px 1px 2px rgba(60, 64, 67, 0.3), 0px 1px 3px 1px rgba(60, 64, 67, 0.15);\n",
              "      fill: #174EA6;\n",
              "    }\n",
              "\n",
              "    [theme=dark] .colab-df-convert {\n",
              "      background-color: #3B4455;\n",
              "      fill: #D2E3FC;\n",
              "    }\n",
              "\n",
              "    [theme=dark] .colab-df-convert:hover {\n",
              "      background-color: #434B5C;\n",
              "      box-shadow: 0px 1px 3px 1px rgba(0, 0, 0, 0.15);\n",
              "      filter: drop-shadow(0px 1px 2px rgba(0, 0, 0, 0.3));\n",
              "      fill: #FFFFFF;\n",
              "    }\n",
              "  </style>\n",
              "\n",
              "      <script>\n",
              "        const buttonEl =\n",
              "          document.querySelector('#df-9a9a82ee-821d-49a8-b189-143edd6a4a2e button.colab-df-convert');\n",
              "        buttonEl.style.display =\n",
              "          google.colab.kernel.accessAllowed ? 'block' : 'none';\n",
              "\n",
              "        async function convertToInteractive(key) {\n",
              "          const element = document.querySelector('#df-9a9a82ee-821d-49a8-b189-143edd6a4a2e');\n",
              "          const dataTable =\n",
              "            await google.colab.kernel.invokeFunction('convertToInteractive',\n",
              "                                                     [key], {});\n",
              "          if (!dataTable) return;\n",
              "\n",
              "          const docLinkHtml = 'Like what you see? Visit the ' +\n",
              "            '<a target=\"_blank\" href=https://colab.research.google.com/notebooks/data_table.ipynb>data table notebook</a>'\n",
              "            + ' to learn more about interactive tables.';\n",
              "          element.innerHTML = '';\n",
              "          dataTable['output_type'] = 'display_data';\n",
              "          await google.colab.output.renderOutput(dataTable, element);\n",
              "          const docLink = document.createElement('div');\n",
              "          docLink.innerHTML = docLinkHtml;\n",
              "          element.appendChild(docLink);\n",
              "        }\n",
              "      </script>\n",
              "    </div>\n",
              "  </div>\n",
              "  "
            ]
          },
          "metadata": {},
          "execution_count": 12
        }
      ]
    },
    {
      "cell_type": "code",
      "source": [
        "annot = True\n",
        "fig, ax = plt.subplots(figsize=(12,10))\n",
        "ax = sns.heatmap(dailyActivity_merged.corr(), annot=annot)"
      ],
      "metadata": {
        "colab": {
          "base_uri": "https://localhost:8080/",
          "height": 717
        },
        "id": "qYXPD42RQBqd",
        "outputId": "be3ea377-d6b7-44af-980e-9941f083942d"
      },
      "execution_count": null,
      "outputs": [
        {
          "output_type": "display_data",
          "data": {
            "text/plain": [
              "<Figure size 864x720 with 2 Axes>"
            ],
            "image/png": "[encoded data removed]"
          },
          "metadata": {
            "needs_background": "light"
          }
        }
      ]
    },
    {
      "cell_type": "code",
      "source": [
        "annot = True\n",
        "fig, ax = plt.subplots(figsize=(12,10))\n",
        "ax = sns.heatmap(sleepDay_merged.corr(), annot=annot)"
      ],
      "metadata": {
        "colab": {
          "base_uri": "https://localhost:8080/",
          "height": 596
        },
        "id": "4Qdy9bBlFfWp",
        "outputId": "506c40f7-b080-4667-c2fc-1dcb1a25a9e8"
      },
      "execution_count": null,
      "outputs": [
        {
          "output_type": "display_data",
          "data": {
            "text/plain": [
              "<Figure size 864x720 with 2 Axes>"
            ],
            "image/png": "[encoded data removed]"
          },
          "metadata": {
            "needs_background": "light"
          }
        }
      ]
    },
    {
      "cell_type": "code",
      "source": [
        "annot = True\n",
        "fig, ax = plt.subplots(figsize=(12,10))\n",
        "ax = sns.heatmap(weightLogInfo_merged.corr(), annot=annot)"
      ],
      "metadata": {
        "colab": {
          "base_uri": "https://localhost:8080/",
          "height": 596
        },
        "id": "kC5Rd-tPFxu-",
        "outputId": "cd68bc51-e6e6-45e8-d362-6b9fa0dc43ed"
      },
      "execution_count": null,
      "outputs": [
        {
          "output_type": "display_data",
          "data": {
            "text/plain": [
              "<Figure size 864x720 with 2 Axes>"
            ],
            "image/png": "[encoded data removed]"
          },
          "metadata": {
            "needs_background": "light"
          }
        }
      ]
    },
    {
      "cell_type": "markdown",
      "source": [
        "# Sorting data.\n"
      ],
      "metadata": {
        "id": "YUncDMcdT_Gj"
      }
    },
    {
      "cell_type": "markdown",
      "source": [
        "- ### DailyActivity_merged dataset"
      ],
      "metadata": {
        "id": "3oqazrjwHvoU"
      }
    },
    {
      "cell_type": "markdown",
      "source": [
        "- Change the datatype of *ActivityDate* to timestamp."
      ],
      "metadata": {
        "id": "z4UW6oDgXCyC"
      }
    },
    {
      "cell_type": "code",
      "source": [
        "dailyActivity_merged['ActivityDate'] = pd.to_datetime(dailyActivity_merged['ActivityDate'])"
      ],
      "metadata": {
        "id": "nA0J4bm9WwW6"
      },
      "execution_count": null,
      "outputs": []
    },
    {
      "cell_type": "markdown",
      "source": [
        "- ### SleepDay_merged"
      ],
      "metadata": {
        "id": "EqNKGghlHnMd"
      }
    },
    {
      "cell_type": "code",
      "source": [
        "sleepDay_merged.drop('Id', inplace=True, axis=1)"
      ],
      "metadata": {
        "id": "xoCDLmv4XmEp"
      },
      "execution_count": null,
      "outputs": []
    },
    {
      "cell_type": "markdown",
      "source": [
        "- Change the datatype of SleepDay to timestamp."
      ],
      "metadata": {
        "id": "xSUChMMKIe21"
      }
    },
    {
      "cell_type": "code",
      "source": [
        "sleepDay_merged['SleepDay'] = pd.to_datetime(sleepDay_merged['SleepDay'])"
      ],
      "metadata": {
        "id": "AXjIcx9FnSWO"
      },
      "execution_count": null,
      "outputs": []
    },
    {
      "cell_type": "code",
      "source": [
        "sleepDay_merged.info()"
      ],
      "metadata": {
        "colab": {
          "base_uri": "https://localhost:8080/"
        },
        "id": "bn2KE7R_s2jU",
        "outputId": "5697c292-3a26-4f59-d1f5-a9fdc57eb966"
      },
      "execution_count": null,
      "outputs": [
        {
          "output_type": "stream",
          "name": "stdout",
          "text": [
            "<class 'pandas.core.frame.DataFrame'>\n",
            "RangeIndex: 413 entries, 0 to 412\n",
            "Data columns (total 4 columns):\n",
            " #   Column              Non-Null Count  Dtype         \n",
            "---  ------              --------------  -----         \n",
            " 0   SleepDay            413 non-null    datetime64[ns]\n",
            " 1   TotalSleepRecords   413 non-null    int64         \n",
            " 2   TotalMinutesAsleep  413 non-null    int64         \n",
            " 3   TotalTimeInBed      413 non-null    int64         \n",
            "dtypes: datetime64[ns](1), int64(3)\n",
            "memory usage: 13.0 KB\n"
          ]
        }
      ]
    },
    {
      "cell_type": "markdown",
      "source": [
        "- #### weightLogInfo_merged dataset"
      ],
      "metadata": {
        "id": "ovW2oXUtJTUH"
      }
    },
    {
      "cell_type": "code",
      "source": [
        "weightLogInfo_merged.drop(['LogId', 'IsManualReport', 'WeightPounds'], axis=1, inplace=True)"
      ],
      "metadata": {
        "id": "XyxuxkXoJDgB"
      },
      "execution_count": null,
      "outputs": []
    },
    {
      "cell_type": "code",
      "source": [
        "weightLogInfo_merged.Fat.isnull().value_counts()"
      ],
      "metadata": {
        "colab": {
          "base_uri": "https://localhost:8080/"
        },
        "id": "sm5xLZTDNftT",
        "outputId": "7ab7848f-e249-4189-ecd8-8809c968ac1d"
      },
      "execution_count": null,
      "outputs": [
        {
          "output_type": "execute_result",
          "data": {
            "text/plain": [
              "True     65\n",
              "False     2\n",
              "Name: Fat, dtype: int64"
            ]
          },
          "metadata": {},
          "execution_count": 24
        }
      ]
    },
    {
      "cell_type": "markdown",
      "source": [
        "# Analyze Data"
      ],
      "metadata": {
        "id": "yYtMvitqTSe5"
      }
    },
    {
      "cell_type": "code",
      "source": [
        "dailyActivity_merged['TrackerDistance'].value_counts(), dailyActivity_merged['TotalDistance'].value_counts()"
      ],
      "metadata": {
        "colab": {
          "base_uri": "https://localhost:8080/"
        },
        "id": "u-iyYtkJVQeX",
        "outputId": "9adb1734-5d51-4ada-e87b-f2a33470dea1"
      },
      "execution_count": null,
      "outputs": [
        {
          "output_type": "execute_result",
          "data": {
            "text/plain": [
              "(0.000000     78\n",
              " 2.600000      5\n",
              " 0.010000      5\n",
              " 3.910000      4\n",
              " 2.680000      4\n",
              "              ..\n",
              " 2.460000      1\n",
              " 5.330000      1\n",
              " 5.820000      1\n",
              " 9.490000      1\n",
              " 19.559999     1\n",
              " Name: TrackerDistance, Length: 613, dtype: int64, 0.000000     78\n",
              " 2.600000      5\n",
              " 0.010000      5\n",
              " 3.910000      4\n",
              " 4.950000      4\n",
              "              ..\n",
              " 9.970000      1\n",
              " 7.880000      1\n",
              " 10.180000     1\n",
              " 1.610000      1\n",
              " 19.559999     1\n",
              " Name: TotalDistance, Length: 615, dtype: int64)"
            ]
          },
          "metadata": {},
          "execution_count": 27
        }
      ]
    },
    {
      "cell_type": "code",
      "source": [
        "bins = np.linspace(0, 10, 30)\n",
        "\n",
        "plt.hist(dailyActivity_merged['TrackerDistance'], bins=5, alpha=0.5, label='Track Distance')\n",
        "plt.hist(dailyActivity_merged['LoggedActivitiesDistance'], bins=5, alpha=0.5, label='Logged Activities Distance')\n",
        "plt.hist(dailyActivity_merged['SedentaryActiveDistance'], bins=5, alpha=0.5, label='Sedentary Active Distance')\n",
        "plt.hist(dailyActivity_merged['ModeratelyActiveDistance'], bins=5, alpha=0.5, label='Moderately Active Distance')\n",
        "plt.show()"
      ],
      "metadata": {
        "colab": {
          "base_uri": "https://localhost:8080/",
          "height": 265
        },
        "id": "B0OuIQzwVdIX",
        "outputId": "4fa93086-9e46-4c46-d0e0-b99c418616b4"
      },
      "execution_count": null,
      "outputs": [
        {
          "output_type": "display_data",
          "data": {
            "text/plain": [
              "<Figure size 432x288 with 1 Axes>"
            ],
            "image/png": "[encoded data removed]"
          },
          "metadata": {
            "needs_background": "light"
          }
        }
      ]
    },
    {
      "cell_type": "code",
      "source": [
        "dailyActivity_merged['TrackerDistance'].max(), dailyActivity_merged['LoggedActivitiesDistance'].max(), dailyActivity_merged['SedentaryActiveDistance'].max(), dailyActivity_merged['ModeratelyActiveDistance'].max()"
      ],
      "metadata": {
        "colab": {
          "base_uri": "https://localhost:8080/"
        },
        "id": "AJH0bldGceKP",
        "outputId": "0bf08de0-3e90-4c3b-c8e0-e44d876dec04"
      },
      "execution_count": null,
      "outputs": [
        {
          "output_type": "execute_result",
          "data": {
            "text/plain": [
              "(28.0300006866455, 4.94214200973511, 0.109999999403954, 6.48000001907349)"
            ]
          },
          "metadata": {},
          "execution_count": 30
        }
      ]
    },
    {
      "cell_type": "code",
      "source": [
        "sns.distplot(dailyActivity_merged['TrackerDistance'], hist=False, rug=True)"
      ],
      "metadata": {
        "colab": {
          "base_uri": "https://localhost:8080/",
          "height": 386
        },
        "id": "eTHoLBh0hPNX",
        "outputId": "bc7f3c68-ee86-44c8-f6d3-c7c23d805652"
      },
      "execution_count": null,
      "outputs": [
        {
          "output_type": "stream",
          "name": "stderr",
          "text": [
            "/usr/local/lib/python3.7/dist-packages/seaborn/distributions.py:2619: FutureWarning: `distplot` is a deprecated function and will be removed in a future version. Please adapt your code to use either `displot` (a figure-level function with similar flexibility) or `kdeplot` (an axes-level function for kernel density plots).\n",
            "  warnings.warn(msg, FutureWarning)\n",
            "/usr/local/lib/python3.7/dist-packages/seaborn/distributions.py:2103: FutureWarning: The `axis` variable is no longer used and will be removed. Instead, assign variables directly to `x` or `y`.\n",
            "  warnings.warn(msg, FutureWarning)\n"
          ]
        },
        {
          "output_type": "execute_result",
          "data": {
            "text/plain": [
              "<matplotlib.axes._subplots.AxesSubplot at 0x7f551bd0dd10>"
            ]
          },
          "metadata": {},
          "execution_count": 31
        },
        {
          "output_type": "display_data",
          "data": {
            "text/plain": [
              "<Figure size 432x288 with 1 Axes>"
            ],
            "image/png": "[encoded data removed]"
          },
          "metadata": {
            "needs_background": "light"
          }
        }
      ]
    },
    {
      "cell_type": "code",
      "source": [
        "sns.distplot(dailyActivity_merged['LoggedActivitiesDistance'], hist=False, rug=True)"
      ],
      "metadata": {
        "colab": {
          "base_uri": "https://localhost:8080/",
          "height": 386
        },
        "id": "vxsp7bCNhKPd",
        "outputId": "78b8e577-e54e-4419-c599-b4c72460132f"
      },
      "execution_count": null,
      "outputs": [
        {
          "output_type": "stream",
          "name": "stderr",
          "text": [
            "/usr/local/lib/python3.7/dist-packages/seaborn/distributions.py:2619: FutureWarning: `distplot` is a deprecated function and will be removed in a future version. Please adapt your code to use either `displot` (a figure-level function with similar flexibility) or `kdeplot` (an axes-level function for kernel density plots).\n",
            "  warnings.warn(msg, FutureWarning)\n",
            "/usr/local/lib/python3.7/dist-packages/seaborn/distributions.py:2103: FutureWarning: The `axis` variable is no longer used and will be removed. Instead, assign variables directly to `x` or `y`.\n",
            "  warnings.warn(msg, FutureWarning)\n"
          ]
        },
        {
          "output_type": "execute_result",
          "data": {
            "text/plain": [
              "<matplotlib.axes._subplots.AxesSubplot at 0x7f551bdc8150>"
            ]
          },
          "metadata": {},
          "execution_count": 32
        },
        {
          "output_type": "display_data",
          "data": {
            "text/plain": [
              "<Figure size 432x288 with 1 Axes>"
            ],
            "image/png": "[encoded data removed]"
          },
          "metadata": {
            "needs_background": "light"
          }
        }
      ]
    },
    {
      "cell_type": "code",
      "source": [
        "sns.distplot(dailyActivity_merged['SedentaryActiveDistance'], hist=False, rug=True)"
      ],
      "metadata": {
        "colab": {
          "base_uri": "https://localhost:8080/",
          "height": 386
        },
        "id": "N2rQlVKNhAhy",
        "outputId": "ba252483-74e7-4350-bbe8-a4bf71b6706d"
      },
      "execution_count": null,
      "outputs": [
        {
          "output_type": "stream",
          "name": "stderr",
          "text": [
            "/usr/local/lib/python3.7/dist-packages/seaborn/distributions.py:2619: FutureWarning: `distplot` is a deprecated function and will be removed in a future version. Please adapt your code to use either `displot` (a figure-level function with similar flexibility) or `kdeplot` (an axes-level function for kernel density plots).\n",
            "  warnings.warn(msg, FutureWarning)\n",
            "/usr/local/lib/python3.7/dist-packages/seaborn/distributions.py:2103: FutureWarning: The `axis` variable is no longer used and will be removed. Instead, assign variables directly to `x` or `y`.\n",
            "  warnings.warn(msg, FutureWarning)\n"
          ]
        },
        {
          "output_type": "execute_result",
          "data": {
            "text/plain": [
              "<matplotlib.axes._subplots.AxesSubplot at 0x7f551ff03850>"
            ]
          },
          "metadata": {},
          "execution_count": 33
        },
        {
          "output_type": "display_data",
          "data": {
            "text/plain": [
              "<Figure size 432x288 with 1 Axes>"
            ],
            "image/png": "[encoded data removed]"
          },
          "metadata": {
            "needs_background": "light"
          }
        }
      ]
    },
    {
      "cell_type": "code",
      "source": [
        "sns.distplot(dailyActivity_merged['ModeratelyActiveDistance'], hist=False, rug=True)"
      ],
      "metadata": {
        "colab": {
          "base_uri": "https://localhost:8080/",
          "height": 386
        },
        "id": "aYJNxduAdGnZ",
        "outputId": "89c59ded-ac81-44f3-bb19-b606fb68af51"
      },
      "execution_count": null,
      "outputs": [
        {
          "output_type": "stream",
          "name": "stderr",
          "text": [
            "/usr/local/lib/python3.7/dist-packages/seaborn/distributions.py:2619: FutureWarning: `distplot` is a deprecated function and will be removed in a future version. Please adapt your code to use either `displot` (a figure-level function with similar flexibility) or `kdeplot` (an axes-level function for kernel density plots).\n",
            "  warnings.warn(msg, FutureWarning)\n",
            "/usr/local/lib/python3.7/dist-packages/seaborn/distributions.py:2103: FutureWarning: The `axis` variable is no longer used and will be removed. Instead, assign variables directly to `x` or `y`.\n",
            "  warnings.warn(msg, FutureWarning)\n"
          ]
        },
        {
          "output_type": "execute_result",
          "data": {
            "text/plain": [
              "<matplotlib.axes._subplots.AxesSubplot at 0x7f551fee5c10>"
            ]
          },
          "metadata": {},
          "execution_count": 34
        },
        {
          "output_type": "display_data",
          "data": {
            "text/plain": [
              "<Figure size 432x288 with 1 Axes>"
            ],
            "image/png": "[encoded data removed]"
          },
          "metadata": {
            "needs_background": "light"
          }
        }
      ]
    },
    {
      "cell_type": "markdown",
      "source": [
        "- Data is more **Right-skwed** whether is ModerateActiveDistance, SedantaryActiveDistance, LoggedActivitiesDistance, Trackdistance."
      ],
      "metadata": {
        "id": "KmJB-30g-RHA"
      }
    },
    {
      "cell_type": "code",
      "source": [
        "f, axes = plt.subplots(2, 4, figsize=(20, 10), sharex=True)\n",
        "sns.distplot( dailyActivity_merged['TrackerDistance'] , color=\"skyblue\", ax=axes[0, 0])\n",
        "sns.distplot( dailyActivity_merged['ModeratelyActiveDistance'] , color=\"grey\", ax=axes[0, 1])\n",
        "sns.distplot( dailyActivity_merged['LoggedActivitiesDistance'] , color=\"olive\", ax=axes[0, 2])\n",
        "sns.distplot( dailyActivity_merged['SedentaryActiveDistance'] , color=\"teal\", ax=axes[0, 3])"
      ],
      "metadata": {
        "colab": {
          "base_uri": "https://localhost:8080/",
          "height": 768
        },
        "id": "o4qtqj5EgqKz",
        "outputId": "ded21e2f-65df-4b9c-c36f-7bfdd70ae4c6"
      },
      "execution_count": null,
      "outputs": [
        {
          "output_type": "stream",
          "name": "stderr",
          "text": [
            "/usr/local/lib/python3.7/dist-packages/seaborn/distributions.py:2619: FutureWarning: `distplot` is a deprecated function and will be removed in a future version. Please adapt your code to use either `displot` (a figure-level function with similar flexibility) or `histplot` (an axes-level function for histograms).\n",
            "  warnings.warn(msg, FutureWarning)\n",
            "/usr/local/lib/python3.7/dist-packages/seaborn/distributions.py:2619: FutureWarning: `distplot` is a deprecated function and will be removed in a future version. Please adapt your code to use either `displot` (a figure-level function with similar flexibility) or `histplot` (an axes-level function for histograms).\n",
            "  warnings.warn(msg, FutureWarning)\n",
            "/usr/local/lib/python3.7/dist-packages/seaborn/distributions.py:2619: FutureWarning: `distplot` is a deprecated function and will be removed in a future version. Please adapt your code to use either `displot` (a figure-level function with similar flexibility) or `histplot` (an axes-level function for histograms).\n",
            "  warnings.warn(msg, FutureWarning)\n",
            "/usr/local/lib/python3.7/dist-packages/seaborn/distributions.py:2619: FutureWarning: `distplot` is a deprecated function and will be removed in a future version. Please adapt your code to use either `displot` (a figure-level function with similar flexibility) or `histplot` (an axes-level function for histograms).\n",
            "  warnings.warn(msg, FutureWarning)\n"
          ]
        },
        {
          "output_type": "execute_result",
          "data": {
            "text/plain": [
              "<matplotlib.axes._subplots.AxesSubplot at 0x7f551bc37050>"
            ]
          },
          "metadata": {},
          "execution_count": 35
        },
        {
          "output_type": "display_data",
          "data": {
            "text/plain": [
              "<Figure size 1440x720 with 8 Axes>"
            ],
            "image/png": "[encoded data removed]"
          },
          "metadata": {
            "needs_background": "light"
          }
        }
      ]
    },
    {
      "cell_type": "markdown",
      "source": [
        "- Number of consumer involve in daily activity are towards Sedantary then Active involment whether it is distance, time, steps and Calories burning."
      ],
      "metadata": {
        "id": "GRXjLjfLmiUY"
      }
    },
    {
      "cell_type": "code",
      "source": [
        "days=[\"Monday\",\"Tuesday\",\"Wednesday\",\"Thursday\",\"Friday\",\"Saturday\",\"Sunday\"]\n",
        "\n",
        "dailyActivity_merged['WeekDay'] = dailyActivity_merged['ActivityDate'].apply(lambda x: days[x.weekday()])"
      ],
      "metadata": {
        "id": "UDsvS4dtm_Nt"
      },
      "execution_count": null,
      "outputs": []
    },
    {
      "cell_type": "markdown",
      "source": [
        "- According to Pareto Principle our 80% of output from 20% effort on work.\n",
        "- So in order to increase our cosumer Activity involment in Daily workout and burn out maximum Calories, we will focus on those attribute which force consumer involve VeryActively."
      ],
      "metadata": {
        "id": "xr_hsSyp4rd5"
      }
    },
    {
      "cell_type": "code",
      "source": [
        "active_mean_distance = []\n",
        "parameter = 'VeryActiveDistance'\n",
        "for i in range(len(days)):\n",
        "  active_mean = dailyActivity_merged[dailyActivity_merged['WeekDay'] == days[i]][parameter].mean()\n",
        "  active_mean_distance.append(active_mean)\n",
        "df_mean_dist = pd.DataFrame(active_mean_distance, columns = ['active_mean_day'])"
      ],
      "metadata": {
        "id": "qrxE3j8XdTPP"
      },
      "execution_count": null,
      "outputs": []
    },
    {
      "cell_type": "code",
      "source": [
        "df_mean_dist['Days'] = days\n",
        "active_mean_distance = []\n",
        "parameter = 'Calories'\n",
        "column = ['Calories_mean']\n",
        "for i in range(len(days)):\n",
        "  active_mean = dailyActivity_merged[dailyActivity_merged['WeekDay'] == days[i]][parameter].mean()\n",
        "  active_mean_distance.append(active_mean)\n",
        "\n",
        "df_mean_dist['Calories_mean'] = active_mean_distance"
      ],
      "metadata": {
        "colab": {
          "base_uri": "https://localhost:8080/",
          "height": 269
        },
        "id": "5vxa61sNj2ko",
        "outputId": "39578fa2-1aaa-46cb-fd33-371e030666c4"
      },
      "execution_count": null,
      "outputs": [
        {
          "output_type": "execute_result",
          "data": {
            "text/plain": [
              "   active_mean_day       Days  Calories_mean\n",
              "0         1.537333     Monday    2324.208333\n",
              "1         1.613289    Tuesday    2356.013158\n",
              "2         1.633467  Wednesday    2302.620000\n",
              "3         1.390476   Thursday    2199.571429\n",
              "4         1.312937     Friday    2331.785714\n",
              "5         1.514597   Saturday    2354.967742\n",
              "6         1.488926     Sunday    2263.000000"
            ],
            "text/html": [
              "\n",
              "  <div id=\"df-1a942785-f976-46e9-94ba-7cac94a1ac91\">\n",
              "    <div class=\"colab-df-container\">\n",
              "      <div>\n",
              "<style scoped>\n",
              "    .dataframe tbody tr th:only-of-type {\n",
              "        vertical-align: middle;\n",
              "    }\n",
              "\n",
              "    .dataframe tbody tr th {\n",
              "        vertical-align: top;\n",
              "    }\n",
              "\n",
              "    .dataframe thead th {\n",
              "        text-align: right;\n",
              "    }\n",
              "</style>\n",
              "<table border=\"1\" class=\"dataframe\">\n",
              "  <thead>\n",
              "    <tr style=\"text-align: right;\">\n",
              "      <th></th>\n",
              "      <th>active_mean_day</th>\n",
              "      <th>Days</th>\n",
              "      <th>Calories_mean</th>\n",
              "    </tr>\n",
              "  </thead>\n",
              "  <tbody>\n",
              "    <tr>\n",
              "      <th>0</th>\n",
              "      <td>1.537333</td>\n",
              "      <td>Monday</td>\n",
              "      <td>2324.208333</td>\n",
              "    </tr>\n",
              "    <tr>\n",
              "      <th>1</th>\n",
              "      <td>1.613289</td>\n",
              "      <td>Tuesday</td>\n",
              "      <td>2356.013158</td>\n",
              "    </tr>\n",
              "    <tr>\n",
              "      <th>2</th>\n",
              "      <td>1.633467</td>\n",
              "      <td>Wednesday</td>\n",
              "      <td>2302.620000</td>\n",
              "    </tr>\n",
              "    <tr>\n",
              "      <th>3</th>\n",
              "      <td>1.390476</td>\n",
              "      <td>Thursday</td>\n",
              "      <td>2199.571429</td>\n",
              "    </tr>\n",
              "    <tr>\n",
              "      <th>4</th>\n",
              "      <td>1.312937</td>\n",
              "      <td>Friday</td>\n",
              "      <td>2331.785714</td>\n",
              "    </tr>\n",
              "    <tr>\n",
              "      <th>5</th>\n",
              "      <td>1.514597</td>\n",
              "      <td>Saturday</td>\n",
              "      <td>2354.967742</td>\n",
              "    </tr>\n",
              "    <tr>\n",
              "      <th>6</th>\n",
              "      <td>1.488926</td>\n",
              "      <td>Sunday</td>\n",
              "      <td>2263.000000</td>\n",
              "    </tr>\n",
              "  </tbody>\n",
              "</table>\n",
              "</div>\n",
              "      <button class=\"colab-df-convert\" onclick=\"convertToInteractive('df-1a942785-f976-46e9-94ba-7cac94a1ac91')\"\n",
              "              title=\"Convert this dataframe to an interactive table.\"\n",
              "              style=\"display:none;\">\n",
              "        \n",
              "  <svg xmlns=\"http://www.w3.org/2000/svg\" height=\"24px\"viewBox=\"0 0 24 24\"\n",
              "       width=\"24px\">\n",
              "    <path d=\"M0 0h24v24H0V0z\" fill=\"none\"/>\n",
              "    <path d=\"M18.56 5.44l.94 2.06.94-2.06 2.06-.94-2.06-.94-.94-2.06-.94 2.06-2.06.94zm-11 1L8.5 8.5l.94-2.06 2.06-.94-2.06-.94L8.5 2.5l-.94 2.06-2.06.94zm10 10l.94 2.06.94-2.06 2.06-.94-2.06-.94-.94-2.06-.94 2.06-2.06.94z\"/><path d=\"M17.41 7.96l-1.37-1.37c-.4-.4-.92-.59-1.43-.59-.52 0-1.04.2-1.43.59L10.3 9.45l-7.72 7.72c-.78.78-.78 2.05 0 2.83L4 21.41c.39.39.9.59 1.41.59.51 0 1.02-.2 1.41-.59l7.78-7.78 2.81-2.81c.8-.78.8-2.07 0-2.86zM5.41 20L4 18.59l7.72-7.72 1.47 1.35L5.41 20z\"/>\n",
              "  </svg>\n",
              "      </button>\n",
              "      \n",
              "  <style>\n",
              "    .colab-df-container {\n",
              "      display:flex;\n",
              "      flex-wrap:wrap;\n",
              "      gap: 12px;\n",
              "    }\n",
              "\n",
              "    .colab-df-convert {\n",
              "      background-color: #E8F0FE;\n",
              "      border: none;\n",
              "      border-radius: 50%;\n",
              "      cursor: pointer;\n",
              "      display: none;\n",
              "      fill: #1967D2;\n",
              "      height: 32px;\n",
              "      padding: 0 0 0 0;\n",
              "      width: 32px;\n",
              "    }\n",
              "\n",
              "    .colab-df-convert:hover {\n",
              "      background-color: #E2EBFA;\n",
              "      box-shadow: 0px 1px 2px rgba(60, 64, 67, 0.3), 0px 1px 3px 1px rgba(60, 64, 67, 0.15);\n",
              "      fill: #174EA6;\n",
              "    }\n",
              "\n",
              "    [theme=dark] .colab-df-convert {\n",
              "      background-color: #3B4455;\n",
              "      fill: #D2E3FC;\n",
              "    }\n",
              "\n",
              "    [theme=dark] .colab-df-convert:hover {\n",
              "      background-color: #434B5C;\n",
              "      box-shadow: 0px 1px 3px 1px rgba(0, 0, 0, 0.15);\n",
              "      filter: drop-shadow(0px 1px 2px rgba(0, 0, 0, 0.3));\n",
              "      fill: #FFFFFF;\n",
              "    }\n",
              "  </style>\n",
              "\n",
              "      <script>\n",
              "        const buttonEl =\n",
              "          document.querySelector('#df-1a942785-f976-46e9-94ba-7cac94a1ac91 button.colab-df-convert');\n",
              "        buttonEl.style.display =\n",
              "          google.colab.kernel.accessAllowed ? 'block' : 'none';\n",
              "\n",
              "        async function convertToInteractive(key) {\n",
              "          const element = document.querySelector('#df-1a942785-f976-46e9-94ba-7cac94a1ac91');\n",
              "          const dataTable =\n",
              "            await google.colab.kernel.invokeFunction('convertToInteractive',\n",
              "                                                     [key], {});\n",
              "          if (!dataTable) return;\n",
              "\n",
              "          const docLinkHtml = 'Like what you see? Visit the ' +\n",
              "            '<a target=\"_blank\" href=https://colab.research.google.com/notebooks/data_table.ipynb>data table notebook</a>'\n",
              "            + ' to learn more about interactive tables.';\n",
              "          element.innerHTML = '';\n",
              "          dataTable['output_type'] = 'display_data';\n",
              "          await google.colab.output.renderOutput(dataTable, element);\n",
              "          const docLink = document.createElement('div');\n",
              "          docLink.innerHTML = docLinkHtml;\n",
              "          element.appendChild(docLink);\n",
              "        }\n",
              "      </script>\n",
              "    </div>\n",
              "  </div>\n",
              "  "
            ]
          },
          "metadata": {},
          "execution_count": 40
        }
      ]
    },
    {
      "cell_type": "code",
      "source": [
        "parameter = 'TotalSteps'\n",
        "column = ['TotalSteps_mean']\n",
        "active_mean_distance = []\n",
        "for i in range(len(days)):\n",
        "  active_mean = dailyActivity_merged[dailyActivity_merged['WeekDay'] == days[i]][parameter].mean()\n",
        "  active_mean_distance.append(active_mean)\n",
        "  # print(active_mean_distance)\n",
        "df_mean_dist[column[0]] = active_mean_distance"
      ],
      "metadata": {
        "colab": {
          "base_uri": "https://localhost:8080/",
          "height": 269
        },
        "id": "W5qHUovSpNEW",
        "outputId": "b5d7c8d2-288d-4364-cbb5-ddde780605ca"
      },
      "execution_count": null,
      "outputs": [
        {
          "output_type": "execute_result",
          "data": {
            "text/plain": [
              "   active_mean_day       Days  Calories_mean  TotalSteps_mean\n",
              "0         1.537333     Monday    2324.208333      7780.866667\n",
              "1         1.613289    Tuesday    2356.013158      8125.006579\n",
              "2         1.633467  Wednesday    2302.620000      7559.373333\n",
              "3         1.390476   Thursday    2199.571429      7405.836735\n",
              "4         1.312937     Friday    2331.785714      7448.230159\n",
              "5         1.514597   Saturday    2354.967742      8152.975806\n",
              "6         1.488926     Sunday    2263.000000      6933.231405"
            ],
            "text/html": [
              "\n",
              "  <div id=\"df-3705a48f-8b19-45e7-b636-89828b1a3d59\">\n",
              "    <div class=\"colab-df-container\">\n",
              "      <div>\n",
              "<style scoped>\n",
              "    .dataframe tbody tr th:only-of-type {\n",
              "        vertical-align: middle;\n",
              "    }\n",
              "\n",
              "    .dataframe tbody tr th {\n",
              "        vertical-align: top;\n",
              "    }\n",
              "\n",
              "    .dataframe thead th {\n",
              "        text-align: right;\n",
              "    }\n",
              "</style>\n",
              "<table border=\"1\" class=\"dataframe\">\n",
              "  <thead>\n",
              "    <tr style=\"text-align: right;\">\n",
              "      <th></th>\n",
              "      <th>active_mean_day</th>\n",
              "      <th>Days</th>\n",
              "      <th>Calories_mean</th>\n",
              "      <th>TotalSteps_mean</th>\n",
              "    </tr>\n",
              "  </thead>\n",
              "  <tbody>\n",
              "    <tr>\n",
              "      <th>0</th>\n",
              "      <td>1.537333</td>\n",
              "      <td>Monday</td>\n",
              "      <td>2324.208333</td>\n",
              "      <td>7780.866667</td>\n",
              "    </tr>\n",
              "    <tr>\n",
              "      <th>1</th>\n",
              "      <td>1.613289</td>\n",
              "      <td>Tuesday</td>\n",
              "      <td>2356.013158</td>\n",
              "      <td>8125.006579</td>\n",
              "    </tr>\n",
              "    <tr>\n",
              "      <th>2</th>\n",
              "      <td>1.633467</td>\n",
              "      <td>Wednesday</td>\n",
              "      <td>2302.620000</td>\n",
              "      <td>7559.373333</td>\n",
              "    </tr>\n",
              "    <tr>\n",
              "      <th>3</th>\n",
              "      <td>1.390476</td>\n",
              "      <td>Thursday</td>\n",
              "      <td>2199.571429</td>\n",
              "      <td>7405.836735</td>\n",
              "    </tr>\n",
              "    <tr>\n",
              "      <th>4</th>\n",
              "      <td>1.312937</td>\n",
              "      <td>Friday</td>\n",
              "      <td>2331.785714</td>\n",
              "      <td>7448.230159</td>\n",
              "    </tr>\n",
              "    <tr>\n",
              "      <th>5</th>\n",
              "      <td>1.514597</td>\n",
              "      <td>Saturday</td>\n",
              "      <td>2354.967742</td>\n",
              "      <td>8152.975806</td>\n",
              "    </tr>\n",
              "    <tr>\n",
              "      <th>6</th>\n",
              "      <td>1.488926</td>\n",
              "      <td>Sunday</td>\n",
              "      <td>2263.000000</td>\n",
              "      <td>6933.231405</td>\n",
              "    </tr>\n",
              "  </tbody>\n",
              "</table>\n",
              "</div>\n",
              "      <button class=\"colab-df-convert\" onclick=\"convertToInteractive('df-3705a48f-8b19-45e7-b636-89828b1a3d59')\"\n",
              "              title=\"Convert this dataframe to an interactive table.\"\n",
              "              style=\"display:none;\">\n",
              "        \n",
              "  <svg xmlns=\"http://www.w3.org/2000/svg\" height=\"24px\"viewBox=\"0 0 24 24\"\n",
              "       width=\"24px\">\n",
              "    <path d=\"M0 0h24v24H0V0z\" fill=\"none\"/>\n",
              "    <path d=\"M18.56 5.44l.94 2.06.94-2.06 2.06-.94-2.06-.94-.94-2.06-.94 2.06-2.06.94zm-11 1L8.5 8.5l.94-2.06 2.06-.94-2.06-.94L8.5 2.5l-.94 2.06-2.06.94zm10 10l.94 2.06.94-2.06 2.06-.94-2.06-.94-.94-2.06-.94 2.06-2.06.94z\"/><path d=\"M17.41 7.96l-1.37-1.37c-.4-.4-.92-.59-1.43-.59-.52 0-1.04.2-1.43.59L10.3 9.45l-7.72 7.72c-.78.78-.78 2.05 0 2.83L4 21.41c.39.39.9.59 1.41.59.51 0 1.02-.2 1.41-.59l7.78-7.78 2.81-2.81c.8-.78.8-2.07 0-2.86zM5.41 20L4 18.59l7.72-7.72 1.47 1.35L5.41 20z\"/>\n",
              "  </svg>\n",
              "      </button>\n",
              "      \n",
              "  <style>\n",
              "    .colab-df-container {\n",
              "      display:flex;\n",
              "      flex-wrap:wrap;\n",
              "      gap: 12px;\n",
              "    }\n",
              "\n",
              "    .colab-df-convert {\n",
              "      background-color: #E8F0FE;\n",
              "      border: none;\n",
              "      border-radius: 50%;\n",
              "      cursor: pointer;\n",
              "      display: none;\n",
              "      fill: #1967D2;\n",
              "      height: 32px;\n",
              "      padding: 0 0 0 0;\n",
              "      width: 32px;\n",
              "    }\n",
              "\n",
              "    .colab-df-convert:hover {\n",
              "      background-color: #E2EBFA;\n",
              "      box-shadow: 0px 1px 2px rgba(60, 64, 67, 0.3), 0px 1px 3px 1px rgba(60, 64, 67, 0.15);\n",
              "      fill: #174EA6;\n",
              "    }\n",
              "\n",
              "    [theme=dark] .colab-df-convert {\n",
              "      background-color: #3B4455;\n",
              "      fill: #D2E3FC;\n",
              "    }\n",
              "\n",
              "    [theme=dark] .colab-df-convert:hover {\n",
              "      background-color: #434B5C;\n",
              "      box-shadow: 0px 1px 3px 1px rgba(0, 0, 0, 0.15);\n",
              "      filter: drop-shadow(0px 1px 2px rgba(0, 0, 0, 0.3));\n",
              "      fill: #FFFFFF;\n",
              "    }\n",
              "  </style>\n",
              "\n",
              "      <script>\n",
              "        const buttonEl =\n",
              "          document.querySelector('#df-3705a48f-8b19-45e7-b636-89828b1a3d59 button.colab-df-convert');\n",
              "        buttonEl.style.display =\n",
              "          google.colab.kernel.accessAllowed ? 'block' : 'none';\n",
              "\n",
              "        async function convertToInteractive(key) {\n",
              "          const element = document.querySelector('#df-3705a48f-8b19-45e7-b636-89828b1a3d59');\n",
              "          const dataTable =\n",
              "            await google.colab.kernel.invokeFunction('convertToInteractive',\n",
              "                                                     [key], {});\n",
              "          if (!dataTable) return;\n",
              "\n",
              "          const docLinkHtml = 'Like what you see? Visit the ' +\n",
              "            '<a target=\"_blank\" href=https://colab.research.google.com/notebooks/data_table.ipynb>data table notebook</a>'\n",
              "            + ' to learn more about interactive tables.';\n",
              "          element.innerHTML = '';\n",
              "          dataTable['output_type'] = 'display_data';\n",
              "          await google.colab.output.renderOutput(dataTable, element);\n",
              "          const docLink = document.createElement('div');\n",
              "          docLink.innerHTML = docLinkHtml;\n",
              "          element.appendChild(docLink);\n",
              "        }\n",
              "      </script>\n",
              "    </div>\n",
              "  </div>\n",
              "  "
            ]
          },
          "metadata": {},
          "execution_count": 41
        }
      ]
    },
    {
      "cell_type": "code",
      "source": [
        "parameter = 'TrackerDistance'\n",
        "column = ['TrackerDistance_mean']\n",
        "active_mean_distance = []\n",
        "for i in range(len(days)):\n",
        "  active_mean = dailyActivity_merged[dailyActivity_merged['WeekDay'] == days[i]][parameter].mean()\n",
        "  active_mean_distance.append(active_mean)\n",
        "\n",
        "df_mean_dist[column[0]] = active_mean_distance"
      ],
      "metadata": {
        "colab": {
          "base_uri": "https://localhost:8080/",
          "height": 269
        },
        "id": "legFs6PCpPp8",
        "outputId": "81c3956d-20f1-406c-bd12-6b6953995122"
      },
      "execution_count": null,
      "outputs": [
        {
          "output_type": "execute_result",
          "data": {
            "text/plain": [
              "   active_mean_day       Days  Calories_mean  TotalSteps_mean  \\\n",
              "0         1.537333     Monday    2324.208333      7780.866667   \n",
              "1         1.613289    Tuesday    2356.013158      8125.006579   \n",
              "2         1.633467  Wednesday    2302.620000      7559.373333   \n",
              "3         1.390476   Thursday    2199.571429      7405.836735   \n",
              "4         1.312937     Friday    2331.785714      7448.230159   \n",
              "5         1.514597   Saturday    2354.967742      8152.975806   \n",
              "6         1.488926     Sunday    2263.000000      6933.231405   \n",
              "\n",
              "   TrackerDistance_mean  \n",
              "0              5.528750  \n",
              "1              5.812829  \n",
              "2              5.467600  \n",
              "3              5.287415  \n",
              "4              5.302936  \n",
              "5              5.854677  \n",
              "6              5.027190  "
            ],
            "text/html": [
              "\n",
              "  <div id=\"df-b87da473-3ed0-4323-ae63-e8103536921e\">\n",
              "    <div class=\"colab-df-container\">\n",
              "      <div>\n",
              "<style scoped>\n",
              "    .dataframe tbody tr th:only-of-type {\n",
              "        vertical-align: middle;\n",
              "    }\n",
              "\n",
              "    .dataframe tbody tr th {\n",
              "        vertical-align: top;\n",
              "    }\n",
              "\n",
              "    .dataframe thead th {\n",
              "        text-align: right;\n",
              "    }\n",
              "</style>\n",
              "<table border=\"1\" class=\"dataframe\">\n",
              "  <thead>\n",
              "    <tr style=\"text-align: right;\">\n",
              "      <th></th>\n",
              "      <th>active_mean_day</th>\n",
              "      <th>Days</th>\n",
              "      <th>Calories_mean</th>\n",
              "      <th>TotalSteps_mean</th>\n",
              "      <th>TrackerDistance_mean</th>\n",
              "    </tr>\n",
              "  </thead>\n",
              "  <tbody>\n",
              "    <tr>\n",
              "      <th>0</th>\n",
              "      <td>1.537333</td>\n",
              "      <td>Monday</td>\n",
              "      <td>2324.208333</td>\n",
              "      <td>7780.866667</td>\n",
              "      <td>5.528750</td>\n",
              "    </tr>\n",
              "    <tr>\n",
              "      <th>1</th>\n",
              "      <td>1.613289</td>\n",
              "      <td>Tuesday</td>\n",
              "      <td>2356.013158</td>\n",
              "      <td>8125.006579</td>\n",
              "      <td>5.812829</td>\n",
              "    </tr>\n",
              "    <tr>\n",
              "      <th>2</th>\n",
              "      <td>1.633467</td>\n",
              "      <td>Wednesday</td>\n",
              "      <td>2302.620000</td>\n",
              "      <td>7559.373333</td>\n",
              "      <td>5.467600</td>\n",
              "    </tr>\n",
              "    <tr>\n",
              "      <th>3</th>\n",
              "      <td>1.390476</td>\n",
              "      <td>Thursday</td>\n",
              "      <td>2199.571429</td>\n",
              "      <td>7405.836735</td>\n",
              "      <td>5.287415</td>\n",
              "    </tr>\n",
              "    <tr>\n",
              "      <th>4</th>\n",
              "      <td>1.312937</td>\n",
              "      <td>Friday</td>\n",
              "      <td>2331.785714</td>\n",
              "      <td>7448.230159</td>\n",
              "      <td>5.302936</td>\n",
              "    </tr>\n",
              "    <tr>\n",
              "      <th>5</th>\n",
              "      <td>1.514597</td>\n",
              "      <td>Saturday</td>\n",
              "      <td>2354.967742</td>\n",
              "      <td>8152.975806</td>\n",
              "      <td>5.854677</td>\n",
              "    </tr>\n",
              "    <tr>\n",
              "      <th>6</th>\n",
              "      <td>1.488926</td>\n",
              "      <td>Sunday</td>\n",
              "      <td>2263.000000</td>\n",
              "      <td>6933.231405</td>\n",
              "      <td>5.027190</td>\n",
              "    </tr>\n",
              "  </tbody>\n",
              "</table>\n",
              "</div>\n",
              "      <button class=\"colab-df-convert\" onclick=\"convertToInteractive('df-b87da473-3ed0-4323-ae63-e8103536921e')\"\n",
              "              title=\"Convert this dataframe to an interactive table.\"\n",
              "              style=\"display:none;\">\n",
              "        \n",
              "  <svg xmlns=\"http://www.w3.org/2000/svg\" height=\"24px\"viewBox=\"0 0 24 24\"\n",
              "       width=\"24px\">\n",
              "    <path d=\"M0 0h24v24H0V0z\" fill=\"none\"/>\n",
              "    <path d=\"M18.56 5.44l.94 2.06.94-2.06 2.06-.94-2.06-.94-.94-2.06-.94 2.06-2.06.94zm-11 1L8.5 8.5l.94-2.06 2.06-.94-2.06-.94L8.5 2.5l-.94 2.06-2.06.94zm10 10l.94 2.06.94-2.06 2.06-.94-2.06-.94-.94-2.06-.94 2.06-2.06.94z\"/><path d=\"M17.41 7.96l-1.37-1.37c-.4-.4-.92-.59-1.43-.59-.52 0-1.04.2-1.43.59L10.3 9.45l-7.72 7.72c-.78.78-.78 2.05 0 2.83L4 21.41c.39.39.9.59 1.41.59.51 0 1.02-.2 1.41-.59l7.78-7.78 2.81-2.81c.8-.78.8-2.07 0-2.86zM5.41 20L4 18.59l7.72-7.72 1.47 1.35L5.41 20z\"/>\n",
              "  </svg>\n",
              "      </button>\n",
              "      \n",
              "  <style>\n",
              "    .colab-df-container {\n",
              "      display:flex;\n",
              "      flex-wrap:wrap;\n",
              "      gap: 12px;\n",
              "    }\n",
              "\n",
              "    .colab-df-convert {\n",
              "      background-color: #E8F0FE;\n",
              "      border: none;\n",
              "      border-radius: 50%;\n",
              "      cursor: pointer;\n",
              "      display: none;\n",
              "      fill: #1967D2;\n",
              "      height: 32px;\n",
              "      padding: 0 0 0 0;\n",
              "      width: 32px;\n",
              "    }\n",
              "\n",
              "    .colab-df-convert:hover {\n",
              "      background-color: #E2EBFA;\n",
              "      box-shadow: 0px 1px 2px rgba(60, 64, 67, 0.3), 0px 1px 3px 1px rgba(60, 64, 67, 0.15);\n",
              "      fill: #174EA6;\n",
              "    }\n",
              "\n",
              "    [theme=dark] .colab-df-convert {\n",
              "      background-color: #3B4455;\n",
              "      fill: #D2E3FC;\n",
              "    }\n",
              "\n",
              "    [theme=dark] .colab-df-convert:hover {\n",
              "      background-color: #434B5C;\n",
              "      box-shadow: 0px 1px 3px 1px rgba(0, 0, 0, 0.15);\n",
              "      filter: drop-shadow(0px 1px 2px rgba(0, 0, 0, 0.3));\n",
              "      fill: #FFFFFF;\n",
              "    }\n",
              "  </style>\n",
              "\n",
              "      <script>\n",
              "        const buttonEl =\n",
              "          document.querySelector('#df-b87da473-3ed0-4323-ae63-e8103536921e button.colab-df-convert');\n",
              "        buttonEl.style.display =\n",
              "          google.colab.kernel.accessAllowed ? 'block' : 'none';\n",
              "\n",
              "        async function convertToInteractive(key) {\n",
              "          const element = document.querySelector('#df-b87da473-3ed0-4323-ae63-e8103536921e');\n",
              "          const dataTable =\n",
              "            await google.colab.kernel.invokeFunction('convertToInteractive',\n",
              "                                                     [key], {});\n",
              "          if (!dataTable) return;\n",
              "\n",
              "          const docLinkHtml = 'Like what you see? Visit the ' +\n",
              "            '<a target=\"_blank\" href=https://colab.research.google.com/notebooks/data_table.ipynb>data table notebook</a>'\n",
              "            + ' to learn more about interactive tables.';\n",
              "          element.innerHTML = '';\n",
              "          dataTable['output_type'] = 'display_data';\n",
              "          await google.colab.output.renderOutput(dataTable, element);\n",
              "          const docLink = document.createElement('div');\n",
              "          docLink.innerHTML = docLinkHtml;\n",
              "          element.appendChild(docLink);\n",
              "        }\n",
              "      </script>\n",
              "    </div>\n",
              "  </div>\n",
              "  "
            ]
          },
          "metadata": {},
          "execution_count": 42
        }
      ]
    },
    {
      "cell_type": "code",
      "source": [
        "parameter = 'TrackerDistance'\n",
        "column = ['TrackerDistance_mean']\n",
        "active_mean_distance = []\n",
        "for i in range(len(days)):\n",
        "  active_mean = dailyActivity_merged[dailyActivity_merged['WeekDay'] == days[i]][parameter].mean()\n",
        "  active_mean_distance.append(active_mean)\n",
        "\n",
        "df_mean_dist[column[0]] = active_mean_distance"
      ],
      "metadata": {
        "colab": {
          "base_uri": "https://localhost:8080/",
          "height": 269
        },
        "id": "yFngoLhorkfu",
        "outputId": "8fe93233-1e3f-4af2-ac4f-54836e36c177"
      },
      "execution_count": null,
      "outputs": [
        {
          "output_type": "execute_result",
          "data": {
            "text/plain": [
              "   active_mean_day       Days  Calories_mean  TotalSteps_mean  \\\n",
              "0         1.537333     Monday    2324.208333      7780.866667   \n",
              "1         1.613289    Tuesday    2356.013158      8125.006579   \n",
              "2         1.633467  Wednesday    2302.620000      7559.373333   \n",
              "3         1.390476   Thursday    2199.571429      7405.836735   \n",
              "4         1.312937     Friday    2331.785714      7448.230159   \n",
              "5         1.514597   Saturday    2354.967742      8152.975806   \n",
              "6         1.488926     Sunday    2263.000000      6933.231405   \n",
              "\n",
              "   TrackerDistance_mean  \n",
              "0              5.528750  \n",
              "1              5.812829  \n",
              "2              5.467600  \n",
              "3              5.287415  \n",
              "4              5.302936  \n",
              "5              5.854677  \n",
              "6              5.027190  "
            ],
            "text/html": [
              "\n",
              "  <div id=\"df-48503d78-eefd-498d-8a35-c027a7e26830\">\n",
              "    <div class=\"colab-df-container\">\n",
              "      <div>\n",
              "<style scoped>\n",
              "    .dataframe tbody tr th:only-of-type {\n",
              "        vertical-align: middle;\n",
              "    }\n",
              "\n",
              "    .dataframe tbody tr th {\n",
              "        vertical-align: top;\n",
              "    }\n",
              "\n",
              "    .dataframe thead th {\n",
              "        text-align: right;\n",
              "    }\n",
              "</style>\n",
              "<table border=\"1\" class=\"dataframe\">\n",
              "  <thead>\n",
              "    <tr style=\"text-align: right;\">\n",
              "      <th></th>\n",
              "      <th>active_mean_day</th>\n",
              "      <th>Days</th>\n",
              "      <th>Calories_mean</th>\n",
              "      <th>TotalSteps_mean</th>\n",
              "      <th>TrackerDistance_mean</th>\n",
              "    </tr>\n",
              "  </thead>\n",
              "  <tbody>\n",
              "    <tr>\n",
              "      <th>0</th>\n",
              "      <td>1.537333</td>\n",
              "      <td>Monday</td>\n",
              "      <td>2324.208333</td>\n",
              "      <td>7780.866667</td>\n",
              "      <td>5.528750</td>\n",
              "    </tr>\n",
              "    <tr>\n",
              "      <th>1</th>\n",
              "      <td>1.613289</td>\n",
              "      <td>Tuesday</td>\n",
              "      <td>2356.013158</td>\n",
              "      <td>8125.006579</td>\n",
              "      <td>5.812829</td>\n",
              "    </tr>\n",
              "    <tr>\n",
              "      <th>2</th>\n",
              "      <td>1.633467</td>\n",
              "      <td>Wednesday</td>\n",
              "      <td>2302.620000</td>\n",
              "      <td>7559.373333</td>\n",
              "      <td>5.467600</td>\n",
              "    </tr>\n",
              "    <tr>\n",
              "      <th>3</th>\n",
              "      <td>1.390476</td>\n",
              "      <td>Thursday</td>\n",
              "      <td>2199.571429</td>\n",
              "      <td>7405.836735</td>\n",
              "      <td>5.287415</td>\n",
              "    </tr>\n",
              "    <tr>\n",
              "      <th>4</th>\n",
              "      <td>1.312937</td>\n",
              "      <td>Friday</td>\n",
              "      <td>2331.785714</td>\n",
              "      <td>7448.230159</td>\n",
              "      <td>5.302936</td>\n",
              "    </tr>\n",
              "    <tr>\n",
              "      <th>5</th>\n",
              "      <td>1.514597</td>\n",
              "      <td>Saturday</td>\n",
              "      <td>2354.967742</td>\n",
              "      <td>8152.975806</td>\n",
              "      <td>5.854677</td>\n",
              "    </tr>\n",
              "    <tr>\n",
              "      <th>6</th>\n",
              "      <td>1.488926</td>\n",
              "      <td>Sunday</td>\n",
              "      <td>2263.000000</td>\n",
              "      <td>6933.231405</td>\n",
              "      <td>5.027190</td>\n",
              "    </tr>\n",
              "  </tbody>\n",
              "</table>\n",
              "</div>\n",
              "      <button class=\"colab-df-convert\" onclick=\"convertToInteractive('df-48503d78-eefd-498d-8a35-c027a7e26830')\"\n",
              "              title=\"Convert this dataframe to an interactive table.\"\n",
              "              style=\"display:none;\">\n",
              "        \n",
              "  <svg xmlns=\"http://www.w3.org/2000/svg\" height=\"24px\"viewBox=\"0 0 24 24\"\n",
              "       width=\"24px\">\n",
              "    <path d=\"M0 0h24v24H0V0z\" fill=\"none\"/>\n",
              "    <path d=\"M18.56 5.44l.94 2.06.94-2.06 2.06-.94-2.06-.94-.94-2.06-.94 2.06-2.06.94zm-11 1L8.5 8.5l.94-2.06 2.06-.94-2.06-.94L8.5 2.5l-.94 2.06-2.06.94zm10 10l.94 2.06.94-2.06 2.06-.94-2.06-.94-.94-2.06-.94 2.06-2.06.94z\"/><path d=\"M17.41 7.96l-1.37-1.37c-.4-.4-.92-.59-1.43-.59-.52 0-1.04.2-1.43.59L10.3 9.45l-7.72 7.72c-.78.78-.78 2.05 0 2.83L4 21.41c.39.39.9.59 1.41.59.51 0 1.02-.2 1.41-.59l7.78-7.78 2.81-2.81c.8-.78.8-2.07 0-2.86zM5.41 20L4 18.59l7.72-7.72 1.47 1.35L5.41 20z\"/>\n",
              "  </svg>\n",
              "      </button>\n",
              "      \n",
              "  <style>\n",
              "    .colab-df-container {\n",
              "      display:flex;\n",
              "      flex-wrap:wrap;\n",
              "      gap: 12px;\n",
              "    }\n",
              "\n",
              "    .colab-df-convert {\n",
              "      background-color: #E8F0FE;\n",
              "      border: none;\n",
              "      border-radius: 50%;\n",
              "      cursor: pointer;\n",
              "      display: none;\n",
              "      fill: #1967D2;\n",
              "      height: 32px;\n",
              "      padding: 0 0 0 0;\n",
              "      width: 32px;\n",
              "    }\n",
              "\n",
              "    .colab-df-convert:hover {\n",
              "      background-color: #E2EBFA;\n",
              "      box-shadow: 0px 1px 2px rgba(60, 64, 67, 0.3), 0px 1px 3px 1px rgba(60, 64, 67, 0.15);\n",
              "      fill: #174EA6;\n",
              "    }\n",
              "\n",
              "    [theme=dark] .colab-df-convert {\n",
              "      background-color: #3B4455;\n",
              "      fill: #D2E3FC;\n",
              "    }\n",
              "\n",
              "    [theme=dark] .colab-df-convert:hover {\n",
              "      background-color: #434B5C;\n",
              "      box-shadow: 0px 1px 3px 1px rgba(0, 0, 0, 0.15);\n",
              "      filter: drop-shadow(0px 1px 2px rgba(0, 0, 0, 0.3));\n",
              "      fill: #FFFFFF;\n",
              "    }\n",
              "  </style>\n",
              "\n",
              "      <script>\n",
              "        const buttonEl =\n",
              "          document.querySelector('#df-48503d78-eefd-498d-8a35-c027a7e26830 button.colab-df-convert');\n",
              "        buttonEl.style.display =\n",
              "          google.colab.kernel.accessAllowed ? 'block' : 'none';\n",
              "\n",
              "        async function convertToInteractive(key) {\n",
              "          const element = document.querySelector('#df-48503d78-eefd-498d-8a35-c027a7e26830');\n",
              "          const dataTable =\n",
              "            await google.colab.kernel.invokeFunction('convertToInteractive',\n",
              "                                                     [key], {});\n",
              "          if (!dataTable) return;\n",
              "\n",
              "          const docLinkHtml = 'Like what you see? Visit the ' +\n",
              "            '<a target=\"_blank\" href=https://colab.research.google.com/notebooks/data_table.ipynb>data table notebook</a>'\n",
              "            + ' to learn more about interactive tables.';\n",
              "          element.innerHTML = '';\n",
              "          dataTable['output_type'] = 'display_data';\n",
              "          await google.colab.output.renderOutput(dataTable, element);\n",
              "          const docLink = document.createElement('div');\n",
              "          docLink.innerHTML = docLinkHtml;\n",
              "          element.appendChild(docLink);\n",
              "        }\n",
              "      </script>\n",
              "    </div>\n",
              "  </div>\n",
              "  "
            ]
          },
          "metadata": {},
          "execution_count": 43
        }
      ]
    },
    {
      "cell_type": "code",
      "source": [
        "parameter = 'VeryActiveMinutes'\n",
        "column = ['VeryActiveMinutes']\n",
        "active_mean_distance = []\n",
        "for i in range(len(days)):\n",
        "  active_mean = dailyActivity_merged[dailyActivity_merged['WeekDay'] == days[i]][parameter].mean()\n",
        "  active_mean_distance.append(active_mean)\n",
        "\n",
        "df_mean_dist[column[0]] = active_mean_distance"
      ],
      "metadata": {
        "colab": {
          "base_uri": "https://localhost:8080/",
          "height": 269
        },
        "id": "89AcBZFp3qUJ",
        "outputId": "43314eab-381d-4427-a171-8f77aeca903e"
      },
      "execution_count": null,
      "outputs": [
        {
          "output_type": "execute_result",
          "data": {
            "text/plain": [
              "   active_mean_day       Days  Calories_mean  TotalSteps_mean  \\\n",
              "0         1.537333     Monday    2324.208333      7780.866667   \n",
              "1         1.613289    Tuesday    2356.013158      8125.006579   \n",
              "2         1.633467  Wednesday    2302.620000      7559.373333   \n",
              "3         1.390476   Thursday    2199.571429      7405.836735   \n",
              "4         1.312937     Friday    2331.785714      7448.230159   \n",
              "5         1.514597   Saturday    2354.967742      8152.975806   \n",
              "6         1.488926     Sunday    2263.000000      6933.231405   \n",
              "\n",
              "   TrackerDistance_mean  VeryActiveMinutes  \n",
              "0              5.528750          23.108333  \n",
              "1              5.812829          22.953947  \n",
              "2              5.467600          20.780000  \n",
              "3              5.287415          19.408163  \n",
              "4              5.302936          20.055556  \n",
              "5              5.854677          21.919355  \n",
              "6              5.027190          19.983471  "
            ],
            "text/html": [
              "\n",
              "  <div id=\"df-234cef91-8a29-4a04-8480-d00d870f4b2a\">\n",
              "    <div class=\"colab-df-container\">\n",
              "      <div>\n",
              "<style scoped>\n",
              "    .dataframe tbody tr th:only-of-type {\n",
              "        vertical-align: middle;\n",
              "    }\n",
              "\n",
              "    .dataframe tbody tr th {\n",
              "        vertical-align: top;\n",
              "    }\n",
              "\n",
              "    .dataframe thead th {\n",
              "        text-align: right;\n",
              "    }\n",
              "</style>\n",
              "<table border=\"1\" class=\"dataframe\">\n",
              "  <thead>\n",
              "    <tr style=\"text-align: right;\">\n",
              "      <th></th>\n",
              "      <th>active_mean_day</th>\n",
              "      <th>Days</th>\n",
              "      <th>Calories_mean</th>\n",
              "      <th>TotalSteps_mean</th>\n",
              "      <th>TrackerDistance_mean</th>\n",
              "      <th>VeryActiveMinutes</th>\n",
              "    </tr>\n",
              "  </thead>\n",
              "  <tbody>\n",
              "    <tr>\n",
              "      <th>0</th>\n",
              "      <td>1.537333</td>\n",
              "      <td>Monday</td>\n",
              "      <td>2324.208333</td>\n",
              "      <td>7780.866667</td>\n",
              "      <td>5.528750</td>\n",
              "      <td>23.108333</td>\n",
              "    </tr>\n",
              "    <tr>\n",
              "      <th>1</th>\n",
              "      <td>1.613289</td>\n",
              "      <td>Tuesday</td>\n",
              "      <td>2356.013158</td>\n",
              "      <td>8125.006579</td>\n",
              "      <td>5.812829</td>\n",
              "      <td>22.953947</td>\n",
              "    </tr>\n",
              "    <tr>\n",
              "      <th>2</th>\n",
              "      <td>1.633467</td>\n",
              "      <td>Wednesday</td>\n",
              "      <td>2302.620000</td>\n",
              "      <td>7559.373333</td>\n",
              "      <td>5.467600</td>\n",
              "      <td>20.780000</td>\n",
              "    </tr>\n",
              "    <tr>\n",
              "      <th>3</th>\n",
              "      <td>1.390476</td>\n",
              "      <td>Thursday</td>\n",
              "      <td>2199.571429</td>\n",
              "      <td>7405.836735</td>\n",
              "      <td>5.287415</td>\n",
              "      <td>19.408163</td>\n",
              "    </tr>\n",
              "    <tr>\n",
              "      <th>4</th>\n",
              "      <td>1.312937</td>\n",
              "      <td>Friday</td>\n",
              "      <td>2331.785714</td>\n",
              "      <td>7448.230159</td>\n",
              "      <td>5.302936</td>\n",
              "      <td>20.055556</td>\n",
              "    </tr>\n",
              "    <tr>\n",
              "      <th>5</th>\n",
              "      <td>1.514597</td>\n",
              "      <td>Saturday</td>\n",
              "      <td>2354.967742</td>\n",
              "      <td>8152.975806</td>\n",
              "      <td>5.854677</td>\n",
              "      <td>21.919355</td>\n",
              "    </tr>\n",
              "    <tr>\n",
              "      <th>6</th>\n",
              "      <td>1.488926</td>\n",
              "      <td>Sunday</td>\n",
              "      <td>2263.000000</td>\n",
              "      <td>6933.231405</td>\n",
              "      <td>5.027190</td>\n",
              "      <td>19.983471</td>\n",
              "    </tr>\n",
              "  </tbody>\n",
              "</table>\n",
              "</div>\n",
              "      <button class=\"colab-df-convert\" onclick=\"convertToInteractive('df-234cef91-8a29-4a04-8480-d00d870f4b2a')\"\n",
              "              title=\"Convert this dataframe to an interactive table.\"\n",
              "              style=\"display:none;\">\n",
              "        \n",
              "  <svg xmlns=\"http://www.w3.org/2000/svg\" height=\"24px\"viewBox=\"0 0 24 24\"\n",
              "       width=\"24px\">\n",
              "    <path d=\"M0 0h24v24H0V0z\" fill=\"none\"/>\n",
              "    <path d=\"M18.56 5.44l.94 2.06.94-2.06 2.06-.94-2.06-.94-.94-2.06-.94 2.06-2.06.94zm-11 1L8.5 8.5l.94-2.06 2.06-.94-2.06-.94L8.5 2.5l-.94 2.06-2.06.94zm10 10l.94 2.06.94-2.06 2.06-.94-2.06-.94-.94-2.06-.94 2.06-2.06.94z\"/><path d=\"M17.41 7.96l-1.37-1.37c-.4-.4-.92-.59-1.43-.59-.52 0-1.04.2-1.43.59L10.3 9.45l-7.72 7.72c-.78.78-.78 2.05 0 2.83L4 21.41c.39.39.9.59 1.41.59.51 0 1.02-.2 1.41-.59l7.78-7.78 2.81-2.81c.8-.78.8-2.07 0-2.86zM5.41 20L4 18.59l7.72-7.72 1.47 1.35L5.41 20z\"/>\n",
              "  </svg>\n",
              "      </button>\n",
              "      \n",
              "  <style>\n",
              "    .colab-df-container {\n",
              "      display:flex;\n",
              "      flex-wrap:wrap;\n",
              "      gap: 12px;\n",
              "    }\n",
              "\n",
              "    .colab-df-convert {\n",
              "      background-color: #E8F0FE;\n",
              "      border: none;\n",
              "      border-radius: 50%;\n",
              "      cursor: pointer;\n",
              "      display: none;\n",
              "      fill: #1967D2;\n",
              "      height: 32px;\n",
              "      padding: 0 0 0 0;\n",
              "      width: 32px;\n",
              "    }\n",
              "\n",
              "    .colab-df-convert:hover {\n",
              "      background-color: #E2EBFA;\n",
              "      box-shadow: 0px 1px 2px rgba(60, 64, 67, 0.3), 0px 1px 3px 1px rgba(60, 64, 67, 0.15);\n",
              "      fill: #174EA6;\n",
              "    }\n",
              "\n",
              "    [theme=dark] .colab-df-convert {\n",
              "      background-color: #3B4455;\n",
              "      fill: #D2E3FC;\n",
              "    }\n",
              "\n",
              "    [theme=dark] .colab-df-convert:hover {\n",
              "      background-color: #434B5C;\n",
              "      box-shadow: 0px 1px 3px 1px rgba(0, 0, 0, 0.15);\n",
              "      filter: drop-shadow(0px 1px 2px rgba(0, 0, 0, 0.3));\n",
              "      fill: #FFFFFF;\n",
              "    }\n",
              "  </style>\n",
              "\n",
              "      <script>\n",
              "        const buttonEl =\n",
              "          document.querySelector('#df-234cef91-8a29-4a04-8480-d00d870f4b2a button.colab-df-convert');\n",
              "        buttonEl.style.display =\n",
              "          google.colab.kernel.accessAllowed ? 'block' : 'none';\n",
              "\n",
              "        async function convertToInteractive(key) {\n",
              "          const element = document.querySelector('#df-234cef91-8a29-4a04-8480-d00d870f4b2a');\n",
              "          const dataTable =\n",
              "            await google.colab.kernel.invokeFunction('convertToInteractive',\n",
              "                                                     [key], {});\n",
              "          if (!dataTable) return;\n",
              "\n",
              "          const docLinkHtml = 'Like what you see? Visit the ' +\n",
              "            '<a target=\"_blank\" href=https://colab.research.google.com/notebooks/data_table.ipynb>data table notebook</a>'\n",
              "            + ' to learn more about interactive tables.';\n",
              "          element.innerHTML = '';\n",
              "          dataTable['output_type'] = 'display_data';\n",
              "          await google.colab.output.renderOutput(dataTable, element);\n",
              "          const docLink = document.createElement('div');\n",
              "          docLink.innerHTML = docLinkHtml;\n",
              "          element.appendChild(docLink);\n",
              "        }\n",
              "      </script>\n",
              "    </div>\n",
              "  </div>\n",
              "  "
            ]
          },
          "metadata": {},
          "execution_count": 44
        }
      ]
    },
    {
      "cell_type": "code",
      "source": [
        "plt.figure(figsize=(15,8))\n",
        "ax = sns.boxplot(x='WeekDay', y='TotalSteps', data=dailyActivity_merged)"
      ],
      "metadata": {
        "colab": {
          "base_uri": "https://localhost:8080/",
          "height": 497
        },
        "id": "5KkS410lYvdV",
        "outputId": "11b9d830-f071-4d78-e070-80fcc47b15ea"
      },
      "execution_count": null,
      "outputs": [
        {
          "output_type": "display_data",
          "data": {
            "text/plain": [
              "<Figure size 1080x576 with 1 Axes>"
            ],
            "image/png": "[encoded data removed]"
          },
          "metadata": {
            "needs_background": "light"
          }
        }
      ]
    },
    {
      "cell_type": "code",
      "source": [
        "plt.figure(figsize=(15,8))\n",
        "ax = sns.boxplot(x='WeekDay', y='VeryActiveDistance', data=dailyActivity_merged)"
      ],
      "metadata": {
        "colab": {
          "base_uri": "https://localhost:8080/",
          "height": 497
        },
        "id": "5lvXvHMCZjG5",
        "outputId": "2ce45fa8-c2e0-462e-8b97-e6b9c53d8a11"
      },
      "execution_count": null,
      "outputs": [
        {
          "output_type": "display_data",
          "data": {
            "text/plain": [
              "<Figure size 1080x576 with 1 Axes>"
            ],
            "image/png": "[encoded data removed]"
          },
          "metadata": {
            "needs_background": "light"
          }
        }
      ]
    },
    {
      "cell_type": "code",
      "source": [
        "plt.figure(figsize=(15,8))\n",
        "ax = sns.boxplot(x='WeekDay', y='VeryActiveMinutes', data=dailyActivity_merged)"
      ],
      "metadata": {
        "colab": {
          "base_uri": "https://localhost:8080/",
          "height": 497
        },
        "id": "7WzJjgUrqFGH",
        "outputId": "902d8c77-b0d8-49b2-f8ad-59b1fd4e64fa"
      },
      "execution_count": null,
      "outputs": [
        {
          "output_type": "display_data",
          "data": {
            "text/plain": [
              "<Figure size 1080x576 with 1 Axes>"
            ],
            "image/png": "[encoded data removed]"
          },
          "metadata": {
            "needs_background": "light"
          }
        }
      ]
    },
    {
      "cell_type": "code",
      "source": [
        "df_mean_dist.head()"
      ],
      "metadata": {
        "colab": {
          "base_uri": "https://localhost:8080/",
          "height": 206
        },
        "id": "ZII-wMMb6NYy",
        "outputId": "846f6ab0-d2d2-4fec-b509-c68b424d7d0e"
      },
      "execution_count": null,
      "outputs": [
        {
          "output_type": "execute_result",
          "data": {
            "text/plain": [
              "   active_mean_day       Days  Calories_mean  TotalSteps_mean  \\\n",
              "0         1.537333     Monday    2324.208333      7780.866667   \n",
              "1         1.613289    Tuesday    2356.013158      8125.006579   \n",
              "2         1.633467  Wednesday    2302.620000      7559.373333   \n",
              "3         1.390476   Thursday    2199.571429      7405.836735   \n",
              "4         1.312937     Friday    2331.785714      7448.230159   \n",
              "\n",
              "   TrackerDistance_mean  VeryActiveMinutes  \n",
              "0              5.528750          23.108333  \n",
              "1              5.812829          22.953947  \n",
              "2              5.467600          20.780000  \n",
              "3              5.287415          19.408163  \n",
              "4              5.302936          20.055556  "
            ],
            "text/html": [
              "\n",
              "  <div id=\"df-7f6d3307-4fd0-491c-9068-e69576de6b20\">\n",
              "    <div class=\"colab-df-container\">\n",
              "      <div>\n",
              "<style scoped>\n",
              "    .dataframe tbody tr th:only-of-type {\n",
              "        vertical-align: middle;\n",
              "    }\n",
              "\n",
              "    .dataframe tbody tr th {\n",
              "        vertical-align: top;\n",
              "    }\n",
              "\n",
              "    .dataframe thead th {\n",
              "        text-align: right;\n",
              "    }\n",
              "</style>\n",
              "<table border=\"1\" class=\"dataframe\">\n",
              "  <thead>\n",
              "    <tr style=\"text-align: right;\">\n",
              "      <th></th>\n",
              "      <th>active_mean_day</th>\n",
              "      <th>Days</th>\n",
              "      <th>Calories_mean</th>\n",
              "      <th>TotalSteps_mean</th>\n",
              "      <th>TrackerDistance_mean</th>\n",
              "      <th>VeryActiveMinutes</th>\n",
              "    </tr>\n",
              "  </thead>\n",
              "  <tbody>\n",
              "    <tr>\n",
              "      <th>0</th>\n",
              "      <td>1.537333</td>\n",
              "      <td>Monday</td>\n",
              "      <td>2324.208333</td>\n",
              "      <td>7780.866667</td>\n",
              "      <td>5.528750</td>\n",
              "      <td>23.108333</td>\n",
              "    </tr>\n",
              "    <tr>\n",
              "      <th>1</th>\n",
              "      <td>1.613289</td>\n",
              "      <td>Tuesday</td>\n",
              "      <td>2356.013158</td>\n",
              "      <td>8125.006579</td>\n",
              "      <td>5.812829</td>\n",
              "      <td>22.953947</td>\n",
              "    </tr>\n",
              "    <tr>\n",
              "      <th>2</th>\n",
              "      <td>1.633467</td>\n",
              "      <td>Wednesday</td>\n",
              "      <td>2302.620000</td>\n",
              "      <td>7559.373333</td>\n",
              "      <td>5.467600</td>\n",
              "      <td>20.780000</td>\n",
              "    </tr>\n",
              "    <tr>\n",
              "      <th>3</th>\n",
              "      <td>1.390476</td>\n",
              "      <td>Thursday</td>\n",
              "      <td>2199.571429</td>\n",
              "      <td>7405.836735</td>\n",
              "      <td>5.287415</td>\n",
              "      <td>19.408163</td>\n",
              "    </tr>\n",
              "    <tr>\n",
              "      <th>4</th>\n",
              "      <td>1.312937</td>\n",
              "      <td>Friday</td>\n",
              "      <td>2331.785714</td>\n",
              "      <td>7448.230159</td>\n",
              "      <td>5.302936</td>\n",
              "      <td>20.055556</td>\n",
              "    </tr>\n",
              "  </tbody>\n",
              "</table>\n",
              "</div>\n",
              "      <button class=\"colab-df-convert\" onclick=\"convertToInteractive('df-7f6d3307-4fd0-491c-9068-e69576de6b20')\"\n",
              "              title=\"Convert this dataframe to an interactive table.\"\n",
              "              style=\"display:none;\">\n",
              "        \n",
              "  <svg xmlns=\"http://www.w3.org/2000/svg\" height=\"24px\"viewBox=\"0 0 24 24\"\n",
              "       width=\"24px\">\n",
              "    <path d=\"M0 0h24v24H0V0z\" fill=\"none\"/>\n",
              "    <path d=\"M18.56 5.44l.94 2.06.94-2.06 2.06-.94-2.06-.94-.94-2.06-.94 2.06-2.06.94zm-11 1L8.5 8.5l.94-2.06 2.06-.94-2.06-.94L8.5 2.5l-.94 2.06-2.06.94zm10 10l.94 2.06.94-2.06 2.06-.94-2.06-.94-.94-2.06-.94 2.06-2.06.94z\"/><path d=\"M17.41 7.96l-1.37-1.37c-.4-.4-.92-.59-1.43-.59-.52 0-1.04.2-1.43.59L10.3 9.45l-7.72 7.72c-.78.78-.78 2.05 0 2.83L4 21.41c.39.39.9.59 1.41.59.51 0 1.02-.2 1.41-.59l7.78-7.78 2.81-2.81c.8-.78.8-2.07 0-2.86zM5.41 20L4 18.59l7.72-7.72 1.47 1.35L5.41 20z\"/>\n",
              "  </svg>\n",
              "      </button>\n",
              "      \n",
              "  <style>\n",
              "    .colab-df-container {\n",
              "      display:flex;\n",
              "      flex-wrap:wrap;\n",
              "      gap: 12px;\n",
              "    }\n",
              "\n",
              "    .colab-df-convert {\n",
              "      background-color: #E8F0FE;\n",
              "      border: none;\n",
              "      border-radius: 50%;\n",
              "      cursor: pointer;\n",
              "      display: none;\n",
              "      fill: #1967D2;\n",
              "      height: 32px;\n",
              "      padding: 0 0 0 0;\n",
              "      width: 32px;\n",
              "    }\n",
              "\n",
              "    .colab-df-convert:hover {\n",
              "      background-color: #E2EBFA;\n",
              "      box-shadow: 0px 1px 2px rgba(60, 64, 67, 0.3), 0px 1px 3px 1px rgba(60, 64, 67, 0.15);\n",
              "      fill: #174EA6;\n",
              "    }\n",
              "\n",
              "    [theme=dark] .colab-df-convert {\n",
              "      background-color: #3B4455;\n",
              "      fill: #D2E3FC;\n",
              "    }\n",
              "\n",
              "    [theme=dark] .colab-df-convert:hover {\n",
              "      background-color: #434B5C;\n",
              "      box-shadow: 0px 1px 3px 1px rgba(0, 0, 0, 0.15);\n",
              "      filter: drop-shadow(0px 1px 2px rgba(0, 0, 0, 0.3));\n",
              "      fill: #FFFFFF;\n",
              "    }\n",
              "  </style>\n",
              "\n",
              "      <script>\n",
              "        const buttonEl =\n",
              "          document.querySelector('#df-7f6d3307-4fd0-491c-9068-e69576de6b20 button.colab-df-convert');\n",
              "        buttonEl.style.display =\n",
              "          google.colab.kernel.accessAllowed ? 'block' : 'none';\n",
              "\n",
              "        async function convertToInteractive(key) {\n",
              "          const element = document.querySelector('#df-7f6d3307-4fd0-491c-9068-e69576de6b20');\n",
              "          const dataTable =\n",
              "            await google.colab.kernel.invokeFunction('convertToInteractive',\n",
              "                                                     [key], {});\n",
              "          if (!dataTable) return;\n",
              "\n",
              "          const docLinkHtml = 'Like what you see? Visit the ' +\n",
              "            '<a target=\"_blank\" href=https://colab.research.google.com/notebooks/data_table.ipynb>data table notebook</a>'\n",
              "            + ' to learn more about interactive tables.';\n",
              "          element.innerHTML = '';\n",
              "          dataTable['output_type'] = 'display_data';\n",
              "          await google.colab.output.renderOutput(dataTable, element);\n",
              "          const docLink = document.createElement('div');\n",
              "          docLink.innerHTML = docLinkHtml;\n",
              "          element.appendChild(docLink);\n",
              "        }\n",
              "      </script>\n",
              "    </div>\n",
              "  </div>\n",
              "  "
            ]
          },
          "metadata": {},
          "execution_count": 49
        }
      ]
    },
    {
      "cell_type": "code",
      "source": [
        "plt.figure(figsize=(15,8))\n",
        "ax = sns.barplot(x=\"Days\", y=\"active_mean_day\", data=df_mean_dist)"
      ],
      "metadata": {
        "colab": {
          "base_uri": "https://localhost:8080/",
          "height": 497
        },
        "id": "p-7LrGSx4VlH",
        "outputId": "cf3afa93-5248-4eb6-d8cc-24368e259d66"
      },
      "execution_count": null,
      "outputs": [
        {
          "output_type": "display_data",
          "data": {
            "text/plain": [
              "<Figure size 1080x576 with 1 Axes>"
            ],
            "image/png": "[encoded data removed]"
          },
          "metadata": {
            "needs_background": "light"
          }
        }
      ]
    },
    {
      "cell_type": "code",
      "source": [
        "plt.figure(figsize=(15,8))\n",
        "ax = sns.barplot(x=\"Days\", y=\"TotalSteps_mean\", data=df_mean_dist)"
      ],
      "metadata": {
        "colab": {
          "base_uri": "https://localhost:8080/",
          "height": 497
        },
        "id": "CXaXjCFo6UCG",
        "outputId": "42d79ce2-c933-4552-a52b-bbe45fcc5b6f"
      },
      "execution_count": null,
      "outputs": [
        {
          "output_type": "display_data",
          "data": {
            "text/plain": [
              "<Figure size 1080x576 with 1 Axes>"
            ],
            "image/png": "[encoded data removed]"
          },
          "metadata": {
            "needs_background": "light"
          }
        }
      ]
    },
    {
      "cell_type": "code",
      "source": [
        "plt.figure(figsize=(15,8))\n",
        "ax = sns.barplot(x=\"Days\", y=\"TrackerDistance_mean\", data=df_mean_dist)"
      ],
      "metadata": {
        "colab": {
          "base_uri": "https://localhost:8080/",
          "height": 497
        },
        "id": "QicRRZ7n6qD6",
        "outputId": "72a0c509-7437-4ca5-be83-68dfe64c1327"
      },
      "execution_count": null,
      "outputs": [
        {
          "output_type": "display_data",
          "data": {
            "text/plain": [
              "<Figure size 1080x576 with 1 Axes>"
            ],
            "image/png": "[encoded data removed]"
          },
          "metadata": {
            "needs_background": "light"
          }
        }
      ]
    },
    {
      "cell_type": "code",
      "source": [
        "plt.figure(figsize=(15,8))\n",
        "ax = sns.barplot(x=\"Days\", y=\"Calories_mean\", data=df_mean_dist)"
      ],
      "metadata": {
        "colab": {
          "base_uri": "https://localhost:8080/",
          "height": 497
        },
        "id": "mOD-olSo6zMG",
        "outputId": "3db9cf40-71a7-483d-daf2-80b8e5d1b831"
      },
      "execution_count": null,
      "outputs": [
        {
          "output_type": "display_data",
          "data": {
            "text/plain": [
              "<Figure size 1080x576 with 1 Axes>"
            ],
            "image/png": "[encoded data removed]"
          },
          "metadata": {
            "needs_background": "light"
          }
        }
      ]
    },
    {
      "cell_type": "markdown",
      "source": [
        "- From the *Weekday* vs *VeryActiveMinutes* consumer were more actively involve on **Monday**, **Tuesday**, **Satarday**.\n",
        "- And Less number minues involve in daily workout on **Sunday**, **Wednesday** and **Thursday**.\n",
        "- But when we plot bargraph of Avery Active Parameter **distance**, **Minutes**, **TotalSteps**. Consumer were more actively involve in workout for more number of minutes, more steps & Distance on **Monday**, **Tuesday** and **Saturday**. As of they were more motivate by Weekend refreshment before and after. "
      ],
      "metadata": {
        "id": "Qxqanmb07DEm"
      }
    },
    {
      "cell_type": "markdown",
      "source": [
        "## Analyze of data by finding correlation between attributes"
      ],
      "metadata": {
        "id": "EpT9FWyGL-Gh"
      }
    },
    {
      "cell_type": "markdown",
      "source": [
        "#### Finding a corelation between **Calories** and **TotalSteps**"
      ],
      "metadata": {
        "id": "IgKB7I0-Hf7_"
      }
    },
    {
      "cell_type": "code",
      "source": [
        "plt.figure(figsize=(15,8))\n",
        "sns.scatterplot(data = dailyActivity_merged, x = 'TotalSteps', y ='Calories')"
      ],
      "metadata": {
        "colab": {
          "base_uri": "https://localhost:8080/",
          "height": 514
        },
        "id": "ahiW88LaI0G6",
        "outputId": "66319fe7-e6c3-44ac-c464-2a3e9e1bf5d2"
      },
      "execution_count": null,
      "outputs": [
        {
          "output_type": "execute_result",
          "data": {
            "text/plain": [
              "<matplotlib.axes._subplots.AxesSubplot at 0x7f5518a2dfd0>"
            ]
          },
          "metadata": {},
          "execution_count": 99
        },
        {
          "output_type": "display_data",
          "data": {
            "text/plain": [
              "<Figure size 1080x576 with 1 Axes>"
            ],
            "image/png": "[encoded data removed]"
          },
          "metadata": {
            "needs_background": "light"
          }
        }
      ]
    },
    {
      "cell_type": "markdown",
      "source": [
        "- The Total Number of steps a user do is positively related to Calories Burn each.\n",
        "- So some how we motivate user to maximum number of step, more the the user will get motivation to burn their calories."
      ],
      "metadata": {
        "id": "uzN4HnXSLKds"
      }
    },
    {
      "cell_type": "markdown",
      "source": [
        "### Finding relation strength between **Calories** vs **ModeratelyActiveDistance** and **Calories** vs **VeryActiveDistance**"
      ],
      "metadata": {
        "id": "uAdql0yAL8F4"
      }
    },
    {
      "cell_type": "code",
      "source": [
        "plt.figure(figsize=(15,8))\n",
        "sns.scatterplot(data = dailyActivity_merged, x = 'ModeratelyActiveDistance', y ='Calories')"
      ],
      "metadata": {
        "colab": {
          "base_uri": "https://localhost:8080/",
          "height": 514
        },
        "id": "FacVIBNeHdoD",
        "outputId": "b15dd58f-9a61-4deb-cd23-969c4a2d8e0f"
      },
      "execution_count": null,
      "outputs": [
        {
          "output_type": "execute_result",
          "data": {
            "text/plain": [
              "<matplotlib.axes._subplots.AxesSubplot at 0x7f5518ab1f50>"
            ]
          },
          "metadata": {},
          "execution_count": 98
        },
        {
          "output_type": "display_data",
          "data": {
            "text/plain": [
              "<Figure size 1080x576 with 1 Axes>"
            ],
            "image/png": "[encoded data removed]"
          },
          "metadata": {
            "needs_background": "light"
          }
        }
      ]
    },
    {
      "cell_type": "code",
      "source": [
        "plt.figure(figsize=(15,8))\n",
        "sns.scatterplot(x= dailyActivity_merged['VeryActiveDistance'], y=dailyActivity_merged['Calories'])"
      ],
      "metadata": {
        "colab": {
          "base_uri": "https://localhost:8080/",
          "height": 514
        },
        "id": "NZWcJ8yKJny1",
        "outputId": "5b5fa708-029e-4a05-c2bc-179d3c43acc5"
      },
      "execution_count": null,
      "outputs": [
        {
          "output_type": "execute_result",
          "data": {
            "text/plain": [
              "<matplotlib.axes._subplots.AxesSubplot at 0x7f551907ae10>"
            ]
          },
          "metadata": {},
          "execution_count": 96
        },
        {
          "output_type": "display_data",
          "data": {
            "text/plain": [
              "<Figure size 1080x576 with 1 Axes>"
            ],
            "image/png": "[encoded data removed]"
          },
          "metadata": {
            "needs_background": "light"
          }
        }
      ]
    },
    {
      "cell_type": "markdown",
      "source": [
        "- The positive Strength of Correlation between VeryActiveDistance vs Calories is more compare to the Correlation between ModeratelyActiveDistance vs Calories.\n",
        "- So increasing more time of user on VeryActiveDistance, user will be able to burn more Calories."
      ],
      "metadata": {
        "id": "5Mj1GRxvM0Oz"
      }
    },
    {
      "cell_type": "markdown",
      "source": [
        "# sleepDay_merged Data Analysis:"
      ],
      "metadata": {
        "id": "MFpjFYCS9YcP"
      }
    },
    {
      "cell_type": "code",
      "source": [
        "sleepDay_merged.head()"
      ],
      "metadata": {
        "colab": {
          "base_uri": "https://localhost:8080/",
          "height": 206
        },
        "id": "1f6DpLt86-Lk",
        "outputId": "96580eb5-3a91-4ce9-ebf1-62224ef486b2"
      },
      "execution_count": null,
      "outputs": [
        {
          "output_type": "execute_result",
          "data": {
            "text/plain": [
              "    SleepDay  TotalSleepRecords  TotalMinutesAsleep  TotalTimeInBed\n",
              "0 2016-04-12                  1                 327             346\n",
              "1 2016-04-13                  2                 384             407\n",
              "2 2016-04-15                  1                 412             442\n",
              "3 2016-04-16                  2                 340             367\n",
              "4 2016-04-17                  1                 700             712"
            ],
            "text/html": [
              "\n",
              "  <div id=\"df-0f636a05-ec92-4c8c-ab1d-a8ae752bbe18\">\n",
              "    <div class=\"colab-df-container\">\n",
              "      <div>\n",
              "<style scoped>\n",
              "    .dataframe tbody tr th:only-of-type {\n",
              "        vertical-align: middle;\n",
              "    }\n",
              "\n",
              "    .dataframe tbody tr th {\n",
              "        vertical-align: top;\n",
              "    }\n",
              "\n",
              "    .dataframe thead th {\n",
              "        text-align: right;\n",
              "    }\n",
              "</style>\n",
              "<table border=\"1\" class=\"dataframe\">\n",
              "  <thead>\n",
              "    <tr style=\"text-align: right;\">\n",
              "      <th></th>\n",
              "      <th>SleepDay</th>\n",
              "      <th>TotalSleepRecords</th>\n",
              "      <th>TotalMinutesAsleep</th>\n",
              "      <th>TotalTimeInBed</th>\n",
              "    </tr>\n",
              "  </thead>\n",
              "  <tbody>\n",
              "    <tr>\n",
              "      <th>0</th>\n",
              "      <td>2016-04-12</td>\n",
              "      <td>1</td>\n",
              "      <td>327</td>\n",
              "      <td>346</td>\n",
              "    </tr>\n",
              "    <tr>\n",
              "      <th>1</th>\n",
              "      <td>2016-04-13</td>\n",
              "      <td>2</td>\n",
              "      <td>384</td>\n",
              "      <td>407</td>\n",
              "    </tr>\n",
              "    <tr>\n",
              "      <th>2</th>\n",
              "      <td>2016-04-15</td>\n",
              "      <td>1</td>\n",
              "      <td>412</td>\n",
              "      <td>442</td>\n",
              "    </tr>\n",
              "    <tr>\n",
              "      <th>3</th>\n",
              "      <td>2016-04-16</td>\n",
              "      <td>2</td>\n",
              "      <td>340</td>\n",
              "      <td>367</td>\n",
              "    </tr>\n",
              "    <tr>\n",
              "      <th>4</th>\n",
              "      <td>2016-04-17</td>\n",
              "      <td>1</td>\n",
              "      <td>700</td>\n",
              "      <td>712</td>\n",
              "    </tr>\n",
              "  </tbody>\n",
              "</table>\n",
              "</div>\n",
              "      <button class=\"colab-df-convert\" onclick=\"convertToInteractive('df-0f636a05-ec92-4c8c-ab1d-a8ae752bbe18')\"\n",
              "              title=\"Convert this dataframe to an interactive table.\"\n",
              "              style=\"display:none;\">\n",
              "        \n",
              "  <svg xmlns=\"http://www.w3.org/2000/svg\" height=\"24px\"viewBox=\"0 0 24 24\"\n",
              "       width=\"24px\">\n",
              "    <path d=\"M0 0h24v24H0V0z\" fill=\"none\"/>\n",
              "    <path d=\"M18.56 5.44l.94 2.06.94-2.06 2.06-.94-2.06-.94-.94-2.06-.94 2.06-2.06.94zm-11 1L8.5 8.5l.94-2.06 2.06-.94-2.06-.94L8.5 2.5l-.94 2.06-2.06.94zm10 10l.94 2.06.94-2.06 2.06-.94-2.06-.94-.94-2.06-.94 2.06-2.06.94z\"/><path d=\"M17.41 7.96l-1.37-1.37c-.4-.4-.92-.59-1.43-.59-.52 0-1.04.2-1.43.59L10.3 9.45l-7.72 7.72c-.78.78-.78 2.05 0 2.83L4 21.41c.39.39.9.59 1.41.59.51 0 1.02-.2 1.41-.59l7.78-7.78 2.81-2.81c.8-.78.8-2.07 0-2.86zM5.41 20L4 18.59l7.72-7.72 1.47 1.35L5.41 20z\"/>\n",
              "  </svg>\n",
              "      </button>\n",
              "      \n",
              "  <style>\n",
              "    .colab-df-container {\n",
              "      display:flex;\n",
              "      flex-wrap:wrap;\n",
              "      gap: 12px;\n",
              "    }\n",
              "\n",
              "    .colab-df-convert {\n",
              "      background-color: #E8F0FE;\n",
              "      border: none;\n",
              "      border-radius: 50%;\n",
              "      cursor: pointer;\n",
              "      display: none;\n",
              "      fill: #1967D2;\n",
              "      height: 32px;\n",
              "      padding: 0 0 0 0;\n",
              "      width: 32px;\n",
              "    }\n",
              "\n",
              "    .colab-df-convert:hover {\n",
              "      background-color: #E2EBFA;\n",
              "      box-shadow: 0px 1px 2px rgba(60, 64, 67, 0.3), 0px 1px 3px 1px rgba(60, 64, 67, 0.15);\n",
              "      fill: #174EA6;\n",
              "    }\n",
              "\n",
              "    [theme=dark] .colab-df-convert {\n",
              "      background-color: #3B4455;\n",
              "      fill: #D2E3FC;\n",
              "    }\n",
              "\n",
              "    [theme=dark] .colab-df-convert:hover {\n",
              "      background-color: #434B5C;\n",
              "      box-shadow: 0px 1px 3px 1px rgba(0, 0, 0, 0.15);\n",
              "      filter: drop-shadow(0px 1px 2px rgba(0, 0, 0, 0.3));\n",
              "      fill: #FFFFFF;\n",
              "    }\n",
              "  </style>\n",
              "\n",
              "      <script>\n",
              "        const buttonEl =\n",
              "          document.querySelector('#df-0f636a05-ec92-4c8c-ab1d-a8ae752bbe18 button.colab-df-convert');\n",
              "        buttonEl.style.display =\n",
              "          google.colab.kernel.accessAllowed ? 'block' : 'none';\n",
              "\n",
              "        async function convertToInteractive(key) {\n",
              "          const element = document.querySelector('#df-0f636a05-ec92-4c8c-ab1d-a8ae752bbe18');\n",
              "          const dataTable =\n",
              "            await google.colab.kernel.invokeFunction('convertToInteractive',\n",
              "                                                     [key], {});\n",
              "          if (!dataTable) return;\n",
              "\n",
              "          const docLinkHtml = 'Like what you see? Visit the ' +\n",
              "            '<a target=\"_blank\" href=https://colab.research.google.com/notebooks/data_table.ipynb>data table notebook</a>'\n",
              "            + ' to learn more about interactive tables.';\n",
              "          element.innerHTML = '';\n",
              "          dataTable['output_type'] = 'display_data';\n",
              "          await google.colab.output.renderOutput(dataTable, element);\n",
              "          const docLink = document.createElement('div');\n",
              "          docLink.innerHTML = docLinkHtml;\n",
              "          element.appendChild(docLink);\n",
              "        }\n",
              "      </script>\n",
              "    </div>\n",
              "  </div>\n",
              "  "
            ]
          },
          "metadata": {},
          "execution_count": 54
        }
      ]
    },
    {
      "cell_type": "code",
      "source": [
        "sleepDay_merged.TotalSleepRecords.value_counts()"
      ],
      "metadata": {
        "colab": {
          "base_uri": "https://localhost:8080/"
        },
        "id": "sTQ0b25nGm--",
        "outputId": "18f45dd6-f255-428a-b17f-8f570d971b02"
      },
      "execution_count": null,
      "outputs": [
        {
          "output_type": "execute_result",
          "data": {
            "text/plain": [
              "1    367\n",
              "2     43\n",
              "3      3\n",
              "Name: TotalSleepRecords, dtype: int64"
            ]
          },
          "metadata": {},
          "execution_count": 83
        }
      ]
    },
    {
      "cell_type": "code",
      "source": [
        "plt.figure(figsize=(15,8))\n",
        "sns.scatterplot(x=\"TotalTimeInBed\", y=\"TotalMinutesAsleep\", data=sleepDay_merged)"
      ],
      "metadata": {
        "colab": {
          "base_uri": "https://localhost:8080/",
          "height": 514
        },
        "id": "I4tSswPrA6S2",
        "outputId": "c6cfcc7f-9894-44e6-b48a-9db3cf61ebd6"
      },
      "execution_count": null,
      "outputs": [
        {
          "output_type": "execute_result",
          "data": {
            "text/plain": [
              "<matplotlib.axes._subplots.AxesSubplot at 0x7f551b81b1d0>"
            ]
          },
          "metadata": {},
          "execution_count": 55
        },
        {
          "output_type": "display_data",
          "data": {
            "text/plain": [
              "<Figure size 1080x576 with 1 Axes>"
            ],
            "image/png": "[encoded data removed]"
          },
          "metadata": {
            "needs_background": "light"
          }
        }
      ]
    },
    {
      "cell_type": "code",
      "source": [
        "sleepDay_merged['TotalSleepRecords'].value_counts()"
      ],
      "metadata": {
        "colab": {
          "base_uri": "https://localhost:8080/"
        },
        "id": "e7QRa_uKBrMq",
        "outputId": "91ef6d05-19c2-4746-9fff-6fa4c80866a8"
      },
      "execution_count": null,
      "outputs": [
        {
          "output_type": "execute_result",
          "data": {
            "text/plain": [
              "1    367\n",
              "2     43\n",
              "3      3\n",
              "Name: TotalSleepRecords, dtype: int64"
            ]
          },
          "metadata": {},
          "execution_count": 57
        }
      ]
    },
    {
      "cell_type": "code",
      "source": [
        "plt.figure(figsize=(15,8))\n",
        "ax = sns.barplot(x=\"TotalSleepRecords\", y=\"TotalMinutesAsleep\", data=sleepDay_merged)"
      ],
      "metadata": {
        "colab": {
          "base_uri": "https://localhost:8080/",
          "height": 497
        },
        "id": "1a5KDskLBwTp",
        "outputId": "8a56ec56-d929-4681-8963-cdc4cf28087b"
      },
      "execution_count": null,
      "outputs": [
        {
          "output_type": "display_data",
          "data": {
            "text/plain": [
              "<Figure size 1080x576 with 1 Axes>"
            ],
            "image/png": "[encoded data removed]"
          },
          "metadata": {
            "needs_background": "light"
          }
        }
      ]
    },
    {
      "cell_type": "code",
      "source": [
        "sleepDay_merged['dfference'] = sleepDay_merged['TotalTimeInBed'] - sleepDay_merged['TotalMinutesAsleep']"
      ],
      "metadata": {
        "id": "y2-7HrVfCDxO"
      },
      "execution_count": null,
      "outputs": []
    },
    {
      "cell_type": "code",
      "source": [
        "plt.figure(figsize=(15,8))\n",
        "sns.histplot(sleepDay_merged['dfference'], kde=True)"
      ],
      "metadata": {
        "colab": {
          "base_uri": "https://localhost:8080/",
          "height": 514
        },
        "id": "7ANsBA2_IVCm",
        "outputId": "75c2bd50-f54a-4c29-b075-bfe27f4b51da"
      },
      "execution_count": null,
      "outputs": [
        {
          "output_type": "execute_result",
          "data": {
            "text/plain": [
              "<matplotlib.axes._subplots.AxesSubplot at 0x7f551b1bb850>"
            ]
          },
          "metadata": {},
          "execution_count": 60
        },
        {
          "output_type": "display_data",
          "data": {
            "text/plain": [
              "<Figure size 1080x576 with 1 Axes>"
            ],
            "image/png": "[encoded data removed]"
          },
          "metadata": {
            "needs_background": "light"
          }
        }
      ]
    },
    {
      "cell_type": "markdown",
      "source": [
        "- Their is direct positive relation between TotalInBed and TotalMinutesAsleep.\n",
        "- Some how we decrease TotalInBed time duration the more user will able to get involve into the Workout routine in morning."
      ],
      "metadata": {
        "id": "4nP_arwRNu3O"
      }
    },
    {
      "cell_type": "markdown",
      "source": [
        "# Conclusion and Recommendations\n",
        "\n",
        "- Overall, we see that many Bellabeat customers value the use of the fitness tracker. These customers are very health conscious and have a great appreciation for tracking their fitness and health statistics. This is a great way for the customers to set goals and hold themselves accountable. Bellabeat can allow their users to set daily/monthly targets, keep track of those targets and provide digital awards once those targets are met. The awards can be a digital image of an award, points to purchase add-ons (free bracelet, pendant for necklace, watch straps, or even replacement of old water bottle),or even provide priority passes to future events.\n",
        "\n",
        "- Lastly, Bellabeat can use the recommendations to reach various target audiences. They can tailor the strategies to make it feel more personal and offer features based on what individuals preference. Furthermore, to promote overall heatlh Bellabeat should encourage their users to continously track their sleep patterns and make the wearable devices comfortable for their users to sleep in."
      ],
      "metadata": {
        "id": "9V-xFoYBOVoI"
      }
    },
    {
      "cell_type": "code",
      "source": [
        ""
      ],
      "metadata": {
        "id": "u2E6a05dOUoU"
      },
      "execution_count": null,
      "outputs": []
    }
  ],
  "metadata": {
    "colab": {
      "name": "Catstone_2_Wellness_Technology_Company.ipynb",
      "provenance": []
    },
    "kernelspec": {
      "display_name": "Python 3",
      "name": "python3"
    },
    "language_info": {
      "name": "python"
    }
  },
  "nbformat": 4,
  "nbformat_minor": 0
}